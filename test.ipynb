{
 "cells": [
  {
   "cell_type": "code",
   "execution_count": 65,
   "metadata": {
    "collapsed": false,
    "deletable": true,
    "editable": true
   },
   "outputs": [],
   "source": [
    "a = b'\\xbf\\xbd'"
   ]
  },
  {
   "cell_type": "code",
   "execution_count": 67,
   "metadata": {
    "collapsed": false,
    "deletable": true,
    "editable": true
   },
   "outputs": [
    {
     "ename": "UnicodeDecodeError",
     "evalue": "'utf-8' codec can't decode byte 0xbf in position 0: invalid start byte",
     "output_type": "error",
     "traceback": [
      "\u001b[0;31m---------------------------------------------------------------------------\u001b[0m",
      "\u001b[0;31mUnicodeDecodeError\u001b[0m                        Traceback (most recent call last)",
      "\u001b[0;32m<ipython-input-67-3d146a4c38e4>\u001b[0m in \u001b[0;36m<module>\u001b[0;34m()\u001b[0m\n\u001b[0;32m----> 1\u001b[0;31m \u001b[0ma\u001b[0m\u001b[1;33m.\u001b[0m\u001b[0mdecode\u001b[0m\u001b[1;33m(\u001b[0m\u001b[1;34m'utf8'\u001b[0m\u001b[1;33m)\u001b[0m\u001b[1;33m\u001b[0m\u001b[0m\n\u001b[0m",
      "\u001b[0;31mUnicodeDecodeError\u001b[0m: 'utf-8' codec can't decode byte 0xbf in position 0: invalid start byte"
     ]
    }
   ],
   "source": [
    "a.decode('utf8')"
   ]
  },
  {
   "cell_type": "code",
   "execution_count": 70,
   "metadata": {
    "collapsed": false,
    "deletable": true,
    "editable": true
   },
   "outputs": [
    {
     "name": "stdout",
     "output_type": "stream",
     "text": [
      "你想要访问的记录没有找到\n"
     ]
    }
   ],
   "source": [
    "b = '\\u4f60\\u60f3\\u8981\\u8bbf\\u95ee\\u7684\\u8bb0\\u5f55\\u6ca1\\u6709\\u627e\\u5230'\n",
    "print(b)"
   ]
  },
  {
   "cell_type": "code",
   "execution_count": 45,
   "metadata": {
    "collapsed": false,
    "deletable": true,
    "editable": true
   },
   "outputs": [],
   "source": [
    "import requests\n",
    "import re"
   ]
  },
  {
   "cell_type": "code",
   "execution_count": 21,
   "metadata": {
    "collapsed": false,
    "deletable": true,
    "editable": true
   },
   "outputs": [],
   "source": [
    "def getLatestChgFromFt(sCode):\n",
    "    # SPGOGUP:REU\n",
    "    resp = requests.get('https://markets.ft.com/data/indices/tearsheet/summary?s={}'.format(sCode))\n",
    "\n",
    "    m = re.search(\"today's change\", resp.text, re.IGNORECASE)\n",
    "\n",
    "    iBgn = m.start()\n",
    "\n",
    "    rexPct = re.compile(\"([-\\.0-9]+?)%\")\n",
    "\n",
    "    m = rexPct.search(resp.text, iBgn)\n",
    "\n",
    "    fPct = float(m.group(1))\n",
    "    \n",
    "    return fPct\n"
   ]
  },
  {
   "cell_type": "code",
   "execution_count": 22,
   "metadata": {
    "collapsed": false,
    "deletable": true,
    "editable": true
   },
   "outputs": [
    {
     "name": "stdout",
     "output_type": "stream",
     "text": [
      "-0.51\n"
     ]
    }
   ],
   "source": [
    "print(getLatestChgFromFt('SPGOGUP:REU'))"
   ]
  },
  {
   "cell_type": "code",
   "execution_count": 65,
   "metadata": {
    "collapsed": false
   },
   "outputs": [],
   "source": [
    "def getChgFromFt(sCode):\n",
    "    # Code example: 'SPGOGUP:REU', 'SPGNRET:REU'\n",
    "    resp = requests.get('https://markets.ft.com/data/indices/tearsheet/historical?s={}'.format(sCode))\n",
    "\n",
    "    m = re.search(\"table class.*?historical-prices\", resp.text, re.IGNORECASE)\n",
    "\n",
    "    iBgn = resp.text.find('<tbody>', m.start())\n",
    "    iEnd = resp.text.find('</tbody>', iBgn)\n",
    "\n",
    "    rexRow = re.compile(\"<tr>(.*?)</tr>\", re.DOTALL)\n",
    "    rexCol = re.compile(\"<td.*?>([^<>]+?)<.*?/td>\", re.DOTALL)\n",
    "\n",
    "    lsRows = rexRow.findall(resp.text[iBgn:iEnd])\n",
    "\n",
    "    lsChg = []\n",
    "    i = 0\n",
    "    for sRow in lsRows:\n",
    "        lsCols = rexCol.findall(sRow)   # Date, Open, High, Low, Close, Volume\n",
    "        dtDate = datetime.strptime(lsCols[0], '%A, %B %d, %Y')    # 'Friday, March 10, 2017'\n",
    "        sDate = dtDate.strftime('%Y%m%d')\n",
    "        fClose = float(lsCols[4].replace(',', ''))\n",
    "        lsChg.append([sDate, fClose])\n",
    "        if i > 0:\n",
    "            fNxtCls = lsChg[i-1][1]\n",
    "            fChg = (fNxtCls/fClose - 1) * 100\n",
    "            lsChg[i-1].append(fChg)\n",
    "        i += 1\n",
    "    \n",
    "    return (lsChg[0][0], lsChg[0][2])\n",
    "#end def"
   ]
  },
  {
   "cell_type": "code",
   "execution_count": 66,
   "metadata": {
    "collapsed": false
   },
   "outputs": [
    {
     "name": "stdout",
     "output_type": "stream",
     "text": [
      "('20170310', 0.523560209424101)\n"
     ]
    }
   ],
   "source": [
    "print(getChgFromFt('SPGOGUP:REU'))"
   ]
  },
  {
   "cell_type": "code",
   "execution_count": 92,
   "metadata": {
    "collapsed": false,
    "deletable": true,
    "editable": true
   },
   "outputs": [],
   "source": [
    "from datetime import datetime, timezone, timedelta"
   ]
  },
  {
   "cell_type": "code",
   "execution_count": 44,
   "metadata": {
    "collapsed": false,
    "deletable": true,
    "editable": true
   },
   "outputs": [],
   "source": [
    "def getIdxChgFromYahoo(sCode, sDftDate = None):\n",
    "    # Example: getIdxChgFromYahoo('^SPGNRUP')\n",
    "    from yahoo_finance import Share\n",
    "    from datetime import datetime\n",
    "    from datetime import timezone\n",
    "\n",
    "    idx = Share(sCode)\n",
    "\n",
    "    fPct = float(idx.get_percent_change().replace('%', ''))\n",
    "    \n",
    "    sDate = sDftDate\n",
    "    if not sDftDate:\n",
    "        dt = datetime.strptime(idx.get_trade_datetime(), '%Y-%m-%d %H:%M:%S %Z%z')   # e.g. '2017-03-13 02:31:00 UTC+0000'\n",
    "        dt = dt.astimezone(tz=None)\n",
    "        sDate = dt.strftime('%Y%m%d')\n",
    "        \n",
    "    return (sDate, fPct)"
   ]
  },
  {
   "cell_type": "code",
   "execution_count": 83,
   "metadata": {
    "collapsed": false
   },
   "outputs": [
    {
     "data": {
      "text/plain": [
       "datetime.timezone(datetime.timedelta(0), 'UTC')"
      ]
     },
     "execution_count": 83,
     "metadata": {},
     "output_type": "execute_result"
    }
   ],
   "source": [
    "dt.tzinfo"
   ]
  },
  {
   "cell_type": "code",
   "execution_count": 43,
   "metadata": {
    "collapsed": false
   },
   "outputs": [
    {
     "name": "stdout",
     "output_type": "stream",
     "text": [
      "('2017-03-13', 0.64)\n"
     ]
    }
   ],
   "source": [
    "print(getIdxChgFromYahoo('^SPGNRUP'))"
   ]
  },
  {
   "cell_type": "code",
   "execution_count": 96,
   "metadata": {
    "collapsed": false,
    "scrolled": true
   },
   "outputs": [],
   "source": [
    "def getChgFromGoogle(sCode, sDftDate = None):\n",
    "    import json\n",
    "    import dateutil.parser as parser\n",
    "\n",
    "    # 12-day history API:\n",
    "    # http://www.networkerror.org/component/content/44.html?task=view\n",
    "    # Code example: 'INDEXSP:SPGNRUP' or just 'SPGNRUP'\n",
    "    #sUrl = 'https://www.google.com/finance/info?infotype=infoquoteall&q=INDEXSP:SPGNRUP'\n",
    "    sUrl = 'https://www.google.com/finance/info?q={}'.format(sCode)\n",
    "    resp = requests.get(sUrl)\n",
    "\n",
    "    ls = json.loads(resp.text[3:])\n",
    "    d = ls[0]\n",
    "    fPct = float(d['cp'])\n",
    "    #print(fPct)\n",
    "    \n",
    "    sDate = sDftDate\n",
    "    if not sDftDate:\n",
    "        sTime = d['lt_dts'][:10] + ' ' + d['ltt']\n",
    "        #print(sTime)\n",
    "        # '2017-03-13 12:29AM EDT'\n",
    "        dt = parser.parse(sTime)\n",
    "        #print(dt)\n",
    "        # Add US timezone info, and translate to local time\n",
    "        dt = dt.replace(tzinfo=timezone(timedelta(hours=-4))).astimezone()\n",
    "        sDate = dt.strftime('%Y%m%d')\n",
    "    \n",
    "    return (sDate, fPct)"
   ]
  },
  {
   "cell_type": "code",
   "execution_count": 97,
   "metadata": {
    "collapsed": false
   },
   "outputs": [
    {
     "name": "stdout",
     "output_type": "stream",
     "text": [
      "('20170313', 0.73)\n"
     ]
    }
   ],
   "source": [
    "print(getChgFromGoogle('SPGNRUP'))"
   ]
  },
  {
   "cell_type": "code",
   "execution_count": 98,
   "metadata": {
    "collapsed": false
   },
   "outputs": [
    {
     "name": "stdout",
     "output_type": "stream",
     "text": [
      "('20170313', 0.72)\n"
     ]
    }
   ],
   "source": [
    "x = eval(\"getChgFromGoogle('SPGNRUP')\")\n",
    "print(x)"
   ]
  },
  {
   "cell_type": "code",
   "execution_count": 91,
   "metadata": {
    "collapsed": true
   },
   "outputs": [],
   "source": [
    "import pytz"
   ]
  },
  {
   "cell_type": "code",
   "execution_count": 100,
   "metadata": {
    "collapsed": false
   },
   "outputs": [
    {
     "data": {
      "text/plain": [
       "datetime.datetime(2017, 3, 13, 0, 29)"
      ]
     },
     "execution_count": 100,
     "metadata": {},
     "output_type": "execute_result"
    }
   ],
   "source": [
    "parser.parse('2017-03-13 12:29AM EDT')"
   ]
  },
  {
   "cell_type": "code",
   "execution_count": 25,
   "metadata": {
    "collapsed": false,
    "deletable": true,
    "editable": true
   },
   "outputs": [],
   "source": [
    "dt = datetime.strptime(sp.get_trade_datetime(), '%Y-%m-%d %H:%M:%S %Z%z')"
   ]
  },
  {
   "cell_type": "code",
   "execution_count": 26,
   "metadata": {
    "collapsed": false
   },
   "outputs": [],
   "source": [
    "dt = dt.replace(tzinfo=timezone.utc)"
   ]
  },
  {
   "cell_type": "code",
   "execution_count": 27,
   "metadata": {
    "collapsed": false
   },
   "outputs": [
    {
     "data": {
      "text/plain": [
       "datetime.datetime(2017, 3, 13, 10, 11, tzinfo=datetime.timezone(datetime.timedelta(0, 28800), 'ÖÐ¹ú±ê×¼Ê±¼ä'))"
      ]
     },
     "execution_count": 27,
     "metadata": {},
     "output_type": "execute_result"
    }
   ],
   "source": [
    "dt.astimezone(tz=None)"
   ]
  },
  {
   "cell_type": "code",
   "execution_count": 29,
   "metadata": {
    "collapsed": false,
    "deletable": true,
    "editable": true
   },
   "outputs": [
    {
     "data": {
      "text/plain": [
       "'2017-03-13 10:11:00'"
      ]
     },
     "execution_count": 29,
     "metadata": {},
     "output_type": "execute_result"
    }
   ],
   "source": [
    "dt.astimezone(tz=None).strftime('%Y-%m-%d %H:%M:%S')"
   ]
  },
  {
   "cell_type": "code",
   "execution_count": 36,
   "metadata": {
    "collapsed": false,
    "deletable": true,
    "editable": true
   },
   "outputs": [],
   "source": [
    "aapl = Share('AAPL')"
   ]
  },
  {
   "cell_type": "code",
   "execution_count": 37,
   "metadata": {
    "collapsed": false,
    "deletable": true,
    "editable": true
   },
   "outputs": [
    {
     "data": {
      "text/plain": [
       "'2017-03-10 22:00:00 UTC+0000'"
      ]
     },
     "execution_count": 37,
     "metadata": {},
     "output_type": "execute_result"
    }
   ],
   "source": [
    "aapl.get_trade_datetime()"
   ]
  },
  {
   "cell_type": "code",
   "execution_count": null,
   "metadata": {
    "collapsed": true,
    "deletable": true,
    "editable": true
   },
   "outputs": [],
   "source": [
    "r = ar[1]"
   ]
  },
  {
   "cell_type": "code",
   "execution_count": null,
   "metadata": {
    "collapsed": false,
    "deletable": true,
    "editable": true
   },
   "outputs": [],
   "source": [
    "np.sum(w*r)/np.sum(w)"
   ]
  },
  {
   "cell_type": "code",
   "execution_count": null,
   "metadata": {
    "collapsed": false,
    "deletable": true,
    "editable": true
   },
   "outputs": [],
   "source": [
    "totw = 0.0\n",
    "totr = 0.0\n",
    "for i in range(0, len(r)):\n",
    "    if r[i] == 0:\n",
    "        modr = totr / totw\n",
    "    else:\n",
    "        modr = r[i]\n",
    "    totr += ar[0, i] * modr\n",
    "    totw += ar[0, i]\n",
    "print(totr/np.sum(ar[0]))"
   ]
  },
  {
   "cell_type": "code",
   "execution_count": null,
   "metadata": {
    "collapsed": false,
    "deletable": true,
    "editable": true
   },
   "outputs": [],
   "source": [
    "totw = 0.0\n",
    "wr = 0.0\n",
    "for i in range(0, len(r)):\n",
    "    if r[i] != 0:\n",
    "        wr = (wr * totw + r[i] * ar[0, i]) / (totw + ar[0, i])\n",
    "    totw += ar[0, i]\n",
    "print(wr)"
   ]
  },
  {
   "cell_type": "code",
   "execution_count": null,
   "metadata": {
    "collapsed": true,
    "deletable": true,
    "editable": true
   },
   "outputs": [],
   "source": [
    "c1 = np.random.rand(10)\n",
    "c2 = np.random.rand(10)\n",
    "x1 = np.random.randint(0, 9, size=4)\n",
    "x2 = np.random.randint(0, 9, size=4)\n",
    "c1[x1] = 0.0\n",
    "c2[x2] = 0.0"
   ]
  },
  {
   "cell_type": "code",
   "execution_count": null,
   "metadata": {
    "collapsed": false,
    "deletable": true,
    "editable": true
   },
   "outputs": [],
   "source": [
    "c1"
   ]
  },
  {
   "cell_type": "code",
   "execution_count": null,
   "metadata": {
    "collapsed": false,
    "deletable": true,
    "editable": true
   },
   "outputs": [],
   "source": [
    "c2"
   ]
  },
  {
   "cell_type": "code",
   "execution_count": null,
   "metadata": {
    "collapsed": false,
    "deletable": true,
    "editable": true
   },
   "outputs": [],
   "source": [
    "w1 = 0.3\n",
    "w2 = 0.5\n",
    "(w1 * c1 + w2 *c2) / (w1 + w2)"
   ]
  },
  {
   "cell_type": "code",
   "execution_count": null,
   "metadata": {
    "collapsed": true,
    "deletable": true,
    "editable": true
   },
   "outputs": [],
   "source": [
    "f1 = (c1!=0)\n",
    "f2 = (c2!=0)"
   ]
  },
  {
   "cell_type": "code",
   "execution_count": null,
   "metadata": {
    "collapsed": false,
    "deletable": true,
    "editable": true
   },
   "outputs": [],
   "source": [
    "f1"
   ]
  },
  {
   "cell_type": "code",
   "execution_count": null,
   "metadata": {
    "collapsed": false,
    "deletable": true,
    "editable": true
   },
   "outputs": [],
   "source": [
    "(w1 * c1 + w2 *c2) / (f1*w1 + f2*w2)"
   ]
  },
  {
   "cell_type": "code",
   "execution_count": null,
   "metadata": {
    "collapsed": false,
    "deletable": true,
    "editable": true
   },
   "outputs": [],
   "source": [
    "f1*w1 + f2*w2"
   ]
  },
  {
   "cell_type": "code",
   "execution_count": null,
   "metadata": {
    "collapsed": false,
    "deletable": true,
    "editable": true
   },
   "outputs": [],
   "source": [
    "w1 * c1 + w2 *c2"
   ]
  },
  {
   "cell_type": "code",
   "execution_count": null,
   "metadata": {
    "collapsed": false,
    "deletable": true,
    "editable": true
   },
   "outputs": [],
   "source": [
    "w1 * c1 *f1 + w2 * c2*f2"
   ]
  },
  {
   "cell_type": "code",
   "execution_count": null,
   "metadata": {
    "collapsed": true,
    "deletable": true,
    "editable": true
   },
   "outputs": [],
   "source": [
    "ar_w = f1*w1 + f2*w2\n",
    "ar_w[ar_w == 0] = 1"
   ]
  },
  {
   "cell_type": "code",
   "execution_count": null,
   "metadata": {
    "collapsed": false,
    "deletable": true,
    "editable": true
   },
   "outputs": [],
   "source": [
    "ar_w"
   ]
  },
  {
   "cell_type": "code",
   "execution_count": null,
   "metadata": {
    "collapsed": false,
    "deletable": true,
    "editable": true
   },
   "outputs": [],
   "source": [
    "(w1 * c1 + w2 *c2) / ar_w"
   ]
  },
  {
   "cell_type": "code",
   "execution_count": null,
   "metadata": {
    "collapsed": false,
    "deletable": true,
    "editable": true
   },
   "outputs": [],
   "source": [
    "os.chdir('../Gold/')"
   ]
  },
  {
   "cell_type": "code",
   "execution_count": null,
   "metadata": {
    "collapsed": true,
    "deletable": true,
    "editable": true
   },
   "outputs": [],
   "source": [
    "dfStk = pd.DataFrame.from_csv(\"data/{}_rtn.csv\".format(\"600547\"), encoding = 'gbk')"
   ]
  },
  {
   "cell_type": "code",
   "execution_count": null,
   "metadata": {
    "collapsed": false,
    "deletable": true,
    "editable": true
   },
   "outputs": [],
   "source": [
    "srWght = 0.4951 * ((dfStk.TRADE_STATUS == '交易') | (dfStk.PCT_CHG != 0))"
   ]
  },
  {
   "cell_type": "code",
   "execution_count": null,
   "metadata": {
    "collapsed": true,
    "deletable": true,
    "editable": true
   },
   "outputs": [],
   "source": [
    "srWghtSum = pd.Series()"
   ]
  },
  {
   "cell_type": "code",
   "execution_count": null,
   "metadata": {
    "collapsed": true,
    "deletable": true,
    "editable": true
   },
   "outputs": [],
   "source": [
    "srWghtSum += 0.4951 * ((dfStk.TRADE_STATUS == '交易') | (dfStk.PCT_CHG != 0))"
   ]
  },
  {
   "cell_type": "code",
   "execution_count": null,
   "metadata": {
    "collapsed": false,
    "deletable": true,
    "editable": true
   },
   "outputs": [],
   "source": [
    "sum(srWght == 0)"
   ]
  },
  {
   "cell_type": "code",
   "execution_count": null,
   "metadata": {
    "collapsed": false,
    "deletable": true,
    "editable": true
   },
   "outputs": [],
   "source": [
    "srA = dfStk.PCT_CHG * srWght\n",
    "srA.name = 'VirtRtn'\n",
    "srB = dfStk.PCT_CHG * 0.4951\n",
    "srB.name = 'PtflRtn'"
   ]
  },
  {
   "cell_type": "code",
   "execution_count": null,
   "metadata": {
    "collapsed": false,
    "deletable": true,
    "editable": true
   },
   "outputs": [],
   "source": [
    "dfAB = pd.concat([srA, srB], axis = 1)"
   ]
  },
  {
   "cell_type": "code",
   "execution_count": null,
   "metadata": {
    "collapsed": false,
    "deletable": true,
    "editable": true
   },
   "outputs": [],
   "source": [
    "dfAB.VirtRtn.sum()"
   ]
  },
  {
   "cell_type": "code",
   "execution_count": null,
   "metadata": {
    "collapsed": false,
    "deletable": true,
    "editable": true
   },
   "outputs": [],
   "source": [
    "dfAB.PtflRtn.sum()"
   ]
  },
  {
   "cell_type": "code",
   "execution_count": null,
   "metadata": {
    "collapsed": false,
    "deletable": true,
    "editable": true
   },
   "outputs": [],
   "source": [
    "dfAB.VirtRtn.name"
   ]
  },
  {
   "cell_type": "code",
   "execution_count": null,
   "metadata": {
    "collapsed": true,
    "deletable": true,
    "editable": true
   },
   "outputs": [],
   "source": [
    "ts = dfStk.index[3]"
   ]
  },
  {
   "cell_type": "code",
   "execution_count": null,
   "metadata": {
    "collapsed": false,
    "deletable": true,
    "editable": true
   },
   "outputs": [],
   "source": [
    "dfStk.loc[ts]"
   ]
  },
  {
   "cell_type": "code",
   "execution_count": null,
   "metadata": {
    "collapsed": false,
    "deletable": true,
    "editable": true
   },
   "outputs": [],
   "source": [
    "dfStk.loc[ts, 'CLOSE']"
   ]
  },
  {
   "cell_type": "code",
   "execution_count": null,
   "metadata": {
    "collapsed": false,
    "deletable": true,
    "editable": true
   },
   "outputs": [],
   "source": [
    "dfStk.index = dfStk.index.normalize()"
   ]
  },
  {
   "cell_type": "code",
   "execution_count": null,
   "metadata": {
    "collapsed": false,
    "deletable": true,
    "editable": true
   },
   "outputs": [],
   "source": [
    "dfStk.index"
   ]
  },
  {
   "cell_type": "code",
   "execution_count": null,
   "metadata": {
    "collapsed": false,
    "deletable": true,
    "editable": true
   },
   "outputs": [],
   "source": [
    "round(255, -2)"
   ]
  },
  {
   "cell_type": "code",
   "execution_count": null,
   "metadata": {
    "collapsed": false,
    "deletable": true,
    "editable": true
   },
   "outputs": [],
   "source": [
    "\"{:.2%}\".format(3.14)"
   ]
  },
  {
   "cell_type": "code",
   "execution_count": null,
   "metadata": {
    "collapsed": false,
    "deletable": true,
    "editable": true
   },
   "outputs": [],
   "source": [
    "sr=pd.Series({'d':1.2, 'sl':3.4, 'ri':np.nan})"
   ]
  },
  {
   "cell_type": "code",
   "execution_count": null,
   "metadata": {
    "collapsed": false,
    "deletable": true,
    "editable": true
   },
   "outputs": [],
   "source": [
    "sr[~sr.isnull()]"
   ]
  },
  {
   "cell_type": "code",
   "execution_count": null,
   "metadata": {
    "collapsed": false,
    "deletable": true,
    "editable": true
   },
   "outputs": [],
   "source": [
    "sr"
   ]
  },
  {
   "cell_type": "code",
   "execution_count": null,
   "metadata": {
    "collapsed": false,
    "deletable": true,
    "editable": true
   },
   "outputs": [],
   "source": [
    "fill_between_demo.py"
   ]
  },
  {
   "cell_type": "code",
   "execution_count": null,
   "metadata": {
    "collapsed": false,
    "deletable": true,
    "editable": true
   },
   "outputs": [],
   "source": [
    "os.getcwd()"
   ]
  },
  {
   "cell_type": "code",
   "execution_count": null,
   "metadata": {
    "collapsed": true,
    "deletable": true,
    "editable": true
   },
   "outputs": [],
   "source": [
    "os.chdir('../IndustryFlow')"
   ]
  },
  {
   "cell_type": "code",
   "execution_count": null,
   "metadata": {
    "collapsed": false,
    "deletable": true,
    "editable": true
   },
   "outputs": [],
   "source": [
    "plt.bar([1,2,3],[1,2,3], color = 'orangered', edgecolor = 'none')"
   ]
  },
  {
   "cell_type": "code",
   "execution_count": null,
   "metadata": {
    "collapsed": false,
    "deletable": true,
    "editable": true
   },
   "outputs": [],
   "source": [
    "plt.show()"
   ]
  },
  {
   "cell_type": "code",
   "execution_count": null,
   "metadata": {
    "collapsed": true,
    "deletable": true,
    "editable": true
   },
   "outputs": [],
   "source": [
    "import requests"
   ]
  },
  {
   "cell_type": "code",
   "execution_count": null,
   "metadata": {
    "collapsed": false,
    "deletable": true,
    "editable": true
   },
   "outputs": [],
   "source": [
    "r = requests.get('https://beta.cebupacificair.com/Flight/InternalSelect?s=true&o1=PVG&d1=MPH&dd1=2017-05-24&dd2=2017-05-28&r=true&mon=true', verify=False)"
   ]
  },
  {
   "cell_type": "code",
   "execution_count": null,
   "metadata": {
    "collapsed": true,
    "deletable": true,
    "editable": true
   },
   "outputs": [],
   "source": [
    "headers = {'Referer':'https://beta.cebupacificair.com/Flight/Select'}"
   ]
  },
  {
   "cell_type": "code",
   "execution_count": null,
   "metadata": {
    "collapsed": false,
    "deletable": true,
    "editable": true
   },
   "outputs": [],
   "source": [
    "f = open(\"x.html\", 'w')"
   ]
  },
  {
   "cell_type": "code",
   "execution_count": null,
   "metadata": {
    "collapsed": false,
    "deletable": true,
    "editable": true
   },
   "outputs": [],
   "source": [
    "f.write(r.text)"
   ]
  },
  {
   "cell_type": "code",
   "execution_count": null,
   "metadata": {
    "collapsed": true,
    "deletable": true,
    "editable": true
   },
   "outputs": [],
   "source": [
    "f.close()"
   ]
  },
  {
   "cell_type": "code",
   "execution_count": null,
   "metadata": {
    "collapsed": true,
    "deletable": true,
    "editable": true
   },
   "outputs": [],
   "source": [
    "dGoldStk = {'002237.SZ': 0.24604859603625656, '600655.SH': 0.29655154244190385, '600362.SH': \n",
    " 0.20333606415106328, '002155.SZ': 0.40589162439651888, '601899.SH': 0.20039110916621541, \n",
    " '600489.SH': 0.65383478245376014, '600531.SH': 0.24957306413717745, '600547.SH': \n",
    " 0.63773575732003318}"
   ]
  },
  {
   "cell_type": "code",
   "execution_count": null,
   "metadata": {
    "collapsed": true,
    "deletable": true,
    "editable": true
   },
   "outputs": [],
   "source": [
    "def genGoldConceptRtn(dGoldStk = None, dtEnd = None, nSample = None, dStkDf = None):\n",
    "    os.chdir('../Gold/')\n",
    "    if dGoldStk is None:\n",
    "        #dGoldStk = {\"600547\": 0.458495072, \"600489\": 0.402015087, \"002155\": 0.391238013, \"601069\": 0.361354263, \"600988\": 0.359376271, \"002716\": 0.336558704, \"002237\": 0.329655207}\n",
    "        dGoldStk = {\"600547\":0.495101653, \"600489\":0.4703083, \"002155\":0.384113351, \"601069\":0.359351555, \"002237\":0.352791002, \"002716\":0.333648661, \"600531\":0.30050461, \"601899\":0.289093361}\n",
    "    #dfConcept = pd.DataFrame()\n",
    "    srConcept = pd.Series()\n",
    "    srWghtSum = pd.Series()\n",
    "    for sStkCode, fWght in dGoldStk.items():\n",
    "        sDigCode = sStkCode[:6]     # six-digit code\n",
    "        if dStkDf is None:\n",
    "            dfStk = pd.DataFrame.from_csv(\"data/{}_rtn.csv\".format(sDigCode), encoding = 'gbk')\n",
    "        else:\n",
    "            dfStk = dStkDf[sStkCode]\n",
    "        srWeight = dGoldStk[sStkCode] * ((dfStk.TRADE_STATUS == '交易') | (dfStk.PCT_CHG != 0))\n",
    "        #print(sStkCode, min(dfStk.index))\n",
    "        if dtEnd is None:\n",
    "            srPctRtn = dfStk.PCT_CHG\n",
    "        else:\n",
    "            srPctRtn = dfStk.PCT_CHG.loc[:dtEnd].iloc[-nSample:]\n",
    "            srWeight = srWeight.loc[:dtEnd].iloc[-nSample:]\n",
    "        srStkRtn = np.log(srPctRtn/100 + 1) * 100       # translate to log-return\n",
    "        # Notice if the fill_value is not specified, an empty Series + another Series will be filled with NaN\n",
    "        srConcept = srConcept.add(srStkRtn * fWght, fill_value = 0)     # the return is 0 when stock is suspended\n",
    "        #dfConcept = dfConcept.add(srStkRtn.to_frame() * fWght, fill_value = 0)\n",
    "        # Suspended return (=0) does not count weight, to prevent distortions in regression results.\n",
    "        srWghtSum = srWghtSum.add(srWeight, fill_value = 0)\n",
    "    #end for\n",
    "    srPtflRtn = srConcept / sum(dGoldStk.values())      # actual return of the portfolio\n",
    "    srPtflRtn.name = 'PtflRtn'\n",
    "    srVirtRtn = srConcept / srWghtSum                   # return series for regression computation\n",
    "    srVirtRtn.name = 'VirtRtn'\n",
    "    #dfConcept = dfConcept / sum(dGoldStk.values())\n",
    "    #dfConcept = srConcept.to_frame()\n",
    "    dfConcept = pd.concat([srPtflRtn, srVirtRtn], axis = 1)\n",
    "    return dfConcept\n",
    "#end def"
   ]
  },
  {
   "cell_type": "code",
   "execution_count": null,
   "metadata": {
    "collapsed": false,
    "deletable": true,
    "editable": true
   },
   "outputs": [],
   "source": [
    "dfConcept = genGoldConceptRtn(dGoldStk)"
   ]
  },
  {
   "cell_type": "code",
   "execution_count": null,
   "metadata": {
    "collapsed": false,
    "deletable": true,
    "editable": true
   },
   "outputs": [],
   "source": [
    "dfConcept"
   ]
  },
  {
   "cell_type": "code",
   "execution_count": null,
   "metadata": {
    "collapsed": true,
    "deletable": true,
    "editable": true
   },
   "outputs": [],
   "source": [
    "sFolder = '../Gold/'\n",
    "os.chdir(sFolder)"
   ]
  },
  {
   "cell_type": "code",
   "execution_count": null,
   "metadata": {
    "collapsed": true,
    "deletable": true,
    "editable": true
   },
   "outputs": [],
   "source": [
    "sGldRtnFile = 'au_sett_rtn.csv'\n",
    "dfGld = pd.DataFrame.from_csv(sGldRtnFile)\n",
    "\n",
    "srGldRtn = dfGld.loc[:,'AdjRtn']    # Adjusted returns which include rolling costs\n",
    "srGldRtn.name = 'AU'"
   ]
  },
  {
   "cell_type": "code",
   "execution_count": null,
   "metadata": {
    "collapsed": true,
    "deletable": true,
    "editable": true
   },
   "outputs": [],
   "source": [
    "dParams = {'CSI500': 0.87164886908927519, 'Intercept': -0.10821257718169057, 'AU': 0.78353383345943362}"
   ]
  },
  {
   "cell_type": "code",
   "execution_count": null,
   "metadata": {
    "collapsed": false,
    "deletable": true,
    "editable": true
   },
   "outputs": [],
   "source": [
    "sIdxCode = 'CSI500'\n",
    "sIdxFile = 'data/{}_rtn.csv'.format('000905.SH')\n",
    "dfIdxRtn = pd.DataFrame.from_csv(sIdxFile)\n",
    "dfIdxRtn.LOG_CHG = np.log(dfIdxRtn.PCT_CHG/100+1)*100       # convert to log return"
   ]
  },
  {
   "cell_type": "code",
   "execution_count": null,
   "metadata": {
    "collapsed": true,
    "deletable": true,
    "editable": true
   },
   "outputs": [],
   "source": [
    "srStkPfRtn = dfConcept.PtflRtn\n",
    "srIdxRtn = dfIdxRtn.LOG_CHG\n",
    "srIdxRtn.name = sIdxCode\n",
    "dfCmp = pd.concat([srGldRtn, srStkPfRtn, srIdxRtn], axis = 1, join = 'inner')"
   ]
  },
  {
   "cell_type": "code",
   "execution_count": null,
   "metadata": {
    "collapsed": false,
    "deletable": true,
    "editable": true
   },
   "outputs": [],
   "source": [
    "dfCmp"
   ]
  },
  {
   "cell_type": "code",
   "execution_count": null,
   "metadata": {
    "collapsed": true,
    "deletable": true,
    "editable": true
   },
   "outputs": [],
   "source": [
    "srTotRtn = srStkPfRtn - dParams['AU']*srGldRtn - dParams['CSI500']*srIdxRtn"
   ]
  },
  {
   "cell_type": "code",
   "execution_count": null,
   "metadata": {
    "collapsed": false,
    "deletable": true,
    "editable": true
   },
   "outputs": [],
   "source": [
    "plt.plot(srTotRtn[250:].index, srTotRtn[250:].cumsum())\n",
    "plt.show()"
   ]
  },
  {
   "cell_type": "code",
   "execution_count": null,
   "metadata": {
    "collapsed": false,
    "deletable": true,
    "editable": true
   },
   "outputs": [],
   "source": [
    "os.environ['PATH']"
   ]
  },
  {
   "cell_type": "code",
   "execution_count": null,
   "metadata": {
    "collapsed": false,
    "deletable": true,
    "editable": true
   },
   "outputs": [],
   "source": [
    "import sys\n",
    "sys.version_info()"
   ]
  },
  {
   "cell_type": "code",
   "execution_count": null,
   "metadata": {
    "collapsed": false,
    "deletable": true,
    "editable": true
   },
   "outputs": [],
   "source": [
    "sys.version_info"
   ]
  },
  {
   "cell_type": "code",
   "execution_count": null,
   "metadata": {
    "collapsed": false,
    "deletable": true,
    "editable": true
   },
   "outputs": [],
   "source": [
    "import numpy\n",
    "#import sys\n",
    "#sys.path.append('D:\\Python35\\Lib\\site-packages\\cvxopt-0+unknown-py3.5-win-amd64.egg\\cvxopt')\n",
    "import cvxopt"
   ]
  },
  {
   "cell_type": "code",
   "execution_count": null,
   "metadata": {
    "collapsed": true,
    "deletable": true,
    "editable": true
   },
   "outputs": [],
   "source": [
    "from PyQt4.QtCore import QTimer"
   ]
  },
  {
   "cell_type": "code",
   "execution_count": null,
   "metadata": {
    "collapsed": true,
    "deletable": true,
    "editable": true
   },
   "outputs": [],
   "source": [
    "timer = QTimer()"
   ]
  },
  {
   "cell_type": "code",
   "execution_count": null,
   "metadata": {
    "collapsed": false,
    "deletable": true,
    "editable": true
   },
   "outputs": [],
   "source": [
    "from simplecrypt import encrypt, decrypt"
   ]
  },
  {
   "cell_type": "code",
   "execution_count": null,
   "metadata": {
    "collapsed": false,
    "deletable": true,
    "editable": true
   },
   "outputs": [],
   "source": [
    "encrypt('hello world', 'which one is the real data')"
   ]
  },
  {
   "cell_type": "code",
   "execution_count": null,
   "metadata": {
    "collapsed": false,
    "deletable": true,
    "editable": true
   },
   "outputs": [],
   "source": [
    "decrypt('hello worl', b'sc\\x00\\x02\\xc27\\xca\\xb7\\x90\\xdf?\\x19\\x82\\x13\\xda\\x82\\x1a!\\xd4\\xf3\\xda<1\\xbc*\\xc9>yJ$^\\xd2\\n\\xdf\\x04\\x0b\\x89\\xcaR\\x06\\xab\\xd9\\xf8\\xbex\\x9b\\xec\\x85\\xb1\\xbf\\xbc\\xcfB\\xcf:\\x7f\\x91\\x95|\\x15x\\xb9\\x1b\\xb9w\\x83\\xe6\\x86Z\\xcb\\x171\\x9a\\x82D>\\x1bOO)\\\\+\\xb0~C\\xdc\\x0b\\xa1l\\xc6\\x163\\xd3\"')"
   ]
  },
  {
   "cell_type": "code",
   "execution_count": null,
   "metadata": {
    "collapsed": true,
    "deletable": true,
    "editable": true
   },
   "outputs": [],
   "source": [
    "from collections import defaultdict"
   ]
  },
  {
   "cell_type": "code",
   "execution_count": null,
   "metadata": {
    "collapsed": false,
    "deletable": true,
    "editable": true
   },
   "outputs": [],
   "source": [
    "from WindPy import *\n",
    "w.start()"
   ]
  },
  {
   "cell_type": "code",
   "execution_count": null,
   "metadata": {
    "collapsed": false,
    "deletable": true,
    "editable": true
   },
   "outputs": [],
   "source": [
    "dBook = defaultdict(dict)"
   ]
  },
  {
   "cell_type": "code",
   "execution_count": null,
   "metadata": {
    "collapsed": true,
    "deletable": true,
    "editable": true
   },
   "outputs": [],
   "source": [
    "def printOrderBook(dBook):\n",
    "    for sCode, dDepth in dBook.items():\n",
    "        print('{}: {}'.format(sCode, dDepth))"
   ]
  },
  {
   "cell_type": "code",
   "execution_count": null,
   "metadata": {
    "collapsed": false,
    "deletable": true,
    "editable": true
   },
   "outputs": [],
   "source": [
    "def myCallback(rcvData):\n",
    "    #print(\"\")\n",
    "    #print(rcvData.Times)\n",
    "    #print(rcvData.Codes)\n",
    "    #print(rcvData.Fields)\n",
    "    #print(rcvData.Data)\n",
    "    for i in range(0, len(rcvData.Codes)):\n",
    "        sCode = rcvData.Codes[i]\n",
    "        dDepth = dBook[sCode]\n",
    "        for j in range(0, len(rcvData.Fields)):\n",
    "            sField = rcvData.Fields[j]\n",
    "            dDepth[sField] = rcvData.Data[j][i]\n"
   ]
  },
  {
   "cell_type": "code",
   "execution_count": null,
   "metadata": {
    "collapsed": false,
    "deletable": true,
    "editable": true
   },
   "outputs": [],
   "source": [
    "res = w.wsq(\"160105.SZ,160106.SZ,160119.SZ,160125.SZ,160130.SZ,160131.SZ,160133.SZ,160211.SZ,160212.SZ,160215.SZ,160216.SZ,160220.SZ,160223.SZ,160225.SZ,160311.SZ,160314.SZ,160322.SZ,160323.SZ,160415.SZ,160416.SZ,160422.SZ,160505.SZ,160512.SZ,160513.SZ,160515.SZ,160607.SZ,160610.SZ,160611.SZ,160613.SZ,160615.SZ,160616.SZ,160617.SZ,160618.SZ,160621.SZ,160622.SZ,160635.SZ,160706.SZ,160716.SZ,160717.SZ,160719.SZ,160720.SZ,160805.SZ,160806.SZ,160807.SZ,160810.SZ,160812.SZ,160813.SZ,160910.SZ,160915.SZ,160916.SZ,160918.SZ,160919.SZ,160922.SZ,160923.SZ,161005.SZ,161010.SZ,161015.SZ,161017.SZ,161033.SZ,161035.SZ,161036.SZ,161115.SZ,161116.SZ,161117.SZ,161119.SZ,161124.SZ,161125.SZ,161126.SZ,161127.SZ,161128.SZ,161129.SZ,161210.SZ,161213.SZ,161216.SZ,161217.SZ,161219.SZ,161222.SZ,161224.SZ,161225.SZ,161226.SZ,161227.SZ,161229.SZ,161505.SZ,161506.SZ,161607.SZ,161610.SZ,161614.SZ,161626.SZ,161630.SZ,161631.SZ,161706.SZ,161713.SZ,161714.SZ,161716.SZ,161722.SZ,161810.SZ,161813.SZ,161815.SZ,161820.SZ,161821.SZ,161823.SZ,161903.SZ,161907.SZ,161908.SZ,162006.SZ,162105.SZ,162107.SZ,162108.SZ,162207.SZ,162215.SZ,162307.SZ,162308.SZ,162411.SZ,162414.SZ,162415.SZ,162510.SZ,162511.SZ,162605.SZ,162607.SZ,162703.SZ,162711.SZ,162712.SZ,162715.SZ,162719.SZ,163001.SZ,163003.SZ,163005.SZ,163110.SZ,163119.SZ,163208.SZ,163302.SZ,163402.SZ,163407.SZ,163409.SZ,163412.SZ,163415.SZ,163503.SZ,163801.SZ,163819.SZ,163821.SZ,163824.SZ,163907.SZ,164105.SZ,164206.SZ,164208.SZ,164210.SZ,164302.SZ,164403.SZ,164606.SZ,164701.SZ,164703.SZ,164808.SZ,164812.SZ,164814.SZ,164815.SZ,164902.SZ,164906.SZ,164908.SZ,165309.SZ,165311.SZ,165313.SZ,165508.SZ,165509.SZ,165510.SZ,165512.SZ,165513.SZ,165516.SZ,165517.SZ,165525.SZ,165526.SZ,165705.SZ,165806.SZ,165807.SZ,166001.SZ,166006.SZ,166007.SZ,166008.SZ,166009.SZ,166011.SZ,166012.SZ,166016.SZ,166105.SZ,166401.SZ,167501.SZ,167702.SZ,501000.SH,501001.SH,501002.SH,501005.SH,501007.SH,501008.SH,501009.SH,501010.SH,501011.SH,501012.SH,501018.SH,501021.SH,501023.SH,501025.SH,501029.SH,501030.SH,501031.SH,501050.SH,501100.SH,501300.SH,502000.SH,502003.SH,502006.SH,502010.SH,502013.SH,502016.SH,502020.SH,502023.SH,502026.SH,502036.SH,502040.SH,502048.SH,502053.SH,502056.SH\", \"rt_latest,rt_ask1,rt_bid1,rt_asize1,rt_bsize1,rt_pct_chg,rt_pre_close,rt_ask2,rt_bid2\", func=myCallback)"
   ]
  },
  {
   "cell_type": "code",
   "execution_count": null,
   "metadata": {
    "collapsed": false,
    "deletable": true,
    "editable": true
   },
   "outputs": [],
   "source": [
    "printOrderBook(dBook)"
   ]
  },
  {
   "cell_type": "code",
   "execution_count": null,
   "metadata": {
    "collapsed": false,
    "deletable": true,
    "editable": true
   },
   "outputs": [],
   "source": [
    "print(dBook['162411.SZ'])"
   ]
  },
  {
   "cell_type": "code",
   "execution_count": null,
   "metadata": {
    "collapsed": false,
    "deletable": true,
    "editable": true
   },
   "outputs": [],
   "source": [
    "w.cancelRequest(res.RequestID)"
   ]
  },
  {
   "cell_type": "code",
   "execution_count": null,
   "metadata": {
    "collapsed": true,
    "deletable": true,
    "editable": true
   },
   "outputs": [],
   "source": []
  }
 ],
 "metadata": {
  "celltoolbar": "Raw Cell Format",
  "kernelspec": {
   "display_name": "Python 3",
   "language": "python",
   "name": "python3"
  },
  "language_info": {
   "codemirror_mode": {
    "name": "ipython",
    "version": 3
   },
   "file_extension": ".py",
   "mimetype": "text/x-python",
   "name": "python",
   "nbconvert_exporter": "python",
   "pygments_lexer": "ipython3",
   "version": "3.5.2"
  }
 },
 "nbformat": 4,
 "nbformat_minor": 2
}
