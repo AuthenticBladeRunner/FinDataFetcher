{
 "cells": [
  {
   "cell_type": "code",
   "execution_count": 1,
   "metadata": {
    "collapsed": true
   },
   "outputs": [],
   "source": [
    "s_fl = 'D:\\\\H_Strategy\\\\src\\\\trd_dates.txt'"
   ]
  },
  {
   "cell_type": "code",
   "execution_count": 2,
   "metadata": {
    "collapsed": true
   },
   "outputs": [],
   "source": [
    "fl = open(s_fl, encoding='utf-8')"
   ]
  },
  {
   "cell_type": "code",
   "execution_count": 10,
   "metadata": {
    "collapsed": true
   },
   "outputs": [],
   "source": [
    "lsLn = fl.readlines()"
   ]
  },
  {
   "cell_type": "code",
   "execution_count": 11,
   "metadata": {
    "collapsed": true
   },
   "outputs": [],
   "source": [
    "fl.close()"
   ]
  },
  {
   "cell_type": "code",
   "execution_count": 1,
   "metadata": {
    "collapsed": true
   },
   "outputs": [],
   "source": [
    "from datetime import datetime, timedelta"
   ]
  },
  {
   "cell_type": "code",
   "execution_count": 15,
   "metadata": {
    "collapsed": true
   },
   "outputs": [],
   "source": [
    "dt = datetime.today()\n",
    "\n",
    "dt = dt - timedelta(days = 90)"
   ]
  },
  {
   "cell_type": "code",
   "execution_count": 20,
   "metadata": {
    "collapsed": true
   },
   "outputs": [],
   "source": [
    "dtBgn = dt"
   ]
  },
  {
   "cell_type": "code",
   "execution_count": 23,
   "metadata": {
    "collapsed": true
   },
   "outputs": [],
   "source": [
    "sBgnDate = dtBgn.strftime('%Y%m%d')"
   ]
  },
  {
   "cell_type": "code",
   "execution_count": 26,
   "metadata": {
    "collapsed": true
   },
   "outputs": [],
   "source": [
    "lsTrdDates = [s.strip().replace('-', '') for s in lsLn]"
   ]
  },
  {
   "cell_type": "code",
   "execution_count": 29,
   "metadata": {
    "collapsed": true
   },
   "outputs": [],
   "source": [
    "dTrdCal = {}\n",
    "for i in range(1, len(lsTrdDates)-1):\n",
    "    sCurDate = lsTrdDates[i]\n",
    "    if sCurDate < sBgnDate:\n",
    "        continue\n",
    "    dtCur = datetime.strptime(sCurDate, '%Y%m%d')\n",
    "    sNxtTrdDt = lsTrdDates[i+1]\n",
    "    sPrvTrdDt = lsTrdDates[i-1]\n",
    "    bIsCurTrd = True\n",
    "    while sCurDate < sNxtTrdDt:\n",
    "        dTrdCal[sCurDate] = {'nxt_trd':sNxtTrdDt, 'prv_trd':sPrvTrdDt}\n",
    "        if bIsCurTrd:\n",
    "            bIsCurTrd = False\n",
    "            sPrvTrdDt = sCurDate\n",
    "        dtCur = dtCur + timedelta(days=1)\n",
    "        sCurDate = dtCur.strftime('%Y%m%d')\n",
    "    #print(sCurDate)"
   ]
  },
  {
   "cell_type": "code",
   "execution_count": 30,
   "metadata": {},
   "outputs": [
    {
     "data": {
      "text/plain": [
       "{'20170330': {'nxt_trd': '20170331', 'prv_trd': '20170329'},\n",
       " '20170331': {'nxt_trd': '20170405', 'prv_trd': '20170330'},\n",
       " '20170401': {'nxt_trd': '20170405', 'prv_trd': '20170331'},\n",
       " '20170402': {'nxt_trd': '20170405', 'prv_trd': '20170331'},\n",
       " '20170403': {'nxt_trd': '20170405', 'prv_trd': '20170331'},\n",
       " '20170404': {'nxt_trd': '20170405', 'prv_trd': '20170331'},\n",
       " '20170405': {'nxt_trd': '20170406', 'prv_trd': '20170331'},\n",
       " '20170406': {'nxt_trd': '20170407', 'prv_trd': '20170405'},\n",
       " '20170407': {'nxt_trd': '20170410', 'prv_trd': '20170406'},\n",
       " '20170408': {'nxt_trd': '20170410', 'prv_trd': '20170407'},\n",
       " '20170409': {'nxt_trd': '20170410', 'prv_trd': '20170407'},\n",
       " '20170410': {'nxt_trd': '20170411', 'prv_trd': '20170407'},\n",
       " '20170411': {'nxt_trd': '20170412', 'prv_trd': '20170410'},\n",
       " '20170412': {'nxt_trd': '20170413', 'prv_trd': '20170411'},\n",
       " '20170413': {'nxt_trd': '20170414', 'prv_trd': '20170412'},\n",
       " '20170414': {'nxt_trd': '20170417', 'prv_trd': '20170413'},\n",
       " '20170415': {'nxt_trd': '20170417', 'prv_trd': '20170414'},\n",
       " '20170416': {'nxt_trd': '20170417', 'prv_trd': '20170414'},\n",
       " '20170417': {'nxt_trd': '20170418', 'prv_trd': '20170414'},\n",
       " '20170418': {'nxt_trd': '20170419', 'prv_trd': '20170417'},\n",
       " '20170419': {'nxt_trd': '20170420', 'prv_trd': '20170418'},\n",
       " '20170420': {'nxt_trd': '20170421', 'prv_trd': '20170419'},\n",
       " '20170421': {'nxt_trd': '20170424', 'prv_trd': '20170420'},\n",
       " '20170422': {'nxt_trd': '20170424', 'prv_trd': '20170421'},\n",
       " '20170423': {'nxt_trd': '20170424', 'prv_trd': '20170421'},\n",
       " '20170424': {'nxt_trd': '20170425', 'prv_trd': '20170421'},\n",
       " '20170425': {'nxt_trd': '20170426', 'prv_trd': '20170424'},\n",
       " '20170426': {'nxt_trd': '20170427', 'prv_trd': '20170425'},\n",
       " '20170427': {'nxt_trd': '20170428', 'prv_trd': '20170426'},\n",
       " '20170428': {'nxt_trd': '20170502', 'prv_trd': '20170427'},\n",
       " '20170429': {'nxt_trd': '20170502', 'prv_trd': '20170428'},\n",
       " '20170430': {'nxt_trd': '20170502', 'prv_trd': '20170428'},\n",
       " '20170501': {'nxt_trd': '20170502', 'prv_trd': '20170428'},\n",
       " '20170502': {'nxt_trd': '20170503', 'prv_trd': '20170428'},\n",
       " '20170503': {'nxt_trd': '20170504', 'prv_trd': '20170502'},\n",
       " '20170504': {'nxt_trd': '20170505', 'prv_trd': '20170503'},\n",
       " '20170505': {'nxt_trd': '20170508', 'prv_trd': '20170504'},\n",
       " '20170506': {'nxt_trd': '20170508', 'prv_trd': '20170505'},\n",
       " '20170507': {'nxt_trd': '20170508', 'prv_trd': '20170505'},\n",
       " '20170508': {'nxt_trd': '20170509', 'prv_trd': '20170505'},\n",
       " '20170509': {'nxt_trd': '20170510', 'prv_trd': '20170508'},\n",
       " '20170510': {'nxt_trd': '20170511', 'prv_trd': '20170509'},\n",
       " '20170511': {'nxt_trd': '20170512', 'prv_trd': '20170510'},\n",
       " '20170512': {'nxt_trd': '20170515', 'prv_trd': '20170511'},\n",
       " '20170513': {'nxt_trd': '20170515', 'prv_trd': '20170512'},\n",
       " '20170514': {'nxt_trd': '20170515', 'prv_trd': '20170512'},\n",
       " '20170515': {'nxt_trd': '20170516', 'prv_trd': '20170512'},\n",
       " '20170516': {'nxt_trd': '20170517', 'prv_trd': '20170515'},\n",
       " '20170517': {'nxt_trd': '20170518', 'prv_trd': '20170516'},\n",
       " '20170518': {'nxt_trd': '20170519', 'prv_trd': '20170517'},\n",
       " '20170519': {'nxt_trd': '20170522', 'prv_trd': '20170518'},\n",
       " '20170520': {'nxt_trd': '20170522', 'prv_trd': '20170519'},\n",
       " '20170521': {'nxt_trd': '20170522', 'prv_trd': '20170519'},\n",
       " '20170522': {'nxt_trd': '20170523', 'prv_trd': '20170519'},\n",
       " '20170523': {'nxt_trd': '20170524', 'prv_trd': '20170522'},\n",
       " '20170524': {'nxt_trd': '20170525', 'prv_trd': '20170523'},\n",
       " '20170525': {'nxt_trd': '20170526', 'prv_trd': '20170524'},\n",
       " '20170526': {'nxt_trd': '20170531', 'prv_trd': '20170525'},\n",
       " '20170527': {'nxt_trd': '20170531', 'prv_trd': '20170526'},\n",
       " '20170528': {'nxt_trd': '20170531', 'prv_trd': '20170526'},\n",
       " '20170529': {'nxt_trd': '20170531', 'prv_trd': '20170526'},\n",
       " '20170530': {'nxt_trd': '20170531', 'prv_trd': '20170526'},\n",
       " '20170531': {'nxt_trd': '20170601', 'prv_trd': '20170526'},\n",
       " '20170601': {'nxt_trd': '20170602', 'prv_trd': '20170531'},\n",
       " '20170602': {'nxt_trd': '20170605', 'prv_trd': '20170601'},\n",
       " '20170603': {'nxt_trd': '20170605', 'prv_trd': '20170602'},\n",
       " '20170604': {'nxt_trd': '20170605', 'prv_trd': '20170602'},\n",
       " '20170605': {'nxt_trd': '20170606', 'prv_trd': '20170602'},\n",
       " '20170606': {'nxt_trd': '20170607', 'prv_trd': '20170605'},\n",
       " '20170607': {'nxt_trd': '20170608', 'prv_trd': '20170606'},\n",
       " '20170608': {'nxt_trd': '20170609', 'prv_trd': '20170607'},\n",
       " '20170609': {'nxt_trd': '20170612', 'prv_trd': '20170608'},\n",
       " '20170610': {'nxt_trd': '20170612', 'prv_trd': '20170609'},\n",
       " '20170611': {'nxt_trd': '20170612', 'prv_trd': '20170609'},\n",
       " '20170612': {'nxt_trd': '20170613', 'prv_trd': '20170609'},\n",
       " '20170613': {'nxt_trd': '20170614', 'prv_trd': '20170612'},\n",
       " '20170614': {'nxt_trd': '20170615', 'prv_trd': '20170613'},\n",
       " '20170615': {'nxt_trd': '20170616', 'prv_trd': '20170614'},\n",
       " '20170616': {'nxt_trd': '20170619', 'prv_trd': '20170615'},\n",
       " '20170617': {'nxt_trd': '20170619', 'prv_trd': '20170616'},\n",
       " '20170618': {'nxt_trd': '20170619', 'prv_trd': '20170616'},\n",
       " '20170619': {'nxt_trd': '20170620', 'prv_trd': '20170616'},\n",
       " '20170620': {'nxt_trd': '20170621', 'prv_trd': '20170619'},\n",
       " '20170621': {'nxt_trd': '20170622', 'prv_trd': '20170620'},\n",
       " '20170622': {'nxt_trd': '20170623', 'prv_trd': '20170621'},\n",
       " '20170623': {'nxt_trd': '20170626', 'prv_trd': '20170622'},\n",
       " '20170624': {'nxt_trd': '20170626', 'prv_trd': '20170623'},\n",
       " '20170625': {'nxt_trd': '20170626', 'prv_trd': '20170623'},\n",
       " '20170626': {'nxt_trd': '20170627', 'prv_trd': '20170623'},\n",
       " '20170627': {'nxt_trd': '20170628', 'prv_trd': '20170626'},\n",
       " '20170628': {'nxt_trd': '20170629', 'prv_trd': '20170627'},\n",
       " '20170629': {'nxt_trd': '20170630', 'prv_trd': '20170628'},\n",
       " '20170630': {'nxt_trd': '20170703', 'prv_trd': '20170629'},\n",
       " '20170701': {'nxt_trd': '20170703', 'prv_trd': '20170630'},\n",
       " '20170702': {'nxt_trd': '20170703', 'prv_trd': '20170630'},\n",
       " '20170703': {'nxt_trd': '20170704', 'prv_trd': '20170630'},\n",
       " '20170704': {'nxt_trd': '20170705', 'prv_trd': '20170703'},\n",
       " '20170705': {'nxt_trd': '20170706', 'prv_trd': '20170704'},\n",
       " '20170706': {'nxt_trd': '20170707', 'prv_trd': '20170705'},\n",
       " '20170707': {'nxt_trd': '20170710', 'prv_trd': '20170706'},\n",
       " '20170708': {'nxt_trd': '20170710', 'prv_trd': '20170707'},\n",
       " '20170709': {'nxt_trd': '20170710', 'prv_trd': '20170707'},\n",
       " '20170710': {'nxt_trd': '20170711', 'prv_trd': '20170707'},\n",
       " '20170711': {'nxt_trd': '20170712', 'prv_trd': '20170710'},\n",
       " '20170712': {'nxt_trd': '20170713', 'prv_trd': '20170711'},\n",
       " '20170713': {'nxt_trd': '20170714', 'prv_trd': '20170712'},\n",
       " '20170714': {'nxt_trd': '20170717', 'prv_trd': '20170713'},\n",
       " '20170715': {'nxt_trd': '20170717', 'prv_trd': '20170714'},\n",
       " '20170716': {'nxt_trd': '20170717', 'prv_trd': '20170714'},\n",
       " '20170717': {'nxt_trd': '20170718', 'prv_trd': '20170714'},\n",
       " '20170718': {'nxt_trd': '20170719', 'prv_trd': '20170717'},\n",
       " '20170719': {'nxt_trd': '20170720', 'prv_trd': '20170718'},\n",
       " '20170720': {'nxt_trd': '20170721', 'prv_trd': '20170719'},\n",
       " '20170721': {'nxt_trd': '20170724', 'prv_trd': '20170720'},\n",
       " '20170722': {'nxt_trd': '20170724', 'prv_trd': '20170721'},\n",
       " '20170723': {'nxt_trd': '20170724', 'prv_trd': '20170721'},\n",
       " '20170724': {'nxt_trd': '20170725', 'prv_trd': '20170721'},\n",
       " '20170725': {'nxt_trd': '20170726', 'prv_trd': '20170724'},\n",
       " '20170726': {'nxt_trd': '20170727', 'prv_trd': '20170725'},\n",
       " '20170727': {'nxt_trd': '20170728', 'prv_trd': '20170726'},\n",
       " '20170728': {'nxt_trd': '20170731', 'prv_trd': '20170727'},\n",
       " '20170729': {'nxt_trd': '20170731', 'prv_trd': '20170728'},\n",
       " '20170730': {'nxt_trd': '20170731', 'prv_trd': '20170728'},\n",
       " '20170731': {'nxt_trd': '20170801', 'prv_trd': '20170728'},\n",
       " '20170801': {'nxt_trd': '20170802', 'prv_trd': '20170731'},\n",
       " '20170802': {'nxt_trd': '20170803', 'prv_trd': '20170801'},\n",
       " '20170803': {'nxt_trd': '20170804', 'prv_trd': '20170802'},\n",
       " '20170804': {'nxt_trd': '20170807', 'prv_trd': '20170803'},\n",
       " '20170805': {'nxt_trd': '20170807', 'prv_trd': '20170804'},\n",
       " '20170806': {'nxt_trd': '20170807', 'prv_trd': '20170804'},\n",
       " '20170807': {'nxt_trd': '20170808', 'prv_trd': '20170804'},\n",
       " '20170808': {'nxt_trd': '20170809', 'prv_trd': '20170807'},\n",
       " '20170809': {'nxt_trd': '20170810', 'prv_trd': '20170808'},\n",
       " '20170810': {'nxt_trd': '20170811', 'prv_trd': '20170809'},\n",
       " '20170811': {'nxt_trd': '20170814', 'prv_trd': '20170810'},\n",
       " '20170812': {'nxt_trd': '20170814', 'prv_trd': '20170811'},\n",
       " '20170813': {'nxt_trd': '20170814', 'prv_trd': '20170811'},\n",
       " '20170814': {'nxt_trd': '20170815', 'prv_trd': '20170811'},\n",
       " '20170815': {'nxt_trd': '20170816', 'prv_trd': '20170814'},\n",
       " '20170816': {'nxt_trd': '20170817', 'prv_trd': '20170815'},\n",
       " '20170817': {'nxt_trd': '20170818', 'prv_trd': '20170816'},\n",
       " '20170818': {'nxt_trd': '20170821', 'prv_trd': '20170817'},\n",
       " '20170819': {'nxt_trd': '20170821', 'prv_trd': '20170818'},\n",
       " '20170820': {'nxt_trd': '20170821', 'prv_trd': '20170818'},\n",
       " '20170821': {'nxt_trd': '20170822', 'prv_trd': '20170818'},\n",
       " '20170822': {'nxt_trd': '20170823', 'prv_trd': '20170821'},\n",
       " '20170823': {'nxt_trd': '20170824', 'prv_trd': '20170822'},\n",
       " '20170824': {'nxt_trd': '20170825', 'prv_trd': '20170823'},\n",
       " '20170825': {'nxt_trd': '20170828', 'prv_trd': '20170824'},\n",
       " '20170826': {'nxt_trd': '20170828', 'prv_trd': '20170825'},\n",
       " '20170827': {'nxt_trd': '20170828', 'prv_trd': '20170825'},\n",
       " '20170828': {'nxt_trd': '20170829', 'prv_trd': '20170825'},\n",
       " '20170829': {'nxt_trd': '20170830', 'prv_trd': '20170828'},\n",
       " '20170830': {'nxt_trd': '20170831', 'prv_trd': '20170829'},\n",
       " '20170831': {'nxt_trd': '20170901', 'prv_trd': '20170830'},\n",
       " '20170901': {'nxt_trd': '20170904', 'prv_trd': '20170831'},\n",
       " '20170902': {'nxt_trd': '20170904', 'prv_trd': '20170901'},\n",
       " '20170903': {'nxt_trd': '20170904', 'prv_trd': '20170901'},\n",
       " '20170904': {'nxt_trd': '20170905', 'prv_trd': '20170901'},\n",
       " '20170905': {'nxt_trd': '20170906', 'prv_trd': '20170904'},\n",
       " '20170906': {'nxt_trd': '20170907', 'prv_trd': '20170905'},\n",
       " '20170907': {'nxt_trd': '20170908', 'prv_trd': '20170906'},\n",
       " '20170908': {'nxt_trd': '20170911', 'prv_trd': '20170907'},\n",
       " '20170909': {'nxt_trd': '20170911', 'prv_trd': '20170908'},\n",
       " '20170910': {'nxt_trd': '20170911', 'prv_trd': '20170908'},\n",
       " '20170911': {'nxt_trd': '20170912', 'prv_trd': '20170908'},\n",
       " '20170912': {'nxt_trd': '20170913', 'prv_trd': '20170911'},\n",
       " '20170913': {'nxt_trd': '20170914', 'prv_trd': '20170912'},\n",
       " '20170914': {'nxt_trd': '20170915', 'prv_trd': '20170913'},\n",
       " '20170915': {'nxt_trd': '20170918', 'prv_trd': '20170914'},\n",
       " '20170916': {'nxt_trd': '20170918', 'prv_trd': '20170915'},\n",
       " '20170917': {'nxt_trd': '20170918', 'prv_trd': '20170915'},\n",
       " '20170918': {'nxt_trd': '20170919', 'prv_trd': '20170915'},\n",
       " '20170919': {'nxt_trd': '20170920', 'prv_trd': '20170918'},\n",
       " '20170920': {'nxt_trd': '20170921', 'prv_trd': '20170919'},\n",
       " '20170921': {'nxt_trd': '20170922', 'prv_trd': '20170920'},\n",
       " '20170922': {'nxt_trd': '20170925', 'prv_trd': '20170921'},\n",
       " '20170923': {'nxt_trd': '20170925', 'prv_trd': '20170922'},\n",
       " '20170924': {'nxt_trd': '20170925', 'prv_trd': '20170922'},\n",
       " '20170925': {'nxt_trd': '20170926', 'prv_trd': '20170922'},\n",
       " '20170926': {'nxt_trd': '20170927', 'prv_trd': '20170925'},\n",
       " '20170927': {'nxt_trd': '20170928', 'prv_trd': '20170926'},\n",
       " '20170928': {'nxt_trd': '20170929', 'prv_trd': '20170927'},\n",
       " '20170929': {'nxt_trd': '20171009', 'prv_trd': '20170928'},\n",
       " '20170930': {'nxt_trd': '20171009', 'prv_trd': '20170929'},\n",
       " '20171001': {'nxt_trd': '20171009', 'prv_trd': '20170929'},\n",
       " '20171002': {'nxt_trd': '20171009', 'prv_trd': '20170929'},\n",
       " '20171003': {'nxt_trd': '20171009', 'prv_trd': '20170929'},\n",
       " '20171004': {'nxt_trd': '20171009', 'prv_trd': '20170929'},\n",
       " '20171005': {'nxt_trd': '20171009', 'prv_trd': '20170929'},\n",
       " '20171006': {'nxt_trd': '20171009', 'prv_trd': '20170929'},\n",
       " '20171007': {'nxt_trd': '20171009', 'prv_trd': '20170929'},\n",
       " '20171008': {'nxt_trd': '20171009', 'prv_trd': '20170929'},\n",
       " '20171009': {'nxt_trd': '20171010', 'prv_trd': '20170929'},\n",
       " '20171010': {'nxt_trd': '20171011', 'prv_trd': '20171009'},\n",
       " '20171011': {'nxt_trd': '20171012', 'prv_trd': '20171010'},\n",
       " '20171012': {'nxt_trd': '20171013', 'prv_trd': '20171011'},\n",
       " '20171013': {'nxt_trd': '20171016', 'prv_trd': '20171012'},\n",
       " '20171014': {'nxt_trd': '20171016', 'prv_trd': '20171013'},\n",
       " '20171015': {'nxt_trd': '20171016', 'prv_trd': '20171013'},\n",
       " '20171016': {'nxt_trd': '20171017', 'prv_trd': '20171013'},\n",
       " '20171017': {'nxt_trd': '20171018', 'prv_trd': '20171016'},\n",
       " '20171018': {'nxt_trd': '20171019', 'prv_trd': '20171017'},\n",
       " '20171019': {'nxt_trd': '20171020', 'prv_trd': '20171018'},\n",
       " '20171020': {'nxt_trd': '20171023', 'prv_trd': '20171019'},\n",
       " '20171021': {'nxt_trd': '20171023', 'prv_trd': '20171020'},\n",
       " '20171022': {'nxt_trd': '20171023', 'prv_trd': '20171020'},\n",
       " '20171023': {'nxt_trd': '20171024', 'prv_trd': '20171020'},\n",
       " '20171024': {'nxt_trd': '20171025', 'prv_trd': '20171023'},\n",
       " '20171025': {'nxt_trd': '20171026', 'prv_trd': '20171024'},\n",
       " '20171026': {'nxt_trd': '20171027', 'prv_trd': '20171025'},\n",
       " '20171027': {'nxt_trd': '20171030', 'prv_trd': '20171026'},\n",
       " '20171028': {'nxt_trd': '20171030', 'prv_trd': '20171027'},\n",
       " '20171029': {'nxt_trd': '20171030', 'prv_trd': '20171027'},\n",
       " '20171030': {'nxt_trd': '20171031', 'prv_trd': '20171027'},\n",
       " '20171031': {'nxt_trd': '20171101', 'prv_trd': '20171030'},\n",
       " '20171101': {'nxt_trd': '20171102', 'prv_trd': '20171031'},\n",
       " '20171102': {'nxt_trd': '20171103', 'prv_trd': '20171101'},\n",
       " '20171103': {'nxt_trd': '20171106', 'prv_trd': '20171102'},\n",
       " '20171104': {'nxt_trd': '20171106', 'prv_trd': '20171103'},\n",
       " '20171105': {'nxt_trd': '20171106', 'prv_trd': '20171103'},\n",
       " '20171106': {'nxt_trd': '20171107', 'prv_trd': '20171103'},\n",
       " '20171107': {'nxt_trd': '20171108', 'prv_trd': '20171106'},\n",
       " '20171108': {'nxt_trd': '20171109', 'prv_trd': '20171107'},\n",
       " '20171109': {'nxt_trd': '20171110', 'prv_trd': '20171108'},\n",
       " '20171110': {'nxt_trd': '20171113', 'prv_trd': '20171109'},\n",
       " '20171111': {'nxt_trd': '20171113', 'prv_trd': '20171110'},\n",
       " '20171112': {'nxt_trd': '20171113', 'prv_trd': '20171110'},\n",
       " '20171113': {'nxt_trd': '20171114', 'prv_trd': '20171110'},\n",
       " '20171114': {'nxt_trd': '20171115', 'prv_trd': '20171113'},\n",
       " '20171115': {'nxt_trd': '20171116', 'prv_trd': '20171114'},\n",
       " '20171116': {'nxt_trd': '20171117', 'prv_trd': '20171115'},\n",
       " '20171117': {'nxt_trd': '20171120', 'prv_trd': '20171116'},\n",
       " '20171118': {'nxt_trd': '20171120', 'prv_trd': '20171117'},\n",
       " '20171119': {'nxt_trd': '20171120', 'prv_trd': '20171117'},\n",
       " '20171120': {'nxt_trd': '20171121', 'prv_trd': '20171117'},\n",
       " '20171121': {'nxt_trd': '20171122', 'prv_trd': '20171120'},\n",
       " '20171122': {'nxt_trd': '20171123', 'prv_trd': '20171121'},\n",
       " '20171123': {'nxt_trd': '20171124', 'prv_trd': '20171122'},\n",
       " '20171124': {'nxt_trd': '20171127', 'prv_trd': '20171123'},\n",
       " '20171125': {'nxt_trd': '20171127', 'prv_trd': '20171124'},\n",
       " '20171126': {'nxt_trd': '20171127', 'prv_trd': '20171124'},\n",
       " '20171127': {'nxt_trd': '20171128', 'prv_trd': '20171124'},\n",
       " '20171128': {'nxt_trd': '20171129', 'prv_trd': '20171127'},\n",
       " '20171129': {'nxt_trd': '20171130', 'prv_trd': '20171128'},\n",
       " '20171130': {'nxt_trd': '20171201', 'prv_trd': '20171129'},\n",
       " '20171201': {'nxt_trd': '20171204', 'prv_trd': '20171130'},\n",
       " '20171202': {'nxt_trd': '20171204', 'prv_trd': '20171201'},\n",
       " '20171203': {'nxt_trd': '20171204', 'prv_trd': '20171201'},\n",
       " '20171204': {'nxt_trd': '20171205', 'prv_trd': '20171201'},\n",
       " '20171205': {'nxt_trd': '20171206', 'prv_trd': '20171204'},\n",
       " '20171206': {'nxt_trd': '20171207', 'prv_trd': '20171205'},\n",
       " '20171207': {'nxt_trd': '20171208', 'prv_trd': '20171206'},\n",
       " '20171208': {'nxt_trd': '20171211', 'prv_trd': '20171207'},\n",
       " '20171209': {'nxt_trd': '20171211', 'prv_trd': '20171208'},\n",
       " '20171210': {'nxt_trd': '20171211', 'prv_trd': '20171208'},\n",
       " '20171211': {'nxt_trd': '20171212', 'prv_trd': '20171208'},\n",
       " '20171212': {'nxt_trd': '20171213', 'prv_trd': '20171211'},\n",
       " '20171213': {'nxt_trd': '20171214', 'prv_trd': '20171212'},\n",
       " '20171214': {'nxt_trd': '20171215', 'prv_trd': '20171213'},\n",
       " '20171215': {'nxt_trd': '20171218', 'prv_trd': '20171214'},\n",
       " '20171216': {'nxt_trd': '20171218', 'prv_trd': '20171215'},\n",
       " '20171217': {'nxt_trd': '20171218', 'prv_trd': '20171215'},\n",
       " '20171218': {'nxt_trd': '20171219', 'prv_trd': '20171215'},\n",
       " '20171219': {'nxt_trd': '20171220', 'prv_trd': '20171218'},\n",
       " '20171220': {'nxt_trd': '20171221', 'prv_trd': '20171219'},\n",
       " '20171221': {'nxt_trd': '20171222', 'prv_trd': '20171220'},\n",
       " '20171222': {'nxt_trd': '20171225', 'prv_trd': '20171221'},\n",
       " '20171223': {'nxt_trd': '20171225', 'prv_trd': '20171222'},\n",
       " '20171224': {'nxt_trd': '20171225', 'prv_trd': '20171222'},\n",
       " '20171225': {'nxt_trd': '20171226', 'prv_trd': '20171222'},\n",
       " '20171226': {'nxt_trd': '20171227', 'prv_trd': '20171225'},\n",
       " '20171227': {'nxt_trd': '20171228', 'prv_trd': '20171226'},\n",
       " '20171228': {'nxt_trd': '20171229', 'prv_trd': '20171227'}}"
      ]
     },
     "execution_count": 30,
     "metadata": {},
     "output_type": "execute_result"
    }
   ],
   "source": [
    "dTrdCal"
   ]
  },
  {
   "cell_type": "code",
   "execution_count": 34,
   "metadata": {
    "collapsed": true
   },
   "outputs": [],
   "source": [
    "# Estimate next year's trade calendar\n",
    "import lunardate\n",
    "from lunardate import LunarDate"
   ]
  },
  {
   "cell_type": "code",
   "execution_count": 34,
   "metadata": {
    "collapsed": true
   },
   "outputs": [],
   "source": [
    "def genNextYearEstCal():\n",
    "    # http://www.17jiaoyu.com/bangzhu/kaixueshijian/201612/20161202145339_297507.html\n",
    "    # https://publicholidays.cn/zh/2018-dates/\n",
    "    lsHoliday = [\n",
    "        ('20180101', '20180101'),\n",
    "        ('20180215', '20180221'),\n",
    "        ('20180405', '20180406'),\n",
    "        ('20180430', '20180501'),\n",
    "        ('20180618', '20180618'),\n",
    "        ('20180924', '20180924'),\n",
    "        ('20181001', '20181007')\n",
    "    ]\n",
    "\n",
    "\n",
    "    iBgnYr = 2017\n",
    "    dtBgn = datetime(iBgnYr, 12, 1)\n",
    "    dtEnd = datetime(iBgnYr+1, 12, 31)\n",
    "\n",
    "    dTrdCal = {}\n",
    "    dtCur = dtBgn\n",
    "    while dtCur <= dtEnd:\n",
    "        sCur = dtCur.strftime('%Y%m%d')\n",
    "        bCanTrd = True\n",
    "        # Python starts with 0 = Monday. 5 = Saturday, 6 = Sunday\n",
    "        if dtCur.weekday() in (5, 6):\n",
    "            bCanTrd = False\n",
    "        else:\n",
    "            for sHldBgn, sHldEnd in lsHoliday:\n",
    "                if sCur >= sHldBgn and sCur <= sHldEnd:\n",
    "                    bCanTrd = False\n",
    "        dTrdCal[sCur] = {'can_trd': bCanTrd}\n",
    "        dtCur = dtCur + timedelta(days = 1)\n",
    "    #end while\n",
    "    return dTrdCal\n",
    "#end def"
   ]
  },
  {
   "cell_type": "code",
   "execution_count": 35,
   "metadata": {
    "collapsed": true
   },
   "outputs": [],
   "source": [
    "dTrdCal = genNextYearEstCal()"
   ]
  },
  {
   "cell_type": "code",
   "execution_count": 12,
   "metadata": {
    "collapsed": true
   },
   "outputs": [],
   "source": [
    "def readDateInfo(sTrdDayFile = 'C:\\\\workspace\\\\python\\\\PriceCompare\\\\tradeday.txt'):\n",
    "        \n",
    "    flTrdDay = open(sTrdDayFile, 'r', encoding='utf-8', errors = 'ignore')\n",
    "\n",
    "    dTradeDay = {}\n",
    "    for line in flTrdDay:\n",
    "        lsCol    = line.strip().split(';')\n",
    "        sDay     = lsCol[0]\n",
    "        sWorkDay = lsCol[1]\n",
    "        sPrevDay = lsCol[2]\n",
    "        #if sDay >= self.sToday: break\n",
    "        dTradeDay[sDay] = (sWorkDay, sPrevDay)\n",
    "    #end for\n",
    "\n",
    "    flTrdDay.close()\n",
    "\n",
    "    #print('Previous trade day is %s' % sPrevDay)\n",
    "\n",
    "    return dTradeDay\n",
    "#end of def"
   ]
  },
  {
   "cell_type": "code",
   "execution_count": 13,
   "metadata": {
    "collapsed": true
   },
   "outputs": [],
   "source": [
    "dTradeDay = readDateInfo()"
   ]
  },
  {
   "cell_type": "code",
   "execution_count": 30,
   "metadata": {
    "collapsed": true
   },
   "outputs": [],
   "source": [
    "dCal1 = {}\n",
    "for sCur, t in dTradeDay.items():\n",
    "    sCanTrd = True\n",
    "    if '非' in t[0]:\n",
    "        sCanTrd = False\n",
    "    dCal1[sCur] = {'can_trd': sCanTrd}\n",
    "    '''\n",
    "    sPrv = t[1]\n",
    "    d = {'can_trd': sCanTrd, 'prv_trd': sPrv}\n",
    "    if sCur in dCal1:\n",
    "        dCal1[sCur].update(d)\n",
    "    else:\n",
    "        dCal1[sCur] = d\n",
    "    if sPrv in dCal1:\n",
    "        d = dCal1[sPrv]\n",
    "        if 'nxt_trd' in d:\n",
    "            if sCur > d['nxt_trd']:\n",
    "                d['nxt_trd'] = sCur\n",
    "        else:\n",
    "            d['nxt_trd'] = sCur\n",
    "    else:\n",
    "        dCal1[sPrv] = {'nxt_trd': sCur}\n",
    "    '''\n"
   ]
  },
  {
   "cell_type": "code",
   "execution_count": 36,
   "metadata": {
    "collapsed": true
   },
   "outputs": [],
   "source": [
    "dCal1.update(dTrdCal)\n",
    "dTrdCal = dCal1"
   ]
  },
  {
   "cell_type": "code",
   "execution_count": 27,
   "metadata": {
    "collapsed": true
   },
   "outputs": [],
   "source": [
    "for k, v in dTrdCal.items():\n",
    "    if v == 'yes':\n",
    "        dTrdCal[k] = True\n",
    "    else:\n",
    "        dTrdCal[k] = False"
   ]
  },
  {
   "cell_type": "code",
   "execution_count": 26,
   "metadata": {
    "collapsed": true
   },
   "outputs": [],
   "source": [
    "dtBgn = datetime.today() - timedelta(days = 90)\n",
    "sBgn = dtBgn.strftime('%Y%m%d')"
   ]
  },
  {
   "cell_type": "code",
   "execution_count": 37,
   "metadata": {
    "collapsed": true
   },
   "outputs": [],
   "source": [
    "lsDates = sorted(dTrdCal.keys())\n",
    "\n",
    "for i in range(1, len(lsDates)-1):\n",
    "    sCur = lsDates[i]\n",
    "    if sCur < sBgn:\n",
    "        continue\n",
    "    dtCur = datetime.strptime(sCur, '%Y%m%d')\n",
    "    for j in range(i+1, len(lsDates)):\n",
    "        sNxt = lsDates[j]\n",
    "        if dTrdCal[sNxt]['can_trd']:\n",
    "            dTrdCal[sCur]['nxt_trd'] = sNxt\n",
    "            break\n",
    "    for j in range(i-1, -1, -1):\n",
    "        sPrv = lsDates[j]\n",
    "        if dTrdCal[sPrv]['can_trd']:\n",
    "            dTrdCal[sCur]['prv_trd'] = sPrv\n",
    "            break\n",
    "#end for"
   ]
  },
  {
   "cell_type": "code",
   "execution_count": 32,
   "metadata": {},
   "outputs": [
    {
     "data": {
      "text/plain": [
       "LunarDate(2017, 6, 5, 0)"
      ]
     },
     "execution_count": 32,
     "metadata": {},
     "output_type": "execute_result"
    }
   ],
   "source": [
    "lunardate.LunarDate.today()"
   ]
  },
  {
   "cell_type": "code",
   "execution_count": 36,
   "metadata": {},
   "outputs": [
    {
     "data": {
      "text/plain": [
       "datetime.date(2018, 2, 16)"
      ]
     },
     "execution_count": 36,
     "metadata": {},
     "output_type": "execute_result"
    }
   ],
   "source": [
    "LunarDate(2018,1,1).toSolarDate()"
   ]
  },
  {
   "cell_type": "code",
   "execution_count": 4,
   "metadata": {
    "collapsed": true
   },
   "outputs": [],
   "source": [
    "from collections import OrderedDict, defaultdict\n",
    "import ast\n",
    "def readTuplesToDict(sFileName, sEncoding = 'utf-8', sType = 'dict'):\n",
    "    ls = []\n",
    "    with open(sFileName, 'r', encoding = sEncoding, errors = 'ignore') as fl:\n",
    "        for s in fl.readlines():\n",
    "            s = s.strip()\n",
    "            if s == '': continue\n",
    "            if s[0] == '#': continue    # Ignore comments\n",
    "            t = ast.literal_eval(s)\n",
    "            ls.append(t)\n",
    "        #end for\n",
    "    #end with\n",
    "\n",
    "    if sType == 'OrderedDict':\n",
    "        return OrderedDict(ls)\n",
    "    elif sType == 'ListDict':\n",
    "        return defaultdict(list, ls)\n",
    "    elif sType == 'DictDict':\n",
    "        return defaultdict(dict, ls)\n",
    "    else:\n",
    "        return dict(ls)\n",
    "#def"
   ]
  },
  {
   "cell_type": "code",
   "execution_count": 2,
   "metadata": {
    "collapsed": true
   },
   "outputs": [],
   "source": [
    "from pprint import saferepr\n",
    "def writeTupleDict(d, sFileName, sEncoding = 'utf-8', bReverse = False):\n",
    "    ls = sorted(d.items(), key = lambda t:t[0], reverse = bReverse)\n",
    "    if sEncoding == '':\n",
    "        fl = open(sFileName, 'w', errors = 'ignore')\n",
    "    else:\n",
    "        fl = open(sFileName, 'w', encoding = sEncoding, errors = 'ignore')\n",
    "    for item in ls:\n",
    "        #sLine = repr(item)\n",
    "        sLine = saferepr(item)\n",
    "        print(sLine, file = fl)\n",
    "    #end for\n",
    "    fl.close()\n",
    "#def"
   ]
  },
  {
   "cell_type": "code",
   "execution_count": 5,
   "metadata": {
    "collapsed": true
   },
   "outputs": [],
   "source": [
    "od = readTuplesToDict('TrdCalCn.txt', sType = 'OrderedDict')"
   ]
  },
  {
   "cell_type": "code",
   "execution_count": 7,
   "metadata": {
    "collapsed": true
   },
   "outputs": [],
   "source": [
    "slDates = list(od.keys())"
   ]
  },
  {
   "cell_type": "code",
   "execution_count": 9,
   "metadata": {
    "collapsed": true
   },
   "outputs": [],
   "source": [
    "dd = defaultdict(dict)\n",
    "i = 0\n",
    "j = 0\n",
    "for sDate in od.keys():\n",
    "    dd[sDate]['ntl_idx'] = i\n",
    "    i += 1\n",
    "    if od[sDate]['can_trd']:\n",
    "        dd[sDate]['trd_idx'] = j\n",
    "        j += 1\n",
    "    else:\n",
    "        dd[sDate]['trd_idx'] = None\n",
    "    #end if\n",
    "#end for\n",
    "\n"
   ]
  },
  {
   "cell_type": "code",
   "execution_count": 11,
   "metadata": {
    "collapsed": true
   },
   "outputs": [],
   "source": [
    "writeTupleDict(dd, 'TrdCalCn2.txt')"
   ]
  },
  {
   "cell_type": "code",
   "execution_count": 44,
   "metadata": {
    "collapsed": true
   },
   "outputs": [],
   "source": [
    "writeTupleDict(dTrdCal, 'C:\\\\workspace\\\\python\\\\TradeBot\\\\params\\\\TradeCalendar.txt')"
   ]
  },
  {
   "cell_type": "code",
   "execution_count": 1,
   "metadata": {
    "collapsed": true
   },
   "outputs": [],
   "source": [
    "from datetime import datetime, timedelta"
   ]
  },
  {
   "cell_type": "code",
   "execution_count": 2,
   "metadata": {
    "collapsed": true
   },
   "outputs": [],
   "source": [
    "# 1. Ethical, quant and econ is 720 pages\n",
    "n = 720\n",
    "# 2. FRA is 320 pages\n",
    "n += 320\n",
    "# 3. Corp: 310\n",
    "n += 310\n",
    "# 4. Equity: 570\n",
    "n += 570\n",
    "# 5. FxInc, Deriv: 440\n",
    "n += 440\n",
    "# 6. Alt, port: 530\n",
    "n += 530"
   ]
  },
  {
   "cell_type": "code",
   "execution_count": 4,
   "metadata": {},
   "outputs": [],
   "source": [
    "# Say begin at August 1 2017, end at June 22, 2018\n",
    "# https://www.reddit.com/r/CFA/comments/6ppg5r/2018_exam_date_june_23/\n",
    "# And let's just say 2 out of 7 days will be wasted\n",
    "fEfct = 5/7\n",
    "\n",
    "# First round\n",
    "dtBgn = datetime(2017, 8, 1)\n",
    "dtEnd = datetime(2018, 2, 22)\n",
    "td = dtEnd - dtBgn"
   ]
  },
  {
   "cell_type": "code",
   "execution_count": 7,
   "metadata": {},
   "outputs": [
    {
     "data": {
      "text/plain": [
       "19.736585365853657"
      ]
     },
     "execution_count": 7,
     "metadata": {},
     "output_type": "execute_result"
    }
   ],
   "source": [
    "# You have to read at least 20 pages a day to complete the readings in 7 months.\n",
    "n / td.days / fEfct"
   ]
  },
  {
   "cell_type": "code",
   "execution_count": 8,
   "metadata": {},
   "outputs": [
    {
     "data": {
      "text/plain": [
       "[0, 1, 2, 3, 4, 5, 6, 7, 8, 9]"
      ]
     },
     "execution_count": 8,
     "metadata": {},
     "output_type": "execute_result"
    }
   ],
   "source": [
    "list(range(10))"
   ]
  },
  {
   "cell_type": "code",
   "execution_count": null,
   "metadata": {
    "collapsed": true
   },
   "outputs": [],
   "source": []
  }
 ],
 "metadata": {
  "kernelspec": {
   "display_name": "Python 3",
   "language": "python",
   "name": "python3"
  },
  "language_info": {
   "codemirror_mode": {
    "name": "ipython",
    "version": 3
   },
   "file_extension": ".py",
   "mimetype": "text/x-python",
   "name": "python",
   "nbconvert_exporter": "python",
   "pygments_lexer": "ipython3",
   "version": "3.6.2"
  }
 },
 "nbformat": 4,
 "nbformat_minor": 2
}
