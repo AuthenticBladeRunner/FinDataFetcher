{
 "cells": [
  {
   "cell_type": "code",
   "execution_count": 9,
   "metadata": {
    "collapsed": false
   },
   "outputs": [],
   "source": [
    "# BSM-Model (with no carry benefits)\n",
    "\n",
    "# c = SN(d1) - exp(-rT)XN(d2)\n",
    "# p = exp(-rT)XN(-d2) - SN(-d1)\n",
    "\n",
    "# where\n",
    "\n",
    "# d1 = [ln(S/X) + (r + sigma^2 / 2) T] / (sigma * sqrt(T))\n",
    "# d2 = d1 - sigma * sqrt(T)\n",
    "\n",
    "# sigma is the volatility\n",
    "# r is the annualized continuously compounded (risk-free) interest rate\n",
    "# N(x) denotes the standard normal cumulative distribution function\n",
    "\n",
    "# ======================================================================\n",
    "\n",
    "# BSM-Model (with carry benefits (continuously compounded, denoted as q))\n",
    "\n",
    "# c = exp(-qT)SN(d1) - exp(-rT)XN(d2)\n",
    "# p = exp(-rT)XN(-d2) - exp(-qT)SN(-d1)\n",
    "\n",
    "# Greeks:\n",
    "# https://en.wikipedia.org/wiki/Greeks_(finance)#Formulas_for_European_option_Greeks\n",
    "\n",
    "from math import *\n",
    "from scipy.stats import norm\n",
    "import numpy as np"
   ]
  },
  {
   "cell_type": "code",
   "execution_count": 60,
   "metadata": {
    "collapsed": true
   },
   "outputs": [],
   "source": [
    "# Calculate option price based on BSM model\n",
    "def calc_bsm_opt_price(S, X, T, sigma, r, q = 0, optype = 'c'):\n",
    "    d1 = (np.log(S / X) + (r + sigma**2 / 2) * T) / (sigma * np.sqrt(T))\n",
    "    d2 = d1 - sigma * np.sqrt(T)\n",
    "    N = norm.cdf\n",
    "    if optype == 'c':\n",
    "        delta = np.exp(-q * T) * N(d1)\n",
    "        print('Call delta is {}'.format(delta))\n",
    "        prm = S * delta - np.exp(-r * T) * X * N(d2)\n",
    "    else:\n",
    "        delta = -np.exp(-q * T) * N(-d1)\n",
    "        print('Put delta is {}'.format(delta))\n",
    "        prm = np.exp(-r * T) * X * N(-d2) + S * delta\n",
    "    return prm\n",
    "#end def"
   ]
  },
  {
   "cell_type": "code",
   "execution_count": 48,
   "metadata": {
    "collapsed": false
   },
   "outputs": [
    {
     "name": "stdout",
     "output_type": "stream",
     "text": [
      "Call delta is 0.9999996902148528\n"
     ]
    },
    {
     "data": {
      "text/plain": [
       "0.34019174434848853"
      ]
     },
     "execution_count": 48,
     "metadata": {},
     "output_type": "execute_result"
    }
   ],
   "source": [
    "calc_bsm_opt_price(2.490, 2.153, 15/365, 0.1458, 0.0361)"
   ]
  },
  {
   "cell_type": "code",
   "execution_count": 254,
   "metadata": {
    "collapsed": false
   },
   "outputs": [
    {
     "name": "stdout",
     "output_type": "stream",
     "text": [
      "Call delta is 0.9926811616748163\n"
     ]
    },
    {
     "data": {
      "text/plain": [
       "0.31509971999303987"
      ]
     },
     "execution_count": 254,
     "metadata": {},
     "output_type": "execute_result"
    }
   ],
   "source": [
    "calc_bsm_opt_price(2.465, 2.153, 13/365, 0.3, 0.036, optype = 'c')"
   ]
  },
  {
   "cell_type": "code",
   "execution_count": 41,
   "metadata": {
    "collapsed": false
   },
   "outputs": [
    {
     "data": {
      "text/plain": [
       "14.990197597320858"
      ]
     },
     "execution_count": 41,
     "metadata": {},
     "output_type": "execute_result"
    }
   ],
   "source": [
    "calc_bsm_opt_price(100, 100, 1, 0.32, 0.05)"
   ]
  },
  {
   "cell_type": "code",
   "execution_count": null,
   "metadata": {
    "collapsed": true
   },
   "outputs": [],
   "source": [
    "# 上证 50 ETF 波动率指数 计算方法\n",
    "# http://www.csindex.com.cn/sseportal/upload/files/upload/000188hbook.pdf\n",
    "\n"
   ]
  },
  {
   "cell_type": "code",
   "execution_count": 49,
   "metadata": {
    "collapsed": true
   },
   "outputs": [],
   "source": [
    "%matplotlib inline"
   ]
  },
  {
   "cell_type": "code",
   "execution_count": 50,
   "metadata": {
    "collapsed": true
   },
   "outputs": [],
   "source": [
    "import matplotlib.pyplot as plt"
   ]
  },
  {
   "cell_type": "code",
   "execution_count": 112,
   "metadata": {
    "collapsed": false
   },
   "outputs": [],
   "source": [
    "r_S_expect = 0.0\n",
    "sigma = 0.1455/sqrt(244)\n",
    "r_S_series = np.linspace(r_S_expect-3*sigma, r_S_expect+3*sigma, 100)\n",
    "\n",
    "#plt.plot(r_S_series, norm.pdf(r_S_series, r_S_expect, sigma))\n",
    "#plt.show()"
   ]
  },
  {
   "cell_type": "code",
   "execution_count": 113,
   "metadata": {
    "collapsed": false
   },
   "outputs": [
    {
     "name": "stdout",
     "output_type": "stream",
     "text": [
      "Call delta is 1.0\n",
      "Call delta is [ 1.  1.  1.  1.  1.  1.  1.  1.  1.  1.  1.  1.  1.  1.  1.  1.  1.  1.\n",
      "  1.  1.  1.  1.  1.  1.  1.  1.  1.  1.  1.  1.  1.  1.  1.  1.  1.  1.\n",
      "  1.  1.  1.  1.  1.  1.  1.  1.  1.  1.  1.  1.  1.  1.  1.  1.  1.  1.\n",
      "  1.  1.  1.  1.  1.  1.  1.  1.  1.  1.  1.  1.  1.  1.  1.  1.  1.  1.\n",
      "  1.  1.  1.  1.  1.  1.  1.  1.  1.  1.  1.  1.  1.  1.  1.  1.  1.  1.\n",
      "  1.  1.  1.  1.  1.  1.  1.  1.  1.  1.]\n"
     ]
    },
    {
     "data": {
      "image/png": "[encoded data removed]",
      "text/plain": [
       "<matplotlib.figure.Figure at 0x97af4a8>"
      ]
     },
     "metadata": {},
     "output_type": "display_data"
    }
   ],
   "source": [
    "S = 2.482\n",
    "S_series = S * np.exp(r_S_series)\n",
    "\n",
    "X = 2.153\n",
    "T = 15/365\n",
    "r_rf = 0.0361    # risk free rate\n",
    "p_opt_now = calc_bsm_opt_price(S, X, T, sigma, r_rf, optype='c')\n",
    "v_opt_sr = calc_bsm_opt_price(S_series, X, T-1/365, sigma, r_rf, optype='c')\n",
    "\n",
    "i1 = len(v_opt_sr) // 2\n",
    "i2 = (len(v_opt_sr) - 1) // 2\n",
    "v_opt_mid = (v_opt_sr[i1] + v_opt_sr[i2]) / 2\n",
    "\n",
    "r_opt_sr = np.log(v_opt_sr / p_opt_now)\n",
    "plt.plot(r_opt_sr, norm.pdf(r_S_series, r_S_expect, sigma))\n",
    "plt.show()"
   ]
  },
  {
   "cell_type": "code",
   "execution_count": 103,
   "metadata": {
    "collapsed": false
   },
   "outputs": [
    {
     "data": {
      "image/png": "[encoded data removed]",
      "text/plain": [
       "<matplotlib.figure.Figure at 0x96e1748>"
      ]
     },
     "metadata": {},
     "output_type": "display_data"
    }
   ],
   "source": [
    "plt.plot(v_opt_sr, norm.pdf(r_S_series, r_S_expect, sigma))\n",
    "plt.show()"
   ]
  },
  {
   "cell_type": "code",
   "execution_count": 102,
   "metadata": {
    "collapsed": false
   },
   "outputs": [
    {
     "data": {
      "image/png": "[encoded data removed]",
      "text/plain": [
       "<matplotlib.figure.Figure at 0x9805208>"
      ]
     },
     "metadata": {},
     "output_type": "display_data"
    }
   ],
   "source": [
    "plt.plot(np.exp(r_opt_sr)-1, norm.pdf(r_S_series, r_S_expect, sigma))\n",
    "plt.show()"
   ]
  },
  {
   "cell_type": "code",
   "execution_count": 114,
   "metadata": {
    "collapsed": false
   },
   "outputs": [
    {
     "data": {
      "text/plain": [
       "0.06939236272300117"
      ]
     },
     "execution_count": 114,
     "metadata": {},
     "output_type": "execute_result"
    }
   ],
   "source": [
    "prbd = norm.pdf(r_S_series, r_S_expect, sigma)\n",
    "r_gaps = r_opt_sr[1:] - r_opt_sr[:-1]\n",
    "r_opt_mid_sr = (r_opt_sr[:-1] + r_opt_sr[1:]) / 2\n",
    "area_sr = (prbd[:-1] + prbd[1:]) * r_gaps / 2\n",
    "r_opt_mean = np.average(r_opt_mid_sr, weights = area_sr)\n",
    "r_var = np.average((r_opt_mid_sr - r_opt_mean)**2, weights = area_sr)\n",
    "sqrt(r_var)"
   ]
  },
  {
   "cell_type": "code",
   "execution_count": 109,
   "metadata": {
    "collapsed": false
   },
   "outputs": [
    {
     "data": {
      "text/plain": [
       "0.0003615777351887028"
      ]
     },
     "execution_count": 109,
     "metadata": {},
     "output_type": "execute_result"
    }
   ],
   "source": [
    "\n",
    "prbd = norm.pdf(r_S_series, r_S_expect, sigma)\n",
    "r_opt_pct_sr = v_opt_sr/p_opt_now - 1\n",
    "r_gaps = r_opt_pct_sr[1:] - r_opt_pct_sr[:-1]\n",
    "\n",
    "# (r_opt_pct_sr[:-1] * prbd[1:] * r_gaps).sum() / (prbd[1:] * r_gaps).sum()\n",
    "# 0.00036157773518870361\n",
    "#((r_opt_pct_sr[:-1] + r_opt_pct_sr[1:]) / 2 * (prbd[:-1] + prbd[1:]) * r_gaps / 2).sum() / ((prbd[:-1] + prbd[1:]) * r_gaps / 2).sum()\n",
    "#np.dot(r_opt_pct_sr, prbd) / prbd.sum()\n",
    "np.average((r_opt_pct_sr[:-1] + r_opt_pct_sr[1:]) / 2, weights = (prbd[:-1] + prbd[1:]) * r_gaps / 2)\n"
   ]
  },
  {
   "cell_type": "code",
   "execution_count": 92,
   "metadata": {
    "collapsed": false
   },
   "outputs": [
    {
     "data": {
      "text/plain": [
       "1.0113135192236113"
      ]
     },
     "execution_count": 92,
     "metadata": {},
     "output_type": "execute_result"
    }
   ],
   "source": [
    "exp(sigma**2/2)"
   ]
  },
  {
   "cell_type": "code",
   "execution_count": 94,
   "metadata": {
    "collapsed": false
   },
   "outputs": [
    {
     "data": {
      "text/plain": [
       "0.08285489078468308"
      ]
     },
     "execution_count": 94,
     "metadata": {},
     "output_type": "execute_result"
    }
   ],
   "source": [
    "S * (exp(sigma**2/2) - 1) /0.34"
   ]
  },
  {
   "cell_type": "code",
   "execution_count": 106,
   "metadata": {
    "collapsed": false
   },
   "outputs": [
    {
     "data": {
      "text/plain": [
       "0.08822496738604368"
      ]
     },
     "execution_count": 106,
     "metadata": {},
     "output_type": "execute_result"
    }
   ],
   "source": [
    "0.00036157773518870361 * 244"
   ]
  },
  {
   "cell_type": "code",
   "execution_count": 120,
   "metadata": {
    "collapsed": false
   },
   "outputs": [
    {
     "data": {
      "text/plain": [
       "1.6457078512131331"
      ]
     },
     "execution_count": 120,
     "metadata": {},
     "output_type": "execute_result"
    }
   ],
   "source": [
    "(log(p_opt_now / 0.3289) - 0.0361/244 - 0.0025) / 0.06939  * sqrt(244)"
   ]
  },
  {
   "cell_type": "code",
   "execution_count": 117,
   "metadata": {
    "collapsed": false
   },
   "outputs": [
    {
     "data": {
      "text/plain": [
       "0.009810628503206133"
      ]
     },
     "execution_count": 117,
     "metadata": {},
     "output_type": "execute_result"
    }
   ],
   "source": [
    "log(p_opt_now / 0.3289) - 0.0361/244"
   ]
  },
  {
   "cell_type": "code",
   "execution_count": 118,
   "metadata": {
    "collapsed": false
   },
   "outputs": [
    {
     "data": {
      "text/plain": [
       "-0.21283064761327353"
      ]
     },
     "execution_count": 118,
     "metadata": {},
     "output_type": "execute_result"
    }
   ],
   "source": [
    "0.3282/0.3289 * 100 -100"
   ]
  },
  {
   "cell_type": "code",
   "execution_count": 133,
   "metadata": {
    "collapsed": true
   },
   "outputs": [],
   "source": [
    "import requests\n",
    "import json\n",
    "import pandas as pd"
   ]
  },
  {
   "cell_type": "code",
   "execution_count": 151,
   "metadata": {
    "collapsed": false
   },
   "outputs": [
    {
     "data": {
      "text/plain": [
       "{'result': {'data': {'cateId': '510050C1706A02200',\n",
       "   'cateList': ['50ETF', '50ETF'],\n",
       "   'contractMonth': ['2017-06', '2017-06', '2017-07', '2017-09', '2017-12'],\n",
       "   'stockId': '510050'},\n",
       "  'status': {'code': 0}}}"
      ]
     },
     "execution_count": 151,
     "metadata": {},
     "output_type": "execute_result"
    }
   ],
   "source": [
    "# Get option quotes from sina\n",
    "sCb = 'opt_cb'    # callback function name\n",
    "\n",
    "# 获取股票期权的品种列表\n",
    "sUrl = 'http://stock.finance.sina.com.cn/futures/api/openapi.php/StockOptionService.getStockName?callback={}&exchange=%E4%B8%8A%E4%BA%A4%E6%89%80&cate=&dpc=1'.format(sCb)\n",
    "\n",
    "resp = requests.get(sUrl)\n",
    "\n",
    "sRsp = resp.text.strip()\n",
    "iCb = sRsp.find(sCb)\n",
    "\n",
    "dOptList = json.loads(sRsp[iCb + len(sCb) + 1 : -1])\n",
    "\n",
    "dOptList"
   ]
  },
  {
   "cell_type": "code",
   "execution_count": 152,
   "metadata": {
    "collapsed": false
   },
   "outputs": [
    {
     "data": {
      "text/plain": [
       "{'result': {'data': {'cateId': '510050C1706A02200',\n",
       "   'expireDay': '2017-06-28',\n",
       "   'remainderDays': 13,\n",
       "   'stockId': '510050',\n",
       "   'zhulikandie': '',\n",
       "   'zhulikanzhang': ''},\n",
       "  'status': {'code': 0}}}"
      ]
     },
     "execution_count": 152,
     "metadata": {},
     "output_type": "execute_result"
    }
   ],
   "source": [
    "# 获取指定品种 指定月份 的 合约到期日 相关信息\n",
    "\n",
    "# 第一个品种 ('50ETF')\n",
    "sCat = dOptList['result']['data']['cateList'][0]\n",
    "\n",
    "# 近月\n",
    "sMth = dOptList['result']['data']['contractMonth'][0]\n",
    "\n",
    "sUrl = 'http://stock.finance.sina.com.cn/futures/api/openapi.php/StockOptionService.getRemainderDay?callback={}&exchange=%E4%B8%8A%E4%BA%A4%E6%89%80&cate={}&date={}&dpc=1'.format(sCb, sCat, sMth)\n",
    "\n",
    "resp = requests.get(sUrl)\n",
    "\n",
    "sRsp = resp.text.strip()\n",
    "iCb = sRsp.find(sCb)\n",
    "\n",
    "dOptExpire = json.loads(sRsp[iCb + len(sCb) + 1 : -1])\n",
    "\n",
    "dOptExpire"
   ]
  },
  {
   "cell_type": "code",
   "execution_count": 228,
   "metadata": {
    "collapsed": false
   },
   "outputs": [
    {
     "name": "stdout",
     "output_type": "stream",
     "text": [
      "['CON_OP_10000727', 'CON_OP_10000829', 'CON_OP_10000728', 'CON_OP_10000729', 'CON_OP_10000821', 'CON_OP_10000730', 'CON_OP_10000797', 'CON_OP_10000731', 'CON_OP_10000798', 'CON_OP_10000739', 'CON_OP_10000799', 'CON_OP_10000747', 'CON_OP_10000800', 'CON_OP_10000765', 'CON_OP_10000801', 'CON_OP_10000813', 'CON_OP_10000917']\n",
      "['CON_OP_10000732', 'CON_OP_10000830', 'CON_OP_10000733', 'CON_OP_10000734', 'CON_OP_10000822', 'CON_OP_10000735', 'CON_OP_10000802', 'CON_OP_10000736', 'CON_OP_10000803', 'CON_OP_10000740', 'CON_OP_10000804', 'CON_OP_10000748', 'CON_OP_10000805', 'CON_OP_10000766', 'CON_OP_10000806', 'CON_OP_10000814', 'CON_OP_10000918']\n",
      "['CON_OP_10000727', 'CON_OP_10000829', 'CON_OP_10000728', 'CON_OP_10000729', 'CON_OP_10000821', 'CON_OP_10000730', 'CON_OP_10000797', 'CON_OP_10000731', 'CON_OP_10000798', 'CON_OP_10000739', 'CON_OP_10000799', 'CON_OP_10000747', 'CON_OP_10000800', 'CON_OP_10000765', 'CON_OP_10000801', 'CON_OP_10000813', 'CON_OP_10000917', 'CON_OP_10000732', 'CON_OP_10000830', 'CON_OP_10000733', 'CON_OP_10000734', 'CON_OP_10000822', 'CON_OP_10000735', 'CON_OP_10000802', 'CON_OP_10000736', 'CON_OP_10000803', 'CON_OP_10000740', 'CON_OP_10000804', 'CON_OP_10000748', 'CON_OP_10000805', 'CON_OP_10000766', 'CON_OP_10000806', 'CON_OP_10000814', 'CON_OP_10000918']\n"
     ]
    }
   ],
   "source": [
    "# 获取 call 和 put 代码列表\n",
    "\n",
    "# Underlying 代码 ('510050')\n",
    "sUdlId = dOptList['result']['data']['stockId']\n",
    "\n",
    "# 近月 (如 '2017-06')\n",
    "sMth = dOptList['result']['data']['contractMonth'][0]\n",
    "\n",
    "# 新浪的 「合约+年月」 (如 '5100501706')\n",
    "sUdlMth = '{}{}{}'.format(sUdlId, sMth[2:4], sMth[-2:])\n",
    "\n",
    "sCallPrfx = 'OP_UP_'\n",
    "sPutPrfx = 'OP_DOWN_'\n",
    "\n",
    "sUrl = 'http://hq.sinajs.cn/list={}{},{}{}'.format(sCallPrfx, sUdlMth, sPutPrfx, sUdlMth)\n",
    "\n",
    "resp = requests.get(sUrl)\n",
    "\n",
    "lsLines = resp.text.split('\\n')\n",
    "\n",
    "lsCalls = []\n",
    "lsPuts = []\n",
    "for sLine in lsLines:\n",
    "    sLine = sLine.strip()\n",
    "    if len(sLine) == 0:\n",
    "        continue\n",
    "    iBgn = sLine.find('\"')\n",
    "    iEnd = sLine.rfind('\"')\n",
    "    sInfo = sLine[iBgn+1:iEnd]\n",
    "    lsCols = sInfo.split(',')\n",
    "    if lsCols[-1] == '':\n",
    "        lsCols.pop()\n",
    "    \n",
    "    if sCallPrfx in sLine:\n",
    "        lsCalls = lsCols\n",
    "    elif sPutPrfx in sLine:\n",
    "        lsPuts = lsCols\n",
    "#end for\n",
    "\n",
    "print(lsCalls)\n",
    "print(lsPuts)\n",
    "\n",
    "# Sina's codes for querying quotes, like 'CON_OP_10000829'\n",
    "lsConOp = lsCalls + lsPuts\n",
    "print(lsConOp)"
   ]
  },
  {
   "cell_type": "code",
   "execution_count": 231,
   "metadata": {
    "collapsed": false
   },
   "outputs": [
    {
     "name": "stdout",
     "output_type": "stream",
     "text": [
      "['CON_SO_10000727', 'CON_SO_10000829', 'CON_SO_10000728', 'CON_SO_10000729', 'CON_SO_10000821', 'CON_SO_10000730', 'CON_SO_10000797', 'CON_SO_10000731', 'CON_SO_10000798', 'CON_SO_10000739', 'CON_SO_10000799', 'CON_SO_10000747', 'CON_SO_10000800', 'CON_SO_10000765', 'CON_SO_10000801', 'CON_SO_10000813', 'CON_SO_10000917', 'CON_SO_10000732', 'CON_SO_10000830', 'CON_SO_10000733', 'CON_SO_10000734', 'CON_SO_10000822', 'CON_SO_10000735', 'CON_SO_10000802', 'CON_SO_10000736', 'CON_SO_10000803', 'CON_SO_10000740', 'CON_SO_10000804', 'CON_SO_10000748', 'CON_SO_10000805', 'CON_SO_10000766', 'CON_SO_10000806', 'CON_SO_10000814', 'CON_SO_10000918']\n"
     ]
    }
   ],
   "source": [
    "# Contract codes, like '10000728'\n",
    "lsConCodes = [s[-8:] for s in lsConOp]\n",
    "# Sina's codes, like 'CON_SO_10000727', for querying extra info\n",
    "lsConSo = ['CON_SO_' + s for s in lsConCodes]\n",
    "print(lsConSo)\n",
    "# 还有一个查询主力合约行情的，类似 'CON_ZL_10000829'"
   ]
  },
  {
   "cell_type": "code",
   "execution_count": 243,
   "metadata": {
    "collapsed": false
   },
   "outputs": [],
   "source": [
    "# 获取指定合约的行情\n",
    "sUrl = 'http://hq.sinajs.cn/list={}'.format(','.join(lsConOp + lsConSo))\n",
    "\n",
    "resp = requests.get(sUrl)\n",
    "\n",
    "lsLines = resp.text.split('\\n')\n",
    "\n",
    "lsQtsCodes = []\n",
    "lsExtCodes = []\n",
    "lsOptQts = []\n",
    "lsOptExt = []\n",
    "for sLine in lsLines:\n",
    "    sLine = sLine.strip()\n",
    "    if len(sLine) == 0:\n",
    "        continue\n",
    "    iBgn = sLine.find('hq_str_')\n",
    "    iEnd = sLine.find('=')\n",
    "    sQryCode = sLine[iBgn+7 : iEnd]\n",
    "    sConCode = sQryCode[-8:]\n",
    "    \n",
    "    iBgn = sLine.find('\"')\n",
    "    iEnd = sLine.rfind('\"')\n",
    "    sInfo = sLine[iBgn+1:iEnd]\n",
    "    \n",
    "    lsCols = sInfo.split(',')\n",
    "    #print(lsCols)\n",
    "    if 'CON_OP' in sQryCode:\n",
    "        lsQtsCodes.append(sConCode)\n",
    "        lsOptQts.append(lsCols)\n",
    "    else:\n",
    "        lsExtCodes.append(sConCode)\n",
    "        lsOptExt.append(lsCols)\n",
    "#end for"
   ]
  },
  {
   "cell_type": "code",
   "execution_count": 244,
   "metadata": {
    "collapsed": false
   },
   "outputs": [],
   "source": [
    "# 上证50ETF期权合约的交易代码共有17位，具体组成为：\n",
    "# 第1至第6位为合约标的证券代码；\n",
    "# 第7位为C或P，分别表示认购期权或者认沽期权；\n",
    "# 第8、9位表示到期年份的后两位数字；\n",
    "# 第10、11位表示到期月份；\n",
    "# 第12位期初设为“M”，并根据合约调整次数按照“A”至“Z”依序变更，如变更为“A”表示期权合约发生首次调整，变更为“B”表示期权合约发生第二次调整，依此类推；\n",
    "# 第13至17位表示行权价格，单位为0.001元\n",
    "\n",
    "# 50ETF分红时，期权合约的行权价、合约单位会进行调整，同时，合约的[名称]也会进行调整\n",
    "# 但，合约的「交易代码」中的行权价部分不会调整，只有第12位的字母会变。\n",
    "# 参考：http://www.sse.com.cn/disclosure/announcement/general/c/c_20161128_4207559.shtml\n",
    "\n",
    "\n",
    "# 新浪行情返回44个字段\n",
    "# 0.买量 1.买价 2.最新价 3.卖价 4.卖量 5.持仓量 6.涨跌幅(%) 7.行权价 8.昨收价 9.开盘价 10.涨停价 11.跌停价 \n",
    "# 12.申卖价五 13.申卖量五 14.申卖价四 15.申卖量四 16.申卖价三 17.申卖量三 18.申卖价二 19.申卖量二 20.申卖价一 21.申卖量一 \n",
    "# 22.申买价一 23.申买量一 24.申买价二 25.申买量二 26.申买价三 27.申买量三 28.申买价四 29.申买量四 30.申买价五 31.申买量五 \n",
    "# 32.行情时间 33.主力合约标识 34.状态码 35.标的证券类型 36.标的股票 37.期权合约简称 38.振幅(%) 39.最高价 40.最低价 41.成交量 42.成交额\n",
    "# 43.调整标志(M, A, B, ...)\n",
    "\n",
    "lsQtsCol = [\n",
    "    '买量', '买价', '最新价', '卖价', '卖量', '持仓量', '涨跌幅', '行权价', '昨收价', '开盘价', '涨停价', '跌停价',\n",
    "    '申卖价五', '申卖量五', '申卖价四', '申卖量四', '申卖价三', '申卖量三', '申卖价二', '申卖量二', '申卖价一', '申卖量一', \n",
    "    '申买价一', '申买量一', '申买价二', '申买量二', '申买价三', '申买量三', '申买价四', '申买量四', '申买价五', '申买量五', \n",
    "    '行情时间', '是否主力合约', '状态码', '标的证券类型', '标的股票', '期权合约简称', '振幅', '最高价', '最低价', '成交量', '成交额', '调整标志'\n",
    "]\n",
    "\n",
    "#dfOptQt = pd.DataFrame(lsOptQts, index = lsQryCodes, columns = lsQtsCol)\n",
    "#print(lsCols[37])\n",
    "#print(lsCols)\n",
    "\n",
    "\n",
    "\n",
    "# 扩展数据 一共 17个 字段\n",
    "lsExtCol = ['期权合约简称', '实值/虚值', '内在价值', '时间价值', '成交量', 'Delta', 'Gamma', 'Theta', 'Vega', '隐含波动率', \n",
    "            '最高价', '最低价', '交易代码', '行权价', '现价', '理论价值', '调整标志']\n",
    "\n",
    "#pd.DataFrame(lsOptExt, index = lsExtCodes, columns = lsExtCol)\n",
    "\n",
    "# Merge quotes and extra info\n",
    "lsOptMrg = [lsOptQts[i] + lsOptExt[i] for i in range(0, len(lsOptQts))]\n",
    "\n",
    "dfMrg = pd.DataFrame(lsOptMrg, index = lsExtCodes, columns = lsQtsCol + lsExtCol)"
   ]
  },
  {
   "cell_type": "code",
   "execution_count": 245,
   "metadata": {
    "collapsed": false
   },
   "outputs": [],
   "source": [
    "dfMrg.to_excel(\"option.xls\")"
   ]
  },
  {
   "cell_type": "code",
   "execution_count": 138,
   "metadata": {
    "collapsed": true
   },
   "outputs": [],
   "source": [
    "# Get option quote from SSE\n",
    "sClbk = 'opt_qt'\n",
    "sUrl = 'http://yunhq.sse.com.cn:32041/v1/sho/list/tstyle/510050_06?callback={}&select=contractid%2Clast%2Cchg_rate%2Cpresetpx%2Cexepx&_=0'.format(sClbk)\n",
    "\n",
    "resp = requests.get(sUrl)\n",
    "\n",
    "\n",
    "dOptQt = json.loads(resp.text[len(sClbk)+1:-1])\n",
    "\n",
    "pd.DataFrame(dOptQt['list'], columns = ['code', 'price', 'chg_pct', 'prv_sett', 'exercise'])"
   ]
  },
  {
   "cell_type": "code",
   "execution_count": 194,
   "metadata": {
    "collapsed": true
   },
   "outputs": [],
   "source": [
    "fl = open(\"option_common.js\", encoding = 'utf-8')\n"
   ]
  },
  {
   "cell_type": "code",
   "execution_count": 195,
   "metadata": {
    "collapsed": false
   },
   "outputs": [],
   "source": [
    "s = fl.read()"
   ]
  },
  {
   "cell_type": "code",
   "execution_count": 203,
   "metadata": {
    "collapsed": false
   },
   "outputs": [
    {
     "data": {
      "text/plain": [
       "'var A_price=\\'\\',PRE=\\'\\';\\nvar doc_scrollTop=document.documentElement.scrollTop||document.body.scrollTop;\\nvar hq_offset=$(\\'.main_hq\\').offset().top;\\nfunction scrollTo(){\\n\\n   document.documentElement.scrollTop+=80;\\n   document.body.scrollTop+=80;\\n   var hq_offset=$(\\'.main_hq\\').offset().top-0;\\n\\n  setTimeout(function(){\\n\\n            if(document.documentElement.scrollTop+document.body.scrollTop<hq_offset)\\n\\n                   scrollTo();\\n            else\\n            {\\n              document.documentElement.scrollTop=hq_offset;\\n              document.body.scrollTop=hq_offset;\\n              return;\\n            }\\n        },30);\\n\\n }\\n\\nfunction inheritPrototype (sub,supera)\\n{\\n   var prototype = Object(supera.prototype);//建立实例对象     超类的副本\\n  prototype.constructor=sub;   //增强对象\\n  sub.prototype=prototype;    //指定对象              副本赋值给子类型的原型\\n}\\ncookie = {\\n        set : function(k,v,h,d){\\n            var hour = h || 24,\\n                now = new Date(),\\n                domain = d || document.domain,\\n                exp = new Date(now.getTime() + hour * 3600 * 1000);\\n                expires = exp.toGMTString();\\n            document.cookie = k + \\'=\\' + v + \\';path=/;expires=\\' + expires + \\';domain=\\' + domain;\\n        },\\n        get : function(k){\\n            var coo = unescape(document.cookie),\\n                s = coo.indexOf(k + \\'=\\'),\\n                kl = s + k.length + 1,\\n                e = coo.indexOf(\\';\\',kl);\\n            if(s == -1){return \\'\\';}\\n            if(e == -1){return coo.substr(kl);}\\n            return coo.slice(kl,e);\\n        },\\n        remove : function(k){\\n            var now = new Date(),\\n                exp = new Date(now.getTime() - 3600 * 1000);\\n                expires = exp.toGMTString();\\n            document.cookie = k + \\'=\\' + \\';expires=\\' + expires + \\'\\';\\n        }\\n    };\\n\\n function rdt(){\\n\\n          var str=(\\'\\'+Math.random()+new Date().getTime()).replace(/\\\\./g,\\'\\');\\n          return str;\\n               }\\n\\n function unit(num,perci){\\n                    var per=perci||2;\\n                    per=per-0;\\n                    var number=Math.abs(num-0);\\n                    var a_num=(number/1e8)<1?((number/1e4)<1?number.toFixed(per):(number/1e4).toFixed(per)+\\' 万\\'):((number/1e8)-0).toFixed(per)+\\' 亿\\';\\n                    if(num<0)\\n                    return \\'-\\'+a_num;\\n                    else\\n                      return a_num;\\n\\n                   }\\n\\nfunction hand_data()\\n{\\n\\n}\\nfunction jsonp_ajax(url,param,fn)  //调openapi接口函数\\n{\\n  var self=this;\\n  var url=url||\\'\\';\\n  var param=param||\\'\\';\\n  if(!param)\\n    return;\\n   $.ajax({\\n            url:url,\\n      dataType:\"jsonp\",\\n      data:$.extend(param,{\\'dpc\\': 1}),\\n      jsonpCallback: \\'johansen\\'+rdt(),\\n      cache:true,\\n      success:function(data){\\n        fn&&fn.call(self,data);\\n      }\\n      });\\n\\n}\\n\\nfunction script_stock(param_str,fn,format)  //调行情串接口函数\\n{   var self=this;\\n\\n    var param_str=param_str||\\'\\';\\n    if(!param_str)\\n    return;\\n  if(format)\\n  {\\n    $.ajax({\\n              url: \\'http://hq.sinajs.cn/ran=\\'+rdt()+\\'&format=\\'+format+\\'&list=\\'+param_str,\\n              dataType: \"script\",\\n              cache:true,\\n              success: function(data){\\n\\n                fn&&fn.call(self);\\n              }\\n      });\\n  }\\n  else\\n  {\\n    $.ajax({\\n              url: \\'http://hq.sinajs.cn/list=\\'+param_str,\\n              dataType: \"script\",\\n              cache:true,\\n              success: function(data){\\n\\n                fn&&fn.call(self);\\n              }\\n      });\\n  }\\n\\n}\\nfunction _visitedStock(num,name,dom,mark)\\n{\\n   this.num=num;\\n   this.name=name;\\n   this.dom=dom;\\n   this.data=[];\\n   this.stocklist;\\n   this.stocklist_str;\\n   this.mark=mark;\\n   this.no_hk_stocklist;\\n\\n}\\n_visitedStock.prototype.getStock=function(){\\n               var s_stock=cookie.get(this.name);\\n               if(!s_stock)return;\\n               if(this.mark==\\'cn\\')\\n               {\\n                this.no_hk_stocklist=s_stock.split(\\',\\');\\n                 this.stocklist=s_stock.split(\\',\\');\\n               }\\n\\n               if(this.mark==\\'hk\\')\\n               {\\n                 this.stocklist=s_stock.split(\\'|\\');\\n                 this.no_hk_stocklist=s_stock.split(\\'|\\');\\n                 for(var i=0;i<this.stocklist.length;i++)\\n                 {\\n                      this.stocklist[i]=\\'rt_hk\\'+this.stocklist[i];\\n                 }\\n               }\\n\\n               this.stocklist.reverse(this.stocklist);\\n               this.no_hk_stocklist.reverse(this.no_hk_stocklist);\\n               this.stocklist_str=this.stocklist.join(\\',\\');\\n               script_stock.call(this,this.stocklist_str,this.hand_hq_data);\\n}\\n\\n_visitedStock.prototype.hand_hq_data=function(){\\n\\n  if(this.mark==\\'cn\\')\\n  {\\n      for(var i=0;i<this.stocklist.length;i++)\\n      {\\n        var json={};\\n        if(!window[\\'hq_str_\\'+this.stocklist[i]])continue;\\n        var arr=window[\\'hq_str_\\'+this.stocklist[i]].split(/,|=/g);//hq字符串切割后的数据\\n         json.cname=arr[0];\\n         json.opening=arr[1];\\n         json.PRE=arr[2];\\n         json.curr_rate=arr[3];\\n         json.H_curr_rate=arr[4];\\n         json.L_curr_rate=arr[5];\\n         json.buying_rate=arr[6];\\n         json.selling_rate=arr[7];\\n         json.trading_volume=arr[8];\\n         json.Amount=arr[9];\\n         json.date=arr[30];\\n         json.hq_time=arr[31];\\n         //对于那些非上市正常交易的我们要请求http://hq.sinajs.cn/list=symbol_i\\n         json.state=arr[32];\\n         this.data.push(json);\\n      }\\n  }\\n   if(this.mark==\\'hk\\')\\n  {\\n      for(var i=0;i<this.stocklist.length;i++)\\n      {\\n        var json={};\\n        if(!window[\\'hq_str_\\'+this.stocklist[i]])continue;\\n        var arr=window[\\'hq_str_\\'+this.stocklist[i]].split(/,|=/g);//hq字符串切割后的数据\\n                                json.ename=arr[0].substr(0,6);//英文名clipString(\\'testtesttesttesttesttesttest\\', 0, 10);截取十个半角字符q\\n                                json.cname=arr[1],//中文名\\n                                json.opening=arr[2],//开盘\\n                                json.PRE=arr[3],//昨收\\n                                json.H_curr_rate=arr[4],//最高\\n                                json.L_curr_rate=arr[5],//最低\\n                                json.zf=((arr[4]-arr[5])*100/(arr[3])).toFixed(3);\\n                                json.curr_rate=(arr[6]-0).toFixed(3),//当前\\n                                json.zde=arr[7],//涨跌额\\n                                json.zdf=arr[8]+\\'%\\',//涨跌幅\\n                                json.sell1=arr[9],//卖1\\n                                json.buy1=arr[10],//买1\\n                                json.Amount=unit(arr[11],3),//(arr[11]/10e7).toFixed(3),//成交额1\\n                                json.trading_volume=unit(arr[12],3),//成交量1\\n\\n                                json.syl=arr[13],//市盈率\\n                                json.shouyl=arr[14]+\\'%\\',//收益率\\n                                json.zd52=arr[15],//52周最高\\n                                json.zd52=arr[16],//52周最低\\n                                json.date=arr[17],//行情日期\\n                                json.hq_time=arr[18],//行情时间\\n                                this.data.push(json);\\n      }\\n  }\\n\\n   this.dom_handle(this.data);\\n\\n}\\n\\n_visitedStock.prototype.dom_handle=function(data){\\n   var str=\\'\\';//类似模板的部分\\n   var str1=str2=\\'\\';\\n   var num=this.num<data.length?this.num:data.length;\\n   for(var i=0;i<num;i++)\\n   {\\n\\n    var color=data[i].curr_rate<0?\\' tex_down_color\\':data[i].curr_rate>0?\\' tex_up_color\\':\\'\\';\\n    if(this.mark==\\'cn\\')\\n     str1+=\\'<tr><td><a href=\"http://finance.sina.com.cn/realstock/company/\\'+this.no_hk_stocklist[i]+\\'/nc.shtml\" data=\"\\'+this.no_hk_stocklist[i]+\\'\" target=_blank>\\'+data[i].cname+\\'</a></td><td class=\"Tex_r\\'+color+\\'\">\\'+unit(data[i].curr_rate)+\\'</td></tr>\\';\\n    if(this.mark==\\'hk\\')\\n       str1+=\\'<tr ><td><a href=\"http://stock.finance.sina.com.cn/hkstock/quotes/\\'+this.no_hk_stocklist[i]+\\'.html\" data=\"\\'+this.no_hk_stocklist[i]+\\'\" target=_blank>\\'+data[i].cname+\\'</a></td><td class=\"Tex_r\\'+color+\\'\">\\'+unit(data[i].curr_rate)+\\'</td></tr>\\';\\n\\n   }\\n\\n   $(this.dom).find(\\'tbody\\').html(str1);\\n\\n}\\n/*板块涨跌幅*/\\n var bk_change=function(param_str,time,dom)\\n {\\n   this.param=param_str+\\'_\\';\\n   this.rank=\\'up\\';\\n   this.time=time;\\n   this.dom=dom;\\n   //this.click_rank();\\n\\n }\\nbk_change.prototype.hqapi=function(){\\n   var self=this;\\n   var param_str=self.param+self.rank;\\n   script_stock.call(this,param_str,this.hand_hq_data);\\n   if(this.time)\\n   {\\n     self.timer=setInterval(function(){\\n\\n            script_stock.call(self,param_str,self.hand_hq_data);\\n\\n     },self.time);\\n   }\\n }\\nbk_change.prototype.hand_hq_data=function(data){\\n    var rank = this.rank;\\n    var data = window[\\'hq_str_sinaindustry_\\'+rank],\\n        str = \\'\\';\\n    var arr=eval(data);//板块涨跌幅数组\\n\\n        if(!arr) return;\\n        for(var i=0;i<5;i++)//板块涨跌幅显示前五条\\n        {\\n          var arr_stock=arr[i].split(/,/g);\\n          for(var j=0;j<arr_stock.length;j++)\\n          {\\n              var bk_name=arr_stock[1],\\n                  bk_symbol=arr_stock[0],\\n                  bk_change=(arr_stock[5]-0).toFixed(2)+\\'%\\',\\n                  bk_stock=arr_stock[8],\\n                  bk_stock_name=arr_stock[12];\\n          }\\n          var color=arr_stock[5]<0?\\'tex_down_color\\':arr_stock[5]>0?\\'tex_up_color\\':\\'\\';\\n          str+=\\'<tr><td ><a href=\"http://vip.stock.finance.sina.com.cn/mkt/#\\'+bk_symbol+\\'\" target=_blank>\\'+bk_name+\\'</a></td><td class=\"Tex_r \\'+color+\\'\">\\'+bk_change+\\'</td><td class=\"Tex_r\"><a href=\"http://finance.sina.com.cn/realstock/company/\\'+bk_stock+\\'/nc.shtml\" target=_blank>\\'+bk_stock_name+\\'</a></td></tr>\\';\\n        }\\n        $(this.dom).find(\\'tbody\\').html(str);\\n}\\nbk_change.prototype.click_rank=function(){\\n   var self=this;\\n\\n    if($(this.dom+\\' th a\\'))return;\\n\\n   $(this.dom+\\' th a\\').on(\\'click\\',function(){\\n       if(self.time)\\n        {\\n           clearInterval(self.timer);\\n\\n        }\\n       if($(this).attr(\\'data-rank\\')==\\'up\\')\\n       {\\n           $(this)[0].className=\\'table_rank_desc\\' ;\\n           self.rank=\\'down\\';\\n           $(this).attr(\\'data-rank\\',\\'down\\');\\n       }\\n       else{\\n\\n             $(this)[0].className=\\'table_rank_asc\\' ;\\n             self.rank=\\'up\\';\\n             $(this).attr(\\'data-rank\\',\\'up\\');\\n        }\\n        self.hqapi();\\n   });\\n}\\n\\nfunction detail_stock(url,dom,param,time) //股票行情详细信息处理\\n\\n{\\n   this.url=url||\\'\\';    //请求的接口\\n   this.dom=dom||\\'\\';    //需要渲染的dom\\n   this.param=param||\\'\\';//接口请求参数，对于hq的param可以写成：\\'[sh600000,sh600000_i]\\'\\n   this.data={};\\n   this.time=time;\\n   this.timer;\\n    /* this.data=json||null;//设置json的存在标记\\n\\n  //对于那些非上市正常交易的我们要请求http://hq.sinajs.cn/list=symbol_i\\n\\n  this.state=json.state;*/\\n }\\n\\ndetail_stock.prototype.hq_interface=function(){\\n  script_stock.call(this,this.param.join(\\',\\'),this.hand_hq_data);\\n  var self=this;\\n\\n    if(this.time)\\n    {\\n      clearInterval(self.timer);\\n      self.timer=setInterval(function(){\\n          script_stock.call(self,self.param.join(\\',\\'),self.hand_hq_data);\\n      },self.time);\\n    }\\n}\\ndetail_stock.prototype.hand_hq_data=function(){\\n\\n   var arr = window[\\'hq_str_\\'+this.param[0]].split(/,|=/g);//hq字符串切割后的数据\\n   var arr01=window[\\'hq_str_\\'+this.param[1]].split(/,|=/g);\\n   this.data.zde=parseFloat(arr01[2]).toFixed(3)-0||\\'－－\\';\\n   this.data.zdf=arr01[3]-0||\\'-．-\\';\\n   this.data.cname=arr[0];\\n   this.data.opening=arr[1]-0||\\'--\\';\\n   this.data.PRE=arr[2]-0||\\'--\\';\\n   this.data.curr_rate=arr[3]-0||\\'--\\';\\n   this.data.H_curr_rate=arr[4]-0||\\'--\\';\\n   this.data.L_curr_rate=arr[5]-0||\\'--\\';\\n   this.data.buying_rate=arr[6]-0||\\'--\\';\\n   this.data.selling_rate=arr[7]-0||\\'--\\';\\n   this.data.trading_volume=arr[8]-0||\\'--\\';\\n   this.data.Amount=arr[9]-0||\\'--\\';\\n   this.data.buy_Five=[];//数组存在\\n   this.data.sell_Five=[];//数组存在\\n   this.data.date_time=arr[30]+\\'  \\'+arr[31];\\n   this.data.zf=arr[5]?((arr[4]-arr[5])*100/arr[5]).toFixed(2):\\'-.-\\';\\n   this.data.FPR=((arr[3]-IOPV)*100/(IOPV-0)).toFixed(2);\\n   for(var i=19;i>=10;i--)\\n   {\\n     var buyjson={};\\n     buyjson.buy_p=arr[i];\\n     buyjson.buy_a=arr[--i];\\n     this.data.buy_Five.push(buyjson);\\n   }\\n   for(var j=20;j<30;j++)\\n   {\\n     var selljson={};\\n     selljson.sell_a=arr[j];\\n     selljson.sell_p=arr[++j];\\n     this.data.sell_Five.push(selljson);\\n   }\\n\\n   this.data.date=arr[30];\\n   this.data.hq_time=arr[31];\\n   //对于那些非上市正常交易的我们要请求http://hq.sinajs.cn/list=symbol_i\\n\\n   this.data.state=arr[32];\\n\\n   this.dom_handle(this.data);//数据渲染\\n\\n}\\ndetail_stock.prototype.dom_handle=function(data)\\n{\\n   var str=\\'\\';//类似模板的部分\\n   var str1=str2=\\'<h4 style=\"margin:20px 150px;\">五档盘口</h4>\\';\\n   for(var i in this.data)\\n   {\\n\\n     if(i!=\\'buy_Five\\'&&i!=\\'sell_Five\\')\\n    {\\n\\n    }\\n\\n   }\\n\\n       for(var j=0;j<this.data.buy_Five.length;j++)\\n         {\\n          str1+=\\'<li style=\"margin:20px 150px;\">买\\'+(5-j)+\\': \\'+this.data.buy_Five[j].buy_a+\\':  \\'+this.data.buy_Five[j].buy_p+\\'</li>\\';\\n         }\\n        for(var s=0;s<this.data.sell_Five.length;s++)\\n         {\\n            str2+=\\'<li style=\"margin:20px 150px;\">卖\\'+(s+1)+\\': \\'+this.data.sell_Five[s].sell_a+\\':  \\'+this.data.sell_Five[s].sell_p+\\'</li>\\';\\n         }\\n   var color=this.data.zdf<0?\\'tex_down_color\\':this.data.zdf>0?\\'tex_up_color\\':\\'\\';\\n   var marker=this.data.zdf<0?\\' down\\':this.data.zdf>0?\\' up_down\\':\\'\\';\\n   str=\\'<div class=\"del-01\"><span class=\"price \\'+color+\\'\">\\'+this.data.curr_rate+\\'</span><span class=\"\\'+marker+\\'\"> </span><span class=\"zdf\"><em class=\"fl \\'+color+\\'\">\\'+this.data.zde+\\'</em><em class=\"fl \\'+color+\\'\">\\'+this.data.zdf+\\'%</em></span></div><div class=\"del-02\">\\'+this.data.date_time+\\'</div><ul class=\"del-03 fl\"><li><span>今\\u3000开：<em class=\"\\'+color+\\'\">\\'+this.data.opening+\\'</em></span>\\u3000</li><li><span>昨\\u3000收：<em>\\'+this.data.PRE+\\'</em></span>\\u3000</li> <li><span>成交量：<em>\\'+unit(this.data.trading_volume/100)+\\'手</em></span></li><li><span>成交额：<em>\\'+unit(this.data.Amount)+\\'</em></span><span class=\"tex_r_pos\"></span></li><li><span>折溢价率：<em>\\'+this.data.FPR+\\'%</em></span></li><li><span>单位净值：<em>\\'+IOPV+\\'</em></span></li><li><span>累计净值：<em>\\'+TP+\\'</em></span></li></ul><ul class=\"fr del-03-r\"><li><span >最高：<em class=\"tex_up_color\">\\'+ this.data.H_curr_rate+\\'</em></span></li><li><span >最低：<em class=\"tex_down_color\">\\'+this.data.L_curr_rate+\\'</em></span></li><li><span >振幅：<em>\\'+this.data.zf+\\'%</em></span></li><li><span>净值增长：<em>\\'+UGA+\\'%</em></span></li><li><span>最新规模：<em>\\'+LS+\\'</em></span></li><li><span>申购状态：<em>\\'+subscribe_state+\\'</em></span></li><li><span>赎回状态：<em>\\'+redemption_state+\\'</em></span></li></ul>\\';\\n   $(this.dom).html(str);\\n   /*$(\\'#A50\\').html(\\' \\'+this.data.curr_rate);\\n   $(\\'#A50\\')[0].className=color;*/\\n   //$(\\'#mail\\').html(str1+str2);//五档盘口\\n\\n}\\n/*期权表格的具体功能*/\\n//初始化select\\n\\nvar _datas={\\n                    t1:{\\n                        dataformatter:function(arr_){\\n                            var myArr=[];\\n                            for(var i=0;i<arr_.length;i++){\\n                                var obj={\\n                                    m:arr_[i].i,\\n                                    p:arr_[i].p,\\n                                    avp:arr_[i].a,\\n                                    v:arr_[i].v,\\n                                    iy:arr_[i].t\\n                                };\\n                                if(i==0)obj.d=arr_[i].d;\\n                                myArr.push(obj);\\n                            }\\n                            return myArr;\\n                        },\\n                        url:\\'\\'\\n                    },\\n                    t5:{\\n                        dataformatter:function(arr_){\\n                            var myArr=[];\\n                            for(var i=0;i<arr_.length;i++){\\n                                var obj={\\n                                    m:arr_[i].i,\\n                                    p:arr_[i].p,\\n                                    a:arr_[i].a,\\n                                    v:arr_[i].v,\\n                                    c:arr_[i].t\\n                                };\\n                                if(i==0)obj.d=arr_[i].d;\\n                                myArr.push(obj);\\n                            }\\n                            return myArr;\\n                        },\\n                        url:\\'\\'\\n                    },\\n                  day:{\\n                  //dataformatter:function(){\\n                  //},\\n                  url:\\'http://stock.finance.sina.com.cn/futures/api/jsonp_v2.php/$cb/StockOptionDaylineService.getSymbolInfo?symbol=$symbol\\'\\n                  },\\n                  min:{\\n                  //url:\\'http://stock.finance.sina.com.cn/usstock/api/jsonp_v2.php/$cb/US_MinlineNService.getMinline?symbol=sina&day=1&_=$rn&___qn=3\\',\\n                  //dataformatter:function(){}\\n                  }\\n};\\n\\n// flash 渲染\\nwindow.HQ_kflash=null;//行情图对象(k线)\\nwindow.HQ_diejia=false;//是否叠加行情图\\nwindow.conta_symbol=\\'\\';//合约\\nwindow.HQ_tflash=null;//行情图对象(t线)\\nwindow.B_symbol=\\'sh510050\\';\\nfunction K_chart(symbol,com_symbol,fn){\\n\\n      var op_symbol=symbol;\\n\\n      KKE.api(\"chart.h5k.get\",{\\n        domid:\\'flash\\',\\n        w:620,\\n        h:400,\\n        nfloat:4,\\n        symbol:symbol,//\\'sh600697\\'//symbol\\n        datas:_datas\\n      },function(_chart){\\n         _chart.tCharts([{name:\\'MACD\\'}]);\\n         window.HQ_kflash=_chart;\\n\\n         fn&&fn.call(_chart);\\n\\n      });\\n}\\nfunction T_chart(symbol,com_symbol,fn)\\n{\\n\\n      var op_symbol=symbol;\\n\\n      KKE.api(\"chart.h5t.get\",{\\n        domid:\\'flash\\',\\n        datas:_datas,\\n        date:\\'\\',\\n        w:620,\\n        h:400,\\n        nfloat:4,\\n        symbol:symbol//\\'sh600697\\'//symbol\\n      },function(_chart){\\n        window.HQ_tflash=_chart;\\n        _chart.tCharts([\\n            //{name:\\'LB\\'},//量比（期权目前没有）\\n            //{name:\\'TVOLUME\\'},//成交量\\n            {name:\\'POSITION\\'}//持仓量（目前期权专有）\\n    ]);\\n\\n        fn&&fn.call(_chart);\\n\\n      });\\n\\n}\\n// 取消叠加\\n$(\\'.compare_stock\\').toggle(\\n  function () {\\n    $(this).addClass(\"selected\");\\n    window.HQ_diejia=true;\\n    HQ_tflash?HQ_tflash.compare({symbol:B_symbol}):null;\\n    HQ_kflash?HQ_kflash.compare({symbol:B_symbol}):null;\\n    if($(this).hasClass(\\'selected\\'))\\n    {\\n        $(this).text(\\'取消叠加\\');\\n    }\\n    else\\n    {\\n        $(this).text(\\'对比标的资产\\');\\n\\n    }\\n\\n  },\\n  function () {\\n    $(this).removeClass(\"selected\");\\n    window.HQ_diejia=false;\\n    HQ_tflash?HQ_tflash.compare({symbol:B_symbol},true):null;\\n    HQ_kflash?HQ_kflash.compare({symbol:B_symbol},true):null;\\n    if($(this).hasClass(\\'selected\\'))\\n    {\\n        $(this).text(\\'取消叠加\\');\\n    }\\n    else\\n    {\\n        $(this).text(\\'对比标的资产\\');\\n\\n    }\\n\\n  }\\n);\\n$(\\'#tab_H5\\').find(\\'li[data-tabKey]\\').on(\\'click\\',function(){\\n    var view=$(this).attr(\\'data-tabKey\\');\\n    $(\\'#tab_H5\\').find(\\'li[data-tabKey]\\').removeClass(\\'selected\\');\\n    $(this).addClass(\\'selected\\');\\n    switch(view)\\n    {\\n      case \\'ts\\':\\n      HQ_tflash?HQ_tflash.showView(\\'ts\\'):null;\\n      HQ_kflash?HQ_kflash.hide():null;\\n      HQ_tflash.show();\\n      break;\\n      case \\'t5\\':\\n      HQ_tflash?HQ_tflash.showView(\\'t5\\'):null;\\n      HQ_kflash?HQ_kflash.hide():null;\\n       HQ_tflash.show();\\n      break;\\n      case \\'kd\\':\\n      HQ_tflash.hide();\\n      HQ_kflash?function(){HQ_kflash.show();HQ_kflash.showView(\\'kd\\')}():K_chart(window.conta_symbol,false,function(){this.showView(\\'kd\\');if(window.HQ_diejia)\\n      this.compare({symbol:B_symbol});});\\n      break;\\n      case\\'kw\\':\\n      HQ_tflash.hide();\\n      HQ_kflash?function(){HQ_kflash.show();HQ_kflash.showView(\\'kw\\')}():K_chart(window.conta_symbol,false,function(){this.showView(\\'kw\\');if(window.HQ_diejia)\\n      this.compare({symbol:B_symbol});});\\n      break;\\n      default:\\n      HQ_tflash.showView(\\'ts\\');\\n      break;\\n    }\\n});\\n\\nfunction Option_select(dom,url,url1,time){\\n  this.dom=dom||\\'\\';\\n  this.url=url||\\'\\';\\n  this.url1=url1||\\'\\';\\n  this.param={}||\\'\\';\\n  this.json={};\\n  this.curr_stock=\\'\\';\\n  this.timer; //主table刷新\\n  this.r_timer;//右侧合约与五档盘口\\n  this.duration=time||\\'\\';\\n  this.domain_up_con=\\'\\';\\n  this.domain_down_con=\\'\\';\\n  this.init();\\n  this.click_sel();\\n  this.click_domain();\\n  this.click_tr();\\n\\n}\\nOption_select.prototype = {\\n   init:function(){\\n        this.param.exchange=$(this.dom+\\' .exchange ul li a\\').eq(0).html();\\n        jsonp_ajax.call(this,this.url,{exchange:this.param.exchange,cate:\\'\\'},this.dom_handle);\\n   },\\n   data_handle:function(){ //dom列表接口\\n       //Layerbox.pop({closeTime:2500,content:\"正在载入数据...\"});\\n       jsonp_ajax.call(this,this.url,{exchange:this.param.exchange,cate:this.param.cate,date:this.param.date},this.dom_handle);\\n   },\\n\\n   dom_handle:function(data){  //列表渲染\\n      var dom=this.dom,json=data.result.data;\\n     // var exchange=json.;//交易所\\n      var cate_list=json.cateList;\\n      var date=json.contractMonth;\\n      var str1=\\'\\',str2=\\'\\',str3=\\'\\',str4=\\'\\';\\n      $(dom+\\' .option_cate\\').find(\\'span\\').eq(0).html(cate_list[0]);\\n      $(dom+\\' .date\\').find(\\'span\\').eq(0).html(date[0]);\\n      var $sel_dom_cate=$(dom+\\' .option_cate\\').find(\\'select\\');\\n      var $ul_dom_cate=$(dom+\\' .option_cate\\').find(\\'ul\\');\\n      var $sel_dom_date=$(dom+\\' .date\\').find(\\'select\\');\\n      var $ul_dom_date=$(dom+\\' .date\\').find(\\'ul\\');\\n      for( var i=1;i<cate_list.length;i++)\\n      {\\n\\n        str1+=\\'<option value=\"\\'+cate_list[i]+\\'\" selected>\\'+cate_list[i]+\\'</option>\\';\\n        str2+=\\'<li><a href=\"javascript:;\">\\'+cate_list[i]+\\'</a></li>\\';\\n      }\\n       $sel_dom_cate.html(str1);\\n       $ul_dom_cate.html(str2);\\n       for(var j=1;j<date.length;j++)\\n       {\\n\\n        str3+=\\'<option value=\"\\'+date[i]+\\'\" selected>\\'+date[j]+\\'</option>\\';\\n        str4+=\\'<li><a href=\"javascript:;\">\\'+date[j]+\\'</a></li>\\';\\n       }\\n       $sel_dom_date.html(str3);\\n       $ul_dom_date.html(str4);\\n\\n        this.param.cate=cate_list[0];\\n        this.param.date=date[0];\\n        this.confirm(this.param);//请求到期时间，剩余时间，主力合约函数\\n\\n   },\\n   confirm:function(json){\\n       var json=json;\\n       jsonp_ajax.call(this,this.url1,json,this.table_handle);//日期，期权，主力合约。请求接口\\n   },\\n   click_sel:function(){  //列表选择\\n          var self=this;\\n          $(self.dom).find(\\'#date\\').on(\\'click\\',function(event){// $(self.dom+\\' .sel\\').find(\\'i\\').on(\\'click\\',function(event){\\n               var $target1 = $(event.target);\\n               while (!$target1.is(\\'div\\')) {\\n                    if ($target1.get(0) == document.body)\\n\\n                          return;\\n                    $target1 = $(($target1)[0].parentNode);\\n                }\\n\\n                $target1.find(\\'ul\\').css({display:\\'block\\'});\\n               return false;\\n\\n          });\\n          $(\\'body\\').on(\\'click\\',function(){\\n\\n                $(\\'#date ul\\').hide();\\n          });\\n          $(self.dom).find(\\'div\\').on(\\'click\\',function(event){\\n\\n                var $target = $(event.target);\\n                var ind=$(this).index();\\n                if($target[0].name==\\'sample\\')return;\\n                while (!($target.is(\\'a\\'))) {\\n                    if ($target.get(0) == document.body)\\n\\n                          return;\\n\\n                    $target = $(($target)[0].parentNode);\\n                }\\n\\n                var sel_value=$target.html();\\n                $(this).find(\\'select\\').value=sel_value;\\n                $(this).find(\\'ul\\').css({display:\\'none\\'});\\n                $(this).find(\\'span\\').get(0).innerHTML=sel_value;\\n                switch(ind)\\n                {\\n                  case 0:\\n                  self.param.exchange=sel_value;\\n                  self.param.cate=\\'\\';\\n                  self.param.date=\\'\\';\\n                  break;\\n                  case 1:\\n                  self.param.cate=sel_value;\\n                  self.param.date=\\'\\';\\n                  break;\\n                  case 2:\\n                  self.param.date=sel_value;\\n                  break;\\n                  default:\\n                  break;\\n\\n                }\\n                self.curr_tr=\\'\\';\\n                self.data_handle();\\n                return false;\\n      });\\n\\n   },\\n\\n   table_handle:function(data){\\n        /*  expireDay\": \"2015-03-15\",\\n      \"remainderDays\": 53,\\n      \"zhulikanzhang\": \"000300C1503M14500\",\\n      \"zhulikandie\": \"111300C1503M14500\"*/\\n        var data=data.result.data;\\n        var hq_str=\\'\\';\\n        var self=this;\\n        //ç\\x94±äº\\x8eå\\x90\\x88çº¦è§\\x84å\\x88\\x99å\\x8f\\x98æ\\x8d¢ä¿®æ\\x94¹bug(cateIdå\\x90\\x8eå\\x87ºç\\x8e°A20ç\\xad\\x89)\\n        self.json.cateId=data.cateId.substring(0,11).replace(/[a-z]/ig,\\'\\');//\\'510050C1503\\'.replace(/[a-z]/ig,\\'\\');//data.cateId;   //期权代码  -M\\n        self.json.symbole=\\'sh\\'+data.stockId;//\\'sh510050\\';//data.stockId;对应股票的ID\\n        self.json.expireDay=data.expireDay;      //到期时间\\n        self.json.domain_up=\\'\\';//data.zhulikanzhang;主力看涨合约代码  -M\\n        self.json.domain_down=\\'\\';//data.zhulikandie;主力看跌合约代码   -M\\n        self.json.remainderDays=data.remainderDays;//剩余时间\\n        //hq_str=\\'CON_UP_LIST_\\'+self.json.cateId+\\',CON_DOWN_LIST_\\'+self.json.cateId+\\',\\'+self.json.symbole;\\n        hq_str=\\'OP_UP_\\'+self.json.cateId+\\',OP_DOWN_\\'+self.json.cateId+\\',s_sh510050,sh510050\\';\\n        $(\\'.search-sel>span\\').eq(0).html(self.json.expireDay);\\n        $(\\'.search-sel>span\\').eq(1).html(self.json.remainderDays+\\' 天\\');\\n        script_stock.call(self,hq_str,self.main_table);//利用期权代码请求他所对应的合约HQ list\\n   },\\n   main_table:function(){\\n    var self=this;\\n    var str_up=window[\\'hq_str_OP_UP_\\'+self.json.cateId];\\n    var str_down=window[\\'hq_str_OP_DOWN_\\'+self.json.cateId];\\n\\n    var arr_up  = str_up.split(\\',\\');\\n    var arr_down= str_down.split(\\',\\');\\n\\n    script_stock.call(self,str_up+\\'s_\\'+self.json.symbole,function(){self.hand_hq_data(arr_up,\\'.table_up\\');});  //看涨合约\\n    script_stock.call(self,str_down,function(){self.hand_hq_data(arr_down,\\'.table_down\\')}); //看跌合约\\n\\n    //script_stock.call(self,\\'CON_ZL_\\'+self.json.domain_up+\\',CON_ZL_\\'+self.json.domain_down,function(){self.r02_table(self.json.domain_up)});//主力\\n    self.r01_table(arr_up[0].substring(7),\\'up\\');\\n    self.five_exchange(arr_up[0]);\\n    $(\\'#tab_H5\\').find(\\'li[data-tabKey]\\').removeClass(\\'selected\\');\\n    $(\\'#tab_H5 li\\').eq(0).addClass(\\'selected\\');\\n    HQ_tflash?HQ_tflash.hide(true):null;\\n    HQ_kflash?HQ_kflash.hide(true):null;\\n    T_chart(arr_up[0]);\\n    HQ_kflash=null;\\n    if(window.HQ_diejia)\\n    {\\n      window.HQ_tflash.compare({symbol:B_symbol});\\n\\n    }\\n    window.conta_symbol=arr_up[0];//\\'sh600697\\';//arr_up[0];\\n\\n    if(self.duration)\\n        {\\n          clearInterval(self.timer);\\n          clearInterval(self.r_timer);\\n          self.timer=setInterval(function(){\\n\\n            script_stock.call(self,str_up+\\'s_\\'+self.json.symbole,self.hand_hq_data(arr_up,\\'.table_up\\'));  //看涨合约\\n            script_stock.call(self,str_down,self.hand_hq_data(arr_down,\\'.table_down\\')); //看跌合约\\n            script_stock.call(self,\\'CON_ZL_\\'+self.json.domain_up+\\',CON_ZL_\\'+self.json.domain_down,self.r02_table(self.json.domain_up));//主力\\n\\n          },self.duration);\\n          self.r_timer=setInterval(function(){\\n\\n           //self.r01_table(arr_up[0]);//默认的五档盘口,以及第一个合约\\n\\n             self.r01_table(arr_up[0].substring(7),\\'up\\');\\n             self.five_exchange(arr_up[0]);\\n          },self.duration);\\n\\n        }\\n\\n   },\\n\\n   /*****************************************************合约主表格操作******************************************************/\\n   /*\\n           var hq_str_CON_OP_代码=“买量(0)，买价，最新价，卖价，卖量，持仓量，涨幅，行权价，昨收价，开盘价，涨停价，跌停价(11),\\n           申卖 价五，申卖量五，申卖价四，申卖量四，申卖价三，申卖量三，申卖价二，申卖量二，申卖价一，申卖量一，申买价一，申买量一 ，申买价二，申买量二，申买价三，申买量三，申买价四，申买量四，申买价五，申买量五，\\n           行情时间，主力合约标识，状态码， 标的证券类型，标的股票，期权合约简称，振幅(38)，最高价，最低价，成交量，成交额\\n   */\\n   hand_hq_data:function(arr,dom){\\n       var arr0=arr;\\n       var self=this;\\n       var dom=dom;\\n\\n       A_price=window[\\'hq_str_s_\\'+self.json.symbole].split(\\',\\')[1]-0;//对应股票标的价格\\n       PRE=window[\\'hq_str_sh510050\\'].split(\\',\\')[2]-0;\\n       function main_tab_l(arr,dom){  //中间主表格操作\\n             var arr=arr;\\n             var domain_arr=[];\\n             var str=\\'<tr class=\"empty\"></tr>\\';\\n             var str1=\\'<tr class=\"empty\"></tr>\\';\\n             for(var i=0;i<arr.length;i++) {\\n               var json={};\\n\\n               if(!arr[i]) continue;\\n               var arr_hy=window[\\'hq_str_\\'+arr[i]].split(\\',\\');\\n                var abs_XP=Math.abs(arr_hy[7]-PRE).toFixed(4);\\n                    json.hy_no=arr[i];//\\n                    json.buy_amount=arr_hy[0];//买量\\n                    json.buy=arr_hy[1];//买价\\n                    json.curr=arr_hy[2];//最新价\\n                    json.sell=arr_hy[3];//卖量\\n                    json.sell_amount=arr_hy[4];//卖价\\n                    json.amount=arr_hy[5];//持仓量\\n                    json.amplitude=arr_hy[38]?(arr_hy[38]-0)+\\'%\\':\\'--\\';//振幅\\n\\n                    json.change=arr_hy[6]?(arr_hy[6]-0)+\\'%\\':\\'--\\';//涨幅\\n                    json.xq=(arr_hy[7]-0).toFixed(4);//行权价\\n                    json.domain_con=arr_hy[33]-0;//主力标识\\n\\n                    /*实值,虚值*/\\n                    json.shizhi=(A_price-arr_hy[7]);\\n                    var tr_color = json.shizhi>0?\\'first\\':\\'\\';\\n                    var color = arr_hy[6]>0?\\'tex_up_color\\':arr_hy[6]<0?\\'tex_down_color\\':\\'\\';\\n                    if (arr_hy[43] === \\'A\\'||arr_hy[43] === \\'B\\') {\\n                        json.xq = json.xq + arr_hy[43];\\n                    }\\n\\n                    str1+=\\'<tr><td>\\'+json.xq+\\'</td></tr>\\';\\n                    if(arr_hy[33]-0)//主力\\n                    {\\n                      domain_arr.push({no:json.hy_no,abs:abs_XP});\\n                      str+=\\'<tr class=\"\\'+tr_color+\\'\" data-symbole=\"\\'+json.hy_no+\\'\" domain=0 data-updown=\"up\"><td>\\'+json.buy_amount+\\'</td><td>\\'+json.buy+\\'</td><td>\\'+json.curr+\\'</td><td>\\'+json.sell+\\'</td><td>\\'+json.sell_amount+\\'</td><td>\\'+json.amount+\\'</td><td class=\"Tex_right\">\\'+json.amplitude+\\'</td><td class=\"Tex_right last-l \\'+color+\\'\"><div>\\'+json.change+\\'<span class=\"important-l domain\" style=\"display:none;\">主</span></div></td></tr>\\';\\n                      $(\\'#contract_up\\').attr(\\'data-symbole\\',json.hy_no);\\n                       self.json.domain_up=json.hy_no.substring(7);\\n                    }\\n                    else\\n                    str+=\\'<tr class=\"\\'+tr_color+\\'\" data-symbole=\"\\'+json.hy_no+\\'\" data-updown=\"up\"><td>\\'+json.buy_amount+\\'</td><td>\\'+json.buy+\\'</td><td>\\'+json.curr+\\'</td><td>\\'+json.sell+\\'</td><td>\\'+json.sell_amount+\\'</td><td>\\'+json.amount+\\'</td><td class=\"Tex_right\">\\'+json.amplitude+\\'</td><td class=\"Tex_right last-l \\'+color+\\'\">\\'+json.change+\\'</tr>\\';\\n                }\\n                 $(dom+\\' tbody\\').html(str);\\n                 $(\\'.table_xq tbody\\').html(str1);\\n                 domain_arr.sort(function(obj1,obj2){\\n                     return obj1.abs-obj2.abs;\\n                 });//主力排序\\n                 $(dom+\\' tbody\\').find(\\'tr\\').each(function(index){\\n                      var sno=$(this).attr(\\'data-symbole\\');\\n                      if(sno==domain_arr[0].no)\\n                      {\\n                         $(this).attr(\\'domain\\',\\'1\\');\\n                         $(this).find(\\'span.domain\\').show();\\n                      }\\n\\n                 });\\n                 script_stock.call(self,\\'CON_ZL_\\'+self.json.domain_up,function(){self.r02_table(self.json.domain_up)});//主力\\n\\n         }\\n       function main_tab_r(arr,dom){  //中间主表格操作\\n             var arr=arr;\\n              var domain_arr=[];\\n             var str=\\'<tr class=\"empty\"></tr>\\';\\n             for(var i=0;i<arr.length;i++) {\\n               var json={};\\n               if(!arr[i]) continue;\\n               var arr_hy=window[\\'hq_str_\\'+arr[i]].split(\\',\\');\\n                var abs_XP=Math.abs(arr_hy[7]-PRE).toFixed(4);\\n                    json.hy_no=arr[i];//合约代码\\n                    json.buy_amount=arr_hy[0];//买量\\n                    json.buy=arr_hy[1];//买价\\n                    json.curr=arr_hy[2];//最新价\\n                    json.sell=arr_hy[3];//卖量\\n                    json.sell_amount=arr_hy[4];//卖价\\n                    json.amount=arr_hy[5];//持仓量\\n                    json.amplitude=arr_hy[38]?(arr_hy[38]-0)+\\'%\\':\\'--\\';//振幅\\n                    json.change=arr_hy[6]?arr_hy[6]-0+\\'%\\':\\'--\\';//涨幅\\n                    json.xq=(arr_hy[7]-0).toFixed(4);//行权价\\n                    json.domain_con=arr_hy[33]-0;//主力标识\\n                    /*实值,虚值*/\\n                    json.shizhi=-(A_price-arr_hy[7]);//虚值\\n                    /*五档盘口*/\\n\\n                    /*json.=arr_hy[8];//\\n                    json.=arr_hy[9];//\\n                    json.=arr_hy[10];//\\n                    json.=arr_hy[11];//\\n                    json.=arr_hy[12];//\\n                    json.=arr_hy[13];//\\n                    json.=arr_hy[14];//\\n                    json.=arr_hy[15];//\\n                    json.=arr_hy[16];//\\n                    json.=arr_hy[17];//\\n                    json.=arr_hy[18];//\\n                    json.=arr_hy[19];//\\n                    json.=arr_hy[20];//\\n                    json.=arr_hy[21];//\\n                    json.=arr_hy[22];//\\n                    json.=arr_hy[23];//\\n                    json.=arr_hy[24];//\\n                    json.=arr_hy[25];//\\n                    json.=arr_hy[];//\\n                    */\\n                    var tr_color = json.shizhi>0?\\'first\\':\\'\\';\\n                     var color = arr_hy[6]>0?\\'tex_up_color\\':arr_hy[6]<0?\\'tex_down_color\\':\\'\\';\\n                    if(arr_hy[33]-0)//主力\\n                    {\\n                      domain_arr.push({no:json.hy_no,abs:abs_XP});\\n                      str+=\\'<tr class=\"\\'+tr_color+\\'\" data-symbole=\"\\'+json.hy_no+\\'\" domain=0 data-updown=\"down\"><td class=\"last-l\"><div><span class=\"important-r domain\" style=\"display:none;\">主</span>\\'+json.buy_amount+\\'</div></td><td>\\'+json.buy+\\'</td><td>\\'+json.curr+\\'</td><td>\\'+json.sell+\\'</td><td>\\'+json.sell_amount+\\'</td><td>\\'+json.amount+\\'</td><td class=\"Tex_right\">\\'+json.amplitude+\\'</td><td class=\"Tex_right last-l \\'+color+\\'\">\\'+json.change+\\'</td></tr>\\';\\n                       $(\\'#contract_down\\').attr(\\'data-symbole\\',json.hy_no);\\n                       self.json.domain_down=json.hy_no.substring(7);\\n                    }\\n                    else\\n                    str+=\\'<tr class=\"\\'+tr_color+\\'\" data-symbole=\"\\'+json.hy_no+\\'\" data-updown=\"down\"><td>\\'+json.buy_amount+\\'</td><td>\\'+json.buy+\\'</td><td>\\'+json.curr+\\'</td><td>\\'+json.sell+\\'</td><td>\\'+json.sell_amount+\\'</td><td>\\'+json.amount+\\'</td><td class=\"Tex_right\">\\'+json.amplitude+\\'</td><td class=\"Tex_right last-l \\'+color+\\'\">\\'+json.change+\\'</tr>\\';\\n                 }\\n\\n                 $(dom+\\' tbody\\').html(str);\\n                 domain_arr.sort(function(obj1,obj2){\\n                     return obj1.abs-obj2.abs;\\n                 });\\n                 $(dom+\\' tbody\\').find(\\'tr\\').each(function(index){\\n                      var sno=$(this).attr(\\'data-symbole\\');\\n                      if(sno==domain_arr[0].no)\\n                      {\\n                         $(this).attr(\\'domain\\',\\'1\\');\\n                         $(this).find(\\'span.domain\\').show();\\n                      }\\n\\n                 });\\n                 script_stock.call(self,\\'CON_ZL_\\'+self.json.domain_down,function(){self.r02_table(self.json.domain_down)});//主力\\n\\n         }\\n         switch(dom)\\n         {\\n           case \\'.table_up\\':\\n             main_tab_l(arr0,dom);\\n             var F_zdf=window[\\'hq_str_s_\\'+self.json.symbole].split(\\',\\')[3]-0;\\n             var F_color=F_zdf>0?\\'tex_up_color\\':F_zdf<0?\\'tex_down_color\\':\\'\\';\\n             F_zdf=F_zdf>0?F_zdf=\\'+\\'+F_zdf.toFixed(2):F_zdf.toFixed(2);\\n             $(\\'#F50\\').html((A_price-0).toFixed(4)+\\' / \\'+F_zdf+\\'%\\');\\n             $(\\'#F50\\')[0].className=F_color;\\n           break;\\n           case \\'.table_down\\':\\n             main_tab_r(arr0,dom);\\n\\n           break;\\n         }\\n         //script_stock.call(self,\\'CON_ZL_\\'+self.json.domain_up+\\',CON_ZL_\\'+self.json.domain_down,function(){self.r02_table(self.json.domain_up)});//主力\\n\\n         self.curr_tr?function(){  //是否选择到\\n                         $(\\'.table tbody tr\\').each(function(){\\n                                var attr=$(this).attr(\\'data-symbole\\');\\n                                if(attr==self.curr_tr)\\n                                {\\n                                   $(this).addClass(\\'selected\\');\\n                                }\\n                         });\\n\\n                 }()\\n                 :function(){\\n                                  $(\\'.table_up tbody tr\\').eq(1).addClass(\\'selected\\');\\n                 }();\\n\\n   },\\n\\n   /********************************************五档盘口**************************************************/\\n\\n   five_exchange:function(symbole){\\n     var self=this;\\n     script_stock.call(self,symbole,function(){self.five_exchange_dom(symbole);});\\n   },\\n   five_exchange_dom:function(symbole){\\n\\n      var arr=window[\\'hq_str_\\'+symbole].split(\\',\\');\\n      var json={};\\n      var str=\\'\\';\\n      var count1=0,count=0;\\n      var color=arr[6]>0?\\'tex_up_color\\':arr[6]<0?\\'tex_down_color\\':\\'\\';\\n      var state=\\'\\',state_no=arr[34].substr(0,1).toUpperCase();\\n      for(var i=12;i<22;i+=2)\\n      {\\n         json.price=arr[i];\\n         json.amount=arr[i+1];\\n         str+=\\'<tr><td>卖\\'+(5-count)+\\'</td><td class=\"\\'+color+\\'\">\\'+json.price+\\'</td><td class=\"Tex_r\">\\'+json.amount+\\'</td></tr>\\';\\n         count++;\\n      }\\n      for(var j=22;j<32;j+=2)\\n      {\\n         json.price=arr[j];\\n         json.amount=arr[j+1];\\n         if(j==22)\\n         str+=\\'<tr class=\"buy\"><td>买\\'+(count1+1)+\\'</td><td class=\"\\'+color+\\'\">\\'+json.price+\\'</td><td class=\"Tex_r\">\\'+json.amount+\\'</td></tr>\\';\\n         else\\n         str+=\\'<tr><td>买\\'+(count1+1)+\\'</td><td class=\"\\'+color+\\'\">\\'+json.price+\\'</td><td class=\"Tex_r\">\\'+json.amount+\\'</td></tr>\\';\\n         count1++;\\n      }\\n      switch(state_no)\\n      {\\n        case \\'S\\':\\n        state=\\'启动（开市前）时段\\';\\n        break;\\n        case \\'C\\':\\n        state=\\'集合竞价时段\\';\\n        break;\\n        case \\'T\\':\\n        state=\\'连续交易时段\\';\\n        break;\\n        case \\'B\\':\\n        state=\\'休市时段\\';\\n        break;\\n        case \\'E\\':\\n        state=\\'闭市时段\\';\\n        break;\\n        case \\'V\\':\\n        state=\\'波动性中断\\';\\n        break;\\n        case \\'P\\':\\n        state=\\'临时停牌\\';\\n        break;\\n        case \\'U\\':\\n        state=\\'收盘集合竞价\\';\\n        break;\\n      }\\n\\n       $(\\'.five table tbody\\').html(str);\\n       $(\\'.five p.time_state em\\').html(arr[32]);\\n         $(\\'.five p.time_state span\\').html(state);\\n       $(\\'.five em.PRE\\').html((arr[8]-0).toFixed(4));\\n       $(\\'.five em.open\\').html((arr[9]-0).toFixed(4)||\\'--\\');\\n       $(\\'.five em.zt\\').html((arr[10]-0).toFixed(4));\\n       $(\\'.five em.dt\\').html((arr[11]-0).toFixed(4));\\n   },\\n   /**********************************************扩展数据******************************************************/\\n   r01_table:function(symbole,change){\\n     var self=this;\\n     var up_down=change;\\n     var contract_symbole=symbole;//symbole;//symbole\\n     if (!contract_symbole) return;\\n     script_stock.call(self,\\'CON_SO_\\'+contract_symbole,function(){self.r01_table_dom(contract_symbole,up_down);});\\n   },\\n   r01_table_dom:function(symbole,change){\\n           var contract_symbole=symbole;\\n\\n           var arr=window[\\'hq_str_CON_SO_\\'+contract_symbole].split(\\',\\');\\n           var json={};\\n           var str=\\'\\';\\n           var up_down=change;\\n           var price_mark=(A_price-arr[13]).toFixed(4);\\n           json.symbole=contract_symbole;\\n           json.xq=arr[1];\\n\\n           switch(up_down)\\n           {\\n             case \\'up\\':\\n             json.price=price_mark>0?\\'实值\\':price_mark<0?\\'虚值\\':\\'平值\\';\\n             json.in_price=price_mark>0?price_mark:0;\\n             json.out_price=(arr[14]-json.in_price<=0)?\\'0.00\\':(arr[14]-json.in_price).toFixed(4);\\n             break;\\n             case \\'down\\':\\n             json.price=price_mark<0?\\'实值\\':price_mark>0?\\'虚值\\':\\'平值\\';\\n             json.in_price=price_mark<0?-price_mark:0;\\n             json.out_price=(arr[14]-json.in_price).toFixed(4);\\n             break;\\n           }\\n\\n          /* json.price=arr[1];                  //价值--实值，虚值\\n           json.in_price=arr[2];               //内在价值\\n           json.out_price=arr[3]-0;             // 时间价值*/\\n           json.amount=arr[4]-0||\\'--\\';                 //成交量\\n           json.Delta=arr[5]-0||\\'--\\';\\n           json.Gamma=arr[6]-0||\\'--\\';\\n           json.Theta=arr[7]-0||\\'--\\';\\n           json.Vega=arr[8]-0||\\'--\\';\\n           json.volatility=arr[9]?arr[9]-0:\\'--\\';            //隐含波动率\\n           json.up_price=arr[10]-0||\\'--\\';               //最高价\\n           json.low_price=arr[11]-0||\\'--\\';              //最低价\\n           json.theoretical=arr[15]-0||\\'--\\';\\n           var color=(json.price==\\'实值\\')?\\'tex_up_color\\':\\'\\';\\n           str=\\'<tr><td>交易代码</td><td>\\'+arr[12]+\\'</td></tr><tr><td>理论价值</td><td>\\'+json.theoretical+\\'</td></tr><tr><td>价值状态</td><td class=\"\\'+color+\\'\">\\'+json.price+\\'</td></tr><tr><td class=\"Tex_r price\">内在价值</td><td class=\"\\'+color+\\'\">\\'+json.in_price.toFixed(4)+\\'</td></tr><tr><td class=\"Tex_r price\">时间价值</td><td class=\"\\'+color+\\'\">\\'+json.out_price+\\'</td></tr><tr><td>成交量</td><td>\\'+json.amount+\\'</td></tr><tr><td>Delta</td><td>\\'+json.Delta+\\'</td></tr><tr><td>Gamma</td><td>\\'+json.Gamma+\\'</td></tr><tr><td>Theta</td><td>\\'+json.Theta+\\'</td></tr><tr><td>Vega</td><td>\\'+json.Vega+\\'</td></tr><tr><td>隐含波动率</td><td>\\'+json.volatility+\\'</td></tr><tr><td>最高价</td><td>\\'+json.up_price+\\'</td></tr><tr><td>最低价</td><td>\\'+json.low_price+\\'</td></tr>\\';\\n           $(\\'.expend tbody\\').html(str);\\n           $(\\'.five h4 span\\').html(arr[0]);\\n\\n           $(\\'.heyuefenxi_name\\').text(arr[0]);\\n\\n   },\\n/**********************************************************主力****************************************************************/\\n   r02_table:function(){\\n\\n     var self=this;\\n     function dom(arr,dom,str_stock){\\n       var json={};\\n       var str=\\'\\';\\n           json.names=arr[0];\\n           json.symbole=str_stock;//合约代码\\n           var price_mark=(A_price-arr[19]).toFixed(4);\\n           switch(dom)\\n           {\\n             case \\'#tab_up\\':\\n             json.price=price_mark>0?\\'实值\\':price_mark<0?\\'虚值\\':\\'平值\\';\\n             json.in_price=price_mark>0?price_mark:0;\\n             json.out_price=(arr[6]-json.in_price<=0)?\\'0.00\\':(arr[6]-json.in_price).toFixed(4);\\n             break;\\n             case \\'#tab_down\\':\\n             json.price=price_mark<0?\\'实值\\':price_mark>0?\\'虚值\\':\\'平值\\';\\n             json.in_price=price_mark<0?-price_mark:0;\\n             json.out_price=(arr[6]-json.in_price).toFixed(4);\\n             break;\\n           }\\n\\n/*\\n           json.price=arr[1];                  //价值--实值，虚值\\n           json.in_price=arr[2]-0;               //内在价值\\n           json.out_price=arr[3]-0;             // 时间价值*/\\n           json.amount=arr[12];                 //成交量\\n           json.Delta=arr[13];\\n           json.Gamma=arr[14]-0;\\n           json.Theta=arr[15];\\n           json.Vega=arr[16];\\n           json.volatility=arr[17];            //隐含波动率\\n           json.up_price=arr[10];               //最高价\\n           json.low_price=arr[11];              //最低价\\n           json.hold=arr[4];                    //持仓量\\n           json.percent=arr[5];                //占比\\n           json.buy=arr[8];                    //买价\\n           json.sell=arr[9];                    //卖价\\n           json.curr=arr[6];                  //最新价\\n           json.change=arr[7];                //涨幅\\n           json.theoretical=arr[20];\\n           var color=(json.price==\\'实值\\')?\\'tex_up_color\\':\\'\\';\\n           str+=\\'<tr class=\"head\"><th width=\"115px\"></th><th></th></tr><tr><td>合约简称</td><td>\\'+json.names+\\'</td></tr><tr><td>交易代码</td><td>\\'+arr[18]+\\'</td></tr><tr><td>理论价值</td><td>\\'+json.theoretical+\\'</td></tr><tr><td>价值状态</td><td class=\"\\'+color+\\'\">\\'+json.price+\\'</td></tr><tr><td class=\"Tex_r price\">内在价值</td><td class=\"\\'+color+\\'\">\\'+json.in_price.toFixed(4)+\\'</td></tr><tr><td class=\"Tex_r price\">时间价值</td> <td class=\"\\'+color+\\'\">\\'+json.out_price+\\'</td></tr><tr><td>持仓量 / 占\\u3000比</td><td>\\'+json.hold+\\' / \\'+json.percent+\\'</td></tr><tr><td>最新价 / 涨\\u3000幅</td><td>\\'+json.curr+\\' / \\'+json.change+\\'</td></tr><tr><td>买\\u3000价 / 卖\\u3000价</td><td>\\'+json.buy+\\' / \\'+json.sell+\\'</td></tr><tr><td>最高价 / 最低价</td><td>\\'+json.up_price+\\' / \\'+json.low_price+\\'</td></tr><tr><td>成交量</td><td>\\'+json.amount+\\'</td></tr><tr><td>Delta</td><td>\\'+json.Delta+\\'</td><tr><td>Gamma</td><td>\\'+json.Gamma+\\'</td></tr><tr><td>Theta</td><td>\\'+json.Theta+\\'</td></tr><tr><td>Vega</td><td>\\'+json.Vega+\\'</td></tr><tr><td>隐含波动率</td><td>\\'+json.volatility+\\'</td></tr>\\';\\n           $(dom).html(str);\\n\\n     }\\n     if(window[\\'hq_str_CON_ZL_\\'+this.json.domain_up])\\n     {\\n      var arr_up=window[\\'hq_str_CON_ZL_\\'+this.json.domain_up].split(\\',\\');\\n      dom(arr_up,\\'#tab_up\\',this.json.domain_up);\\n     }\\n    if(window[\\'hq_str_CON_ZL_\\'+this.json.domain_down])\\n    {\\n      var arr_down=window[\\'hq_str_CON_ZL_\\'+this.json.domain_down].split(\\',\\');\\n      dom(arr_down,\\'#tab_down\\',this.json.domain_down);\\n    }\\n\\n   },\\n\\n   /*********************************************点击右侧主力*********************************************************************/\\n   click_domain:function(){\\n      var self=this;\\n      var top=$(\\'.search\\').offset().top;\\n       $(\\'.contract_tab span\\').on(\\'click\\',function(){\\n           var cate=$(this)[0].id;\\n           var contract_symbole=$(this).attr(\\'data-symbole\\');\\n           self.curr_tr=$(this).attr(\\'data-symbole\\');\\n\\n           $(\\'.table table tbody tr\\').removeClass(\\'selected\\');\\n           switch(cate)\\n           {\\n             case \\'contract_up\\':\\n               $(\\'.table_up tbody\\').find(\\'tr[domain=\"1\"]\\').addClass(\\'selected\\');\\n             break;\\n             case \\'contract_down\\':\\n               $(\\'.table_down tbody\\').find(\\'tr[domain=\"1\"]\\').addClass(\\'selected\\');\\n             break;\\n           }\\n            document.body.scrollTop?document.body.scrollTop=top:document.documentElement.scrollTop=top;\\n       });\\n   },\\n   /***************************************************************点击主表行*******************************************************************/\\n   click_tr:function(){\\n         var self=this;\\n         $(\\'.table_up table tbody,.table_down table tbody\\').on(\\'click\\',function(event){\\n             var $target=$(event.target);\\n             if(/empty/g.test($target[0].className))\\n\\n             {\\n               return;\\n             }\\n             while(!$target.is(\\'tr\\'))\\n             {\\n                if ($target.get(0) == document.body)\\n                {\\n\\n                    return;\\n                }\\n\\n                $target = $(($target)[0].parentNode);\\n             }\\n\\n              $(\\'.table table tbody\\').find(\\'tr\\').removeClass(\\'selected\\');\\n              $target.addClass(\\'selected\\');\\n              var contract_symbole=$target.attr(\\'data-symbole\\')||\\'\\';\\n              self.curr_tr=$target.attr(\\'data-symbole\\');\\n              var up_down=$target.attr(\\'data-updown\\');\\n              self.five_exchange(contract_symbole);\\n              self.r01_table(contract_symbole.substring(7),up_down);\\n              HQ_kflash?HQ_kflash.hide():null;\\n              window.HQ_tflash.newSymbol({symbol:contract_symbole,datas:_datas,nfloat:4});\\n              window.HQ_kflash?window.HQ_kflash.newSymbol({symbol:contract_symbole,datas:_datas,nfloat:4}):null;\\n              HQ_tflash.showView(\\'ts\\');\\n              HQ_tflash.show();\\n              if(window.HQ_diejia)\\n              {\\n                window.HQ_tflash.compare({symbol:B_symbol});\\n                window.HQ_kflash?window.HQ_kflash.compare({symbol:B_symbol}):null;\\n              }\\n              $(\\'#tab_H5\\').find(\\'li[data-tabKey]\\').removeClass(\\'selected\\');\\n              $(\\'#tab_H5 li\\').eq(0).addClass(\\'selected\\');\\n              window.conta_symbol=contract_symbole;\\n              var hq_offset=$(\\'.main_hq\\').offset().top-0;\\n               if(document.documentElement.scrollTop+document.body.scrollTop<hq_offset)\\n               {\\n                 scrollTo();\\n               }\\n\\n              if(self.duration)\\n              {\\n                clearInterval(self.r_timer);\\n                self.r_timer=setInterval(function(){\\n                self.r01_table(contract_symbole.substring(7),up_down);//合约\\n                self.five_exchange(contract_symbole);\\n                 },self.duration);\\n              }\\n              return false;\\n         });\\n   }\\n};\\n var h5Test=document.createElement(\\'canvas\\');\\n if(h5Test.getContext && h5Test.getContext(\\'2d\\'))$(\\'.tip_ie\\').hide();\\n'"
      ]
     },
     "execution_count": 203,
     "metadata": {},
     "output_type": "execute_result"
    }
   ],
   "source": [
    "bytes(s, encoding='utf-8').decode('unicode-escape')"
   ]
  },
  {
   "cell_type": "code",
   "execution_count": 204,
   "metadata": {
    "collapsed": true
   },
   "outputs": [],
   "source": [
    "fl.close()"
   ]
  },
  {
   "cell_type": "code",
   "execution_count": 205,
   "metadata": {
    "collapsed": true
   },
   "outputs": [],
   "source": [
    "fl = open(\"option_common_cn.js\", 'w', encoding = 'utf-8')"
   ]
  },
  {
   "cell_type": "code",
   "execution_count": 206,
   "metadata": {
    "collapsed": false
   },
   "outputs": [
    {
     "data": {
      "text/plain": [
       "47199"
      ]
     },
     "execution_count": 206,
     "metadata": {},
     "output_type": "execute_result"
    }
   ],
   "source": [
    "fl.write(bytes(s, encoding='utf-8').decode('unicode-escape'))"
   ]
  },
  {
   "cell_type": "code",
   "execution_count": 207,
   "metadata": {
    "collapsed": true
   },
   "outputs": [],
   "source": [
    "fl.close()"
   ]
  },
  {
   "cell_type": "code",
   "execution_count": 187,
   "metadata": {
    "collapsed": false
   },
   "outputs": [
    {
     "data": {
      "text/plain": [
       "'代码'"
      ]
     },
     "execution_count": 187,
     "metadata": {},
     "output_type": "execute_result"
    }
   ],
   "source": [
    "x.decode('unicode-escape')"
   ]
  },
  {
   "cell_type": "code",
   "execution_count": null,
   "metadata": {
    "collapsed": true
   },
   "outputs": [],
   "source": []
  }
 ],
 "metadata": {
  "kernelspec": {
   "display_name": "Python 3",
   "language": "python",
   "name": "python3"
  },
  "language_info": {
   "codemirror_mode": {
    "name": "ipython",
    "version": 3
   },
   "file_extension": ".py",
   "mimetype": "text/x-python",
   "name": "python",
   "nbconvert_exporter": "python",
   "pygments_lexer": "ipython3",
   "version": "3.5.2"
  }
 },
 "nbformat": 4,
 "nbformat_minor": 2
}
