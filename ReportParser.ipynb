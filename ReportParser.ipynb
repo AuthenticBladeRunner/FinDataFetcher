{
 "cells": [
  {
   "cell_type": "code",
   "execution_count": 5,
   "metadata": {},
   "outputs": [],
   "source": [
    "from py.PdfReaper import PdfReaper"
   ]
  },
  {
   "cell_type": "code",
   "execution_count": 6,
   "metadata": {
    "collapsed": true
   },
   "outputs": [],
   "source": [
    "reaper = PdfReaper()"
   ]
  },
  {
   "cell_type": "code",
   "execution_count": 7,
   "metadata": {
    "collapsed": true
   },
   "outputs": [],
   "source": [
    "sSrc = r'D:\\Downloads\\Documents\\161222.pdf'\n",
    "sDes = r'D:\\Downloads\\Documents\\161222.txt'\n",
    "reaper.toText(sSrc, sDes)"
   ]
  },
  {
   "cell_type": "code",
   "execution_count": 10,
   "metadata": {
    "collapsed": true
   },
   "outputs": [],
   "source": [
    "with open(sDes, encoding='utf-8') as fl:\n",
    "    sTxt = fl.read()"
   ]
  },
  {
   "cell_type": "code",
   "execution_count": 9,
   "metadata": {
    "collapsed": true
   },
   "outputs": [],
   "source": [
    "import re"
   ]
  },
  {
   "cell_type": "code",
   "execution_count": 16,
   "metadata": {
    "collapsed": true
   },
   "outputs": [],
   "source": [
    "def getFundCode(sTxt):\n",
    "    m = re.search(r'基金主代码\\s+?(\\d{6})', sTxt)\n",
    "    if m:\n",
    "        return m.group(1)\n",
    "    m = re.search(r'交易代码\\s+?(\\d{6})', sTxt)\n",
    "    if m:\n",
    "        return m.group(1)\n",
    "    return ''\n",
    "#end def"
   ]
  },
  {
   "cell_type": "code",
   "execution_count": 155,
   "metadata": {
    "collapsed": true
   },
   "outputs": [],
   "source": [
    "def getSectionRange(sTxt, sKeywd):\n",
    "    iKey = sTxt.find(sKeywd)\n",
    "    iBgn = sTxt.rfind('\\n', 0, iKey)\n",
    "    sSecHead = sTxt[iBgn+1:iKey]\n",
    "    sCurSecNo = '1.0'\n",
    "    sSecNoRex = r'^(\\d{1,2}(?:\\.\\d{1,2})+)\\s'\n",
    "    m = re.search(sSecNoRex, sSecHead)\n",
    "    if m:\n",
    "        sCurSecNo = m.group(1)\n",
    "    # Find (innermost) section end\n",
    "    iCur = iKey\n",
    "    while True:\n",
    "        m = re.search(sSecNoRex, sTxt[iCur:], flags=re.MULTILINE)\n",
    "        if m:\n",
    "            sNxtSecNo = m.group(1)\n",
    "            if sNxtSecNo.count('.') > sCurSecNo.count('.'):\n",
    "                sCurSecNo = sNxtSecNo\n",
    "                iCur += m.end()\n",
    "            else:\n",
    "                return (iKey, iCur+m.start())\n",
    "        else:\n",
    "            return (iKey, -1)\n",
    "    return (iKey, -1)\n",
    "#end def"
   ]
  },
  {
   "cell_type": "code",
   "execution_count": 106,
   "metadata": {
    "collapsed": true
   },
   "outputs": [],
   "source": [
    "def getAssetAlloc(sTxt):\n",
    "    iBgn, iEnd = getSectionRange(sTxt, '资产组合情况')\n",
    "    ls = re.findall(r'^[\\d\\s]*([^\\d\\s]+).+\\s([\\d\\.-]+)$', sTxt[iBgn:iEnd], flags=re.MULTILINE)\n",
    "    dAstAlloc = {}\n",
    "    for t in ls:\n",
    "        sType, sRatio = t\n",
    "        try:\n",
    "            fRatio = float(sRatio)\n",
    "        except Exception:\n",
    "            fRatio = 0.0\n",
    "        #end try\n",
    "        dAstAlloc[sType] = fRatio\n",
    "        if sType == '合计':\n",
    "            break\n",
    "    #end for\n",
    "    return dAstAlloc\n",
    "#end def"
   ]
  },
  {
   "cell_type": "code",
   "execution_count": 119,
   "metadata": {
    "collapsed": true
   },
   "outputs": [],
   "source": [
    "def getIndusAlloc(sTxt):\n",
    "    iBgn, iEnd = getSectionRange(sTxt, '按行业分类的股票')\n",
    "    ls = re.findall(r'^([A-Z])\\s.+\\s([\\d\\.-]+)$', sTxt[iBgn:iEnd], flags=re.MULTILINE)\n",
    "    dIndusAlloc = {}\n",
    "    for t in ls:\n",
    "        sType, sRatio = t\n",
    "        try:\n",
    "            fRatio = float(sRatio)\n",
    "        except Exception:\n",
    "            fRatio = 0.0\n",
    "        #end try\n",
    "        dIndusAlloc[sType] = fRatio\n",
    "        if sType == 'S':\n",
    "            break\n",
    "    #end for\n",
    "    return dIndusAlloc\n",
    "#end def"
   ]
  },
  {
   "cell_type": "code",
   "execution_count": 125,
   "metadata": {
    "collapsed": true
   },
   "outputs": [],
   "source": [
    "def getStkHldngs(sTxt):\n",
    "    iBgn, iEnd = getSectionRange(sTxt, '排序的前十名股票')\n",
    "    ls = re.findall(r'^(\\d{1,3})\\s+(\\d{6})\\s.+\\s([\\d\\.]+)$', sTxt[iBgn:iEnd], flags=re.MULTILINE)\n",
    "    dStkHld = {}\n",
    "    iPrvNo = 0\n",
    "    for t in ls:\n",
    "        #print(t)\n",
    "        sNo, sCode, sRatio = t\n",
    "        iNo = int(sNo)\n",
    "        # 如果序号不连续（可以容忍跳过一个序号）\n",
    "        #if (iNo > iPrvNo + 2) or (iNo < iPrvNo):\n",
    "        #    break\n",
    "        # 如果序号不连续\n",
    "        if iNo != iPrvNo + 1:\n",
    "            print('Some stock missing between {} and {}'.format(iPrvNo, iNo))\n",
    "        fRatio = float(sRatio)\n",
    "        dStkHld[sCode] = fRatio\n",
    "        iPrvNo = iNo\n",
    "    #end for\n",
    "    return dStkHld\n",
    "#end def"
   ]
  },
  {
   "cell_type": "code",
   "execution_count": 121,
   "metadata": {
    "collapsed": true
   },
   "outputs": [],
   "source": [
    "def getBondAlloc(sTxt):\n",
    "    iBgn, iEnd = getSectionRange(sTxt, '债券品种分类')\n",
    "    ls = re.findall(r'^[\\d\\s]*([^\\d\\s]+)\\s.+\\s([\\d\\.-]+)$', sTxt[iBgn:iEnd], flags=re.MULTILINE)\n",
    "    dAstAlloc = {}\n",
    "    for t in ls:\n",
    "        #print(t)\n",
    "        sType, sRatio = t\n",
    "        try:\n",
    "            fRatio = float(sRatio)\n",
    "        except Exception:\n",
    "            fRatio = 0.0\n",
    "        #end try\n",
    "        dAstAlloc[sType] = fRatio\n",
    "        if sType == '合计':\n",
    "            break\n",
    "    #end for\n",
    "    return dAstAlloc\n",
    "#end def"
   ]
  },
  {
   "cell_type": "code",
   "execution_count": 124,
   "metadata": {
    "collapsed": true
   },
   "outputs": [],
   "source": [
    "def getBondHldngs(sTxt):\n",
    "    iBgn, iEnd = getSectionRange(sTxt, '前五名债券')\n",
    "    ls = re.findall(r'^(\\d{1,3})\\s+(\\d+)\\s.+\\s([\\d\\.]+)$', sTxt[iBgn:iEnd], flags=re.MULTILINE)\n",
    "    dStkHld = {}\n",
    "    iPrvNo = 0\n",
    "    for t in ls:\n",
    "        #print(t)\n",
    "        sNo, sCode, sRatio = t\n",
    "        iNo = int(sNo)\n",
    "        if iNo != iPrvNo + 1:\n",
    "            print('Some bond missing between {} and {}'.format(iPrvNo, iNo))\n",
    "        fRatio = float(sRatio)\n",
    "        dStkHld[sCode] = fRatio\n",
    "        iPrvNo = iNo\n",
    "    #end for\n",
    "    return dStkHld\n",
    "#end def"
   ]
  },
  {
   "cell_type": "code",
   "execution_count": 81,
   "metadata": {},
   "outputs": [],
   "source": [
    "import py.UtilFunc as util"
   ]
  },
  {
   "cell_type": "code",
   "execution_count": 86,
   "metadata": {},
   "outputs": [
    {
     "data": {
      "text/plain": [
       "<module 'py.UtilFunc' from 'D:\\\\workspace\\\\Python\\\\FinDataFetcher\\\\py\\\\UtilFunc.py'>"
      ]
     },
     "execution_count": 86,
     "metadata": {},
     "output_type": "execute_result"
    }
   ],
   "source": [
    "import imp\n",
    "imp.reload(util)"
   ]
  },
  {
   "cell_type": "code",
   "execution_count": 156,
   "metadata": {
    "collapsed": true
   },
   "outputs": [],
   "source": [
    "def genFundDict(sTxt):\n",
    "    dFund = {}\n",
    "    dInfo = {}\n",
    "    sFundCode = getFundCode(sTxt)\n",
    "    dInfo['fund_code'] = sFundCode\n",
    "    dInfo['asset_alloc'] = getAssetAlloc(sTxt)\n",
    "    dInfo['indus_alloc'] = getIndusAlloc(sTxt)\n",
    "    dInfo['stk_hldngs'] = getStkHldngs(sTxt)\n",
    "    dInfo['bond_alloc'] = getBondAlloc(sTxt)\n",
    "    dInfo['bond_hldngs'] = getBondHldngs(sTxt)\n",
    "    dFund[sFundCode] = dInfo\n",
    "    util.writeTupleDict(dFund, r'D:\\Downloads\\Documents\\161222_dic.txt')"
   ]
  },
  {
   "cell_type": "code",
   "execution_count": 157,
   "metadata": {},
   "outputs": [],
   "source": [
    "genFundDict(sTxt)"
   ]
  },
  {
   "cell_type": "code",
   "execution_count": 129,
   "metadata": {},
   "outputs": [
    {
     "data": {
      "text/plain": [
       "{}"
      ]
     },
     "execution_count": 129,
     "metadata": {},
     "output_type": "execute_result"
    }
   ],
   "source": [
    "getIndusAlloc(sTxt)"
   ]
  },
  {
   "cell_type": "code",
   "execution_count": 130,
   "metadata": {},
   "outputs": [
    {
     "data": {
      "text/plain": [
       "(4408, 4422)"
      ]
     },
     "execution_count": 130,
     "metadata": {},
     "output_type": "execute_result"
    }
   ],
   "source": [
    "getSectionRange(sTxt, '按行业分类的股票')"
   ]
  },
  {
   "cell_type": "code",
   "execution_count": 131,
   "metadata": {},
   "outputs": [
    {
     "data": {
      "text/plain": [
       "'按行业分类的股票投资组合 \\n'"
      ]
     },
     "execution_count": 131,
     "metadata": {},
     "output_type": "execute_result"
    }
   ],
   "source": [
    "sTxt[4408: 4422]"
   ]
  },
  {
   "cell_type": "code",
   "execution_count": 149,
   "metadata": {
    "collapsed": true
   },
   "outputs": [],
   "source": [
    "m = re.search('(\\d{1,2}(?:\\.\\d{1,2})+)\\s', '3.14  ')"
   ]
  },
  {
   "cell_type": "code",
   "execution_count": 154,
   "metadata": {},
   "outputs": [
    {
     "data": {
      "text/plain": [
       "4"
      ]
     },
     "execution_count": 154,
     "metadata": {},
     "output_type": "execute_result"
    }
   ],
   "source": [
    "'3.14.15.9.26'.count('.')"
   ]
  },
  {
   "cell_type": "code",
   "execution_count": null,
   "metadata": {
    "collapsed": true
   },
   "outputs": [],
   "source": []
  }
 ],
 "metadata": {
  "kernelspec": {
   "display_name": "Python 3",
   "language": "python",
   "name": "python3"
  },
  "language_info": {
   "codemirror_mode": {
    "name": "ipython",
    "version": 3
   },
   "file_extension": ".py",
   "mimetype": "text/x-python",
   "name": "python",
   "nbconvert_exporter": "python",
   "pygments_lexer": "ipython3",
   "version": "3.6.2"
  }
 },
 "nbformat": 4,
 "nbformat_minor": 2
}
