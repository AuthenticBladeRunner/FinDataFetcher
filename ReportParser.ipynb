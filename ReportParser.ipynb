{
 "cells": [
  {
   "cell_type": "code",
   "execution_count": 1,
   "metadata": {
    "collapsed": true
   },
   "outputs": [],
   "source": [
    "import sys\n",
    "sys.path.append('D:\\\\workspace\\\\Python\\\\FinDataFetcher\\\\py')"
   ]
  },
  {
   "cell_type": "code",
   "execution_count": 2,
   "metadata": {
    "collapsed": true
   },
   "outputs": [],
   "source": [
    "from PdfReaper import PdfReaper\n",
    "import UtilFunc as util\n",
    "import re"
   ]
  },
  {
   "cell_type": "code",
   "execution_count": 3,
   "metadata": {
    "collapsed": true
   },
   "outputs": [],
   "source": [
    "sFundCode = '161116'\n",
    "sSrc = r'D:\\Downloads\\Documents\\{}.pdf'.format(sFundCode)\n",
    "sDes = r'D:\\Downloads\\Documents\\{}.txt'.format(sFundCode)"
   ]
  },
  {
   "cell_type": "code",
   "execution_count": 4,
   "metadata": {
    "collapsed": true
   },
   "outputs": [],
   "source": [
    "reaper = PdfReaper()"
   ]
  },
  {
   "cell_type": "code",
   "execution_count": 5,
   "metadata": {
    "collapsed": true
   },
   "outputs": [],
   "source": [
    "reaper.toText(sSrc, sDes)"
   ]
  },
  {
   "cell_type": "code",
   "execution_count": 53,
   "metadata": {
    "collapsed": true
   },
   "outputs": [],
   "source": [
    "with open(sDes, encoding='utf-8') as fl:\n",
    "    sTxt = fl.read()"
   ]
  },
  {
   "cell_type": "code",
   "execution_count": 10,
   "metadata": {
    "collapsed": true
   },
   "outputs": [],
   "source": [
    "def getFundCode(sTxt):\n",
    "    m = re.search(r'基金主代码\\s+?(\\d{6})', sTxt)\n",
    "    if m:\n",
    "        return m.group(1)\n",
    "    m = re.search(r'交易代码\\s+?(\\d{6})', sTxt)\n",
    "    if m:\n",
    "        return m.group(1)\n",
    "    return ''\n",
    "#end def"
   ]
  },
  {
   "cell_type": "code",
   "execution_count": 11,
   "metadata": {
    "collapsed": true
   },
   "outputs": [],
   "source": [
    "def getRangeToInnerSecEnd(sTxt, sKeywd):\n",
    "    iKey = sTxt.find(sKeywd)\n",
    "    iBgn = sTxt.rfind('\\n', 0, iKey)\n",
    "    sSecHead = sTxt[iBgn+1:iKey]\n",
    "    sCurSecNo = '1.0'\n",
    "    sSecNoRex = r'^(\\d{1,2}(?:\\.\\d{1,2})+)[^\\d\\.]'\n",
    "    m = re.search(sSecNoRex, sSecHead)\n",
    "    if m:\n",
    "        sCurSecNo = m.group(1)\n",
    "    # Find (innermost) section end\n",
    "    iCur = iKey\n",
    "    while True:\n",
    "        m = re.search(sSecNoRex, sTxt[iCur:], flags=re.MULTILINE)\n",
    "        if m:\n",
    "            sNxtSecNo = m.group(1)\n",
    "            if sNxtSecNo.count('.') > sCurSecNo.count('.'):\n",
    "                sCurSecNo = sNxtSecNo\n",
    "                iCur += m.end()\n",
    "            else:\n",
    "                return (iKey, iCur+m.start())\n",
    "        else:\n",
    "            return (iKey, -1)\n",
    "    return (iKey, -1)\n",
    "#end def"
   ]
  },
  {
   "cell_type": "code",
   "execution_count": 14,
   "metadata": {
    "collapsed": true
   },
   "outputs": [],
   "source": [
    "def getSectionRange(sTxt, sKeywd):\n",
    "    iKey = sTxt.find(sKeywd)\n",
    "    iBgn = sTxt.rfind('\\n', 0, iKey)\n",
    "    sSecHead = sTxt[iBgn+1:iKey]\n",
    "    sCurSecNo = '1.0'\n",
    "    sSecNoRex = r'^(\\d{1,2}(?:\\.\\d{1,2})+)[^\\d\\.]'\n",
    "    m = re.search(sSecNoRex, sSecHead)\n",
    "    if not m:\n",
    "        return (iKey, -1)\n",
    "    \n",
    "    sCurSecNo = m.group(1)\n",
    "    nPts = sCurSecNo.count('.')\n",
    "    sNxtSibRex = r'^(\\d{1,2}(?:\\.\\d{1,2}){' + str(nPts) + r'})[^\\d\\.]'\n",
    "    # Find next sibling section\n",
    "    m = re.search(sNxtSibRex, sTxt[iKey:], flags=re.MULTILINE)\n",
    "    if m:\n",
    "        return (iKey, iKey+m.start())\n",
    "    return (iKey, -1)\n",
    "#end def"
   ]
  },
  {
   "cell_type": "code",
   "execution_count": 13,
   "metadata": {
    "collapsed": true
   },
   "outputs": [],
   "source": [
    "def getAssetAlloc(sTxt):\n",
    "    iBgn, iEnd = getRangeToInnerSecEnd(sTxt, '资产组合情况')\n",
    "    ls = re.findall(r'^[\\d\\s]*([^\\d\\s]+).+\\s([\\d\\.-]+)$', sTxt[iBgn:iEnd], flags=re.MULTILINE)\n",
    "    dAstAlloc = {}\n",
    "    for t in ls:\n",
    "        sType, sRatio = t\n",
    "        try:\n",
    "            fRatio = float(sRatio)\n",
    "        except Exception:\n",
    "            fRatio = 0.0\n",
    "        #end try\n",
    "        dAstAlloc[sType] = fRatio\n",
    "        if sType == '合计':\n",
    "            break\n",
    "    #end for\n",
    "    return dAstAlloc\n",
    "#end def"
   ]
  },
  {
   "cell_type": "code",
   "execution_count": 14,
   "metadata": {
    "collapsed": true
   },
   "outputs": [],
   "source": [
    "def getIndusAlloc(sTxt):\n",
    "    iBgn, iEnd = getSectionRange(sTxt, '按行业分类的股票')\n",
    "    ls = re.findall(r'^([A-Z])\\s.+\\s([\\d\\.-]+)$', sTxt[iBgn:iEnd], flags=re.MULTILINE)\n",
    "    dIndusAlloc = {}\n",
    "    for t in ls:\n",
    "        sType, sRatio = t\n",
    "        try:\n",
    "            fRatio = float(sRatio)\n",
    "        except Exception:\n",
    "            fRatio = 0.0\n",
    "        #end try\n",
    "        if sType not in dIndusAlloc:\n",
    "            dIndusAlloc[sType] = fRatio\n",
    "        else:\n",
    "            dIndusAlloc[sType] += fRatio\n",
    "        #if sType == 'S':\n",
    "        #    break\n",
    "    #end for\n",
    "    return dIndusAlloc\n",
    "#end def"
   ]
  },
  {
   "cell_type": "code",
   "execution_count": 15,
   "metadata": {
    "collapsed": true
   },
   "outputs": [],
   "source": [
    "def getStkHldngs(sTxt):\n",
    "    iBgn, iEnd = getSectionRange(sTxt, '股票投资明细')\n",
    "    ls = re.findall(r'^(\\d{1,3})\\s+(\\d{6})\\s.+\\s([\\d\\.]+)$', sTxt[iBgn:iEnd], flags=re.MULTILINE)\n",
    "    dStkHld = {}\n",
    "    iPrvNo = 0\n",
    "    for t in ls:\n",
    "        #print(t)\n",
    "        sNo, sCode, sRatio = t\n",
    "        iNo = int(sNo)\n",
    "        # 如果序号不连续\n",
    "        if iNo != iPrvNo + 1 and iNo != 1:\n",
    "            print('Some stock missing between {} and {}'.format(iPrvNo, iNo))\n",
    "        fRatio = float(sRatio)\n",
    "        if sCode not in dStkHld:\n",
    "            dStkHld[sCode] = fRatio\n",
    "        else:\n",
    "            dStkHld[sCode] += fRatio\n",
    "        iPrvNo = iNo\n",
    "    #end for\n",
    "    return dStkHld\n",
    "#end def"
   ]
  },
  {
   "cell_type": "code",
   "execution_count": 49,
   "metadata": {
    "collapsed": true
   },
   "outputs": [],
   "source": [
    "def getForgnStks(sTxt):\n",
    "    iBgn, iEnd = getSectionRange(sTxt, '前十名股票')\n",
    "    ls = re.findall(r'^(\\d{1,3})\\s.+\\s(\\d{1,5}\\s*HK|\\S+\\s*US)\\s.+\\s([\\d\\.]+)$', sTxt[iBgn:iEnd], flags=re.MULTILINE)\n",
    "    dFrgnStk = {}\n",
    "    iPrvNo = 0\n",
    "    for t in ls:\n",
    "        #print(t)\n",
    "        sNo, sCode, sRatio = t\n",
    "        iNo = int(sNo)\n",
    "        # 如果序号不连续\n",
    "        if iNo != iPrvNo + 1 and iNo != 1:\n",
    "            print('Some stock missing between {} and {}'.format(iPrvNo, iNo))\n",
    "        fRatio = float(sRatio)\n",
    "        sSfx = sCode[-2:]\n",
    "        if sSfx == 'HK':\n",
    "            sCode = 'hk' + sCode[:-2].strip().zfill(5)\n",
    "        elif sSfx == 'US':\n",
    "            sCode = 'gb_' + sCode[:-2].strip().lower()\n",
    "        if sCode not in dFrgnStk:\n",
    "            dFrgnStk[sCode] = fRatio\n",
    "        else:\n",
    "            dFrgnStk[sCode] += fRatio\n",
    "        iPrvNo = iNo\n",
    "    #end for\n",
    "    return dFrgnStk\n",
    "#end def"
   ]
  },
  {
   "cell_type": "code",
   "execution_count": 16,
   "metadata": {
    "collapsed": true
   },
   "outputs": [],
   "source": [
    "def getBondAlloc(sTxt):\n",
    "    iBgn, iEnd = getRangeToInnerSecEnd(sTxt, '债券品种分类')\n",
    "    ls = re.findall(r'^[\\d\\s]*([^\\d\\s]+)\\s.+\\s([\\d\\.-]+)$', sTxt[iBgn:iEnd], flags=re.MULTILINE)\n",
    "    dAstAlloc = {}\n",
    "    for t in ls:\n",
    "        #print(t)\n",
    "        sType, sRatio = t\n",
    "        try:\n",
    "            fRatio = float(sRatio)\n",
    "        except Exception:\n",
    "            fRatio = 0.0\n",
    "        #end try\n",
    "        dAstAlloc[sType] = fRatio\n",
    "        if sType == '合计':\n",
    "            break\n",
    "    #end for\n",
    "    return dAstAlloc\n",
    "#end def"
   ]
  },
  {
   "cell_type": "code",
   "execution_count": 17,
   "metadata": {
    "collapsed": true
   },
   "outputs": [],
   "source": [
    "def getBondHldngs(sTxt):\n",
    "    iBgn, iEnd = getRangeToInnerSecEnd(sTxt, '前五名债券')\n",
    "    ls = re.findall(r'^(\\d{1,3})\\s+(\\d+)\\s.+\\s([\\d\\.]+)$', sTxt[iBgn:iEnd], flags=re.MULTILINE)\n",
    "    dStkHld = {}\n",
    "    iPrvNo = 0\n",
    "    for t in ls:\n",
    "        #print(t)\n",
    "        sNo, sCode, sRatio = t\n",
    "        iNo = int(sNo)\n",
    "        if iNo != iPrvNo + 1:\n",
    "            print('Some bond missing between {} and {}'.format(iPrvNo, iNo))\n",
    "        fRatio = float(sRatio)\n",
    "        dStkHld[sCode] = fRatio\n",
    "        iPrvNo = iNo\n",
    "    #end for\n",
    "    return dStkHld\n",
    "#end def"
   ]
  },
  {
   "cell_type": "code",
   "execution_count": null,
   "metadata": {
    "collapsed": true
   },
   "outputs": [],
   "source": [
    "import imp\n",
    "#imp.reload(util)\n",
    "imp.reload(PdfReaper)"
   ]
  },
  {
   "cell_type": "code",
   "execution_count": 18,
   "metadata": {
    "collapsed": true
   },
   "outputs": [],
   "source": [
    "def genFundDict(sTxt):\n",
    "    dFund = {}\n",
    "    dInfo = {}\n",
    "    sFundCode = getFundCode(sTxt)\n",
    "    dInfo['fund_code'] = sFundCode\n",
    "    dInfo['asset_alloc'] = getAssetAlloc(sTxt)\n",
    "    dInfo['indus_alloc'] = getIndusAlloc(sTxt)\n",
    "    dInfo['stk_hldngs'] = getStkHldngs(sTxt)\n",
    "    dInfo['forgn_stks'] = getForgnStks(sTxt)\n",
    "    dInfo['bond_alloc'] = getBondAlloc(sTxt)\n",
    "    dInfo['bond_hldngs'] = getBondHldngs(sTxt)\n",
    "    dFund[sFundCode] = dInfo\n",
    "    util.writeTupleDict(dFund, r'D:\\Downloads\\Documents\\{}_dic.txt'.format(sFundCode))"
   ]
  },
  {
   "cell_type": "code",
   "execution_count": 19,
   "metadata": {
    "collapsed": true
   },
   "outputs": [],
   "source": [
    "genFundDict(sTxt)"
   ]
  },
  {
   "cell_type": "code",
   "execution_count": 41,
   "metadata": {},
   "outputs": [
    {
     "data": {
      "text/plain": [
       "(6602, 6610)"
      ]
     },
     "execution_count": 41,
     "metadata": {},
     "output_type": "execute_result"
    }
   ],
   "source": [
    "getSectionRange(sTxt, '股票投资明细')"
   ]
  },
  {
   "cell_type": "code",
   "execution_count": 130,
   "metadata": {},
   "outputs": [
    {
     "data": {
      "text/plain": [
       "(4408, 4422)"
      ]
     },
     "execution_count": 130,
     "metadata": {},
     "output_type": "execute_result"
    }
   ],
   "source": [
    "getSectionRange(sTxt, '按行业分类的股票')"
   ]
  },
  {
   "cell_type": "code",
   "execution_count": 42,
   "metadata": {},
   "outputs": [
    {
     "data": {
      "text/plain": [
       "'股票投资明细 \\n'"
      ]
     },
     "execution_count": 42,
     "metadata": {},
     "output_type": "execute_result"
    }
   ],
   "source": [
    "sTxt[6602: 6610]"
   ]
  },
  {
   "cell_type": "code",
   "execution_count": 149,
   "metadata": {
    "collapsed": true
   },
   "outputs": [],
   "source": [
    "m = re.search('(\\d{1,2}(?:\\.\\d{1,2})+)\\s', '3.14  ')"
   ]
  },
  {
   "cell_type": "code",
   "execution_count": 154,
   "metadata": {},
   "outputs": [
    {
     "data": {
      "text/plain": [
       "4"
      ]
     },
     "execution_count": 154,
     "metadata": {},
     "output_type": "execute_result"
    }
   ],
   "source": [
    "'3.14.15.9.26'.count('.')"
   ]
  },
  {
   "cell_type": "code",
   "execution_count": 74,
   "metadata": {},
   "outputs": [
    {
     "data": {
      "text/plain": [
       "'gb_baba,8.18;hk00700,6.56;hk01099,6.04;hk00598,4.74;hk00152,4.72;hk01093,4.52;hk00939,3.73;hk02318,3.18;gb_bidu,3.12;hk06198,3.07'"
      ]
     },
     "execution_count": 74,
     "metadata": {},
     "output_type": "execute_result"
    }
   ],
   "source": [
    "# 160808 page 7; 160716 page 7, 8; 165510 page 8"
   ]
  },
  {
   "cell_type": "code",
   "execution_count": null,
   "metadata": {
    "collapsed": true
   },
   "outputs": [],
   "source": []
  }
 ],
 "metadata": {
  "kernelspec": {
   "display_name": "Python 3",
   "language": "python",
   "name": "python3"
  },
  "language_info": {
   "codemirror_mode": {
    "name": "ipython",
    "version": 3
   },
   "file_extension": ".py",
   "mimetype": "text/x-python",
   "name": "python",
   "nbconvert_exporter": "python",
   "pygments_lexer": "ipython3",
   "version": "3.6.2"
  }
 },
 "nbformat": 4,
 "nbformat_minor": 2
}
