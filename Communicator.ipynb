{
 "cells": [
  {
   "cell_type": "code",
   "execution_count": 3,
   "metadata": {
    "collapsed": true,
    "deletable": true,
    "editable": true
   },
   "outputs": [],
   "source": [
    "import socket\n",
    "import struct"
   ]
  },
  {
   "cell_type": "code",
   "execution_count": 2,
   "metadata": {
    "collapsed": true,
    "deletable": true,
    "editable": true
   },
   "outputs": [],
   "source": [
    "import socket\n",
    "import ast\n",
    "import struct\n",
    "from pprint import saferepr\n",
    "\n",
    "def Receiver():\n",
    "    # Echo server program\n",
    "    HOST = ''                 # Symbolic name meaning all available interfaces\n",
    "    PORT = 50007              # Arbitrary non-privileged port\n",
    "    with socket.socket(socket.AF_INET, socket.SOCK_STREAM) as skt:\n",
    "        skt.bind((HOST, PORT))\n",
    "        skt.listen(1)\n",
    "        conn, addr = skt.accept()\n",
    "        with conn:\n",
    "            print('Connected by', addr)\n",
    "            binTot = b''\n",
    "            iNum = 0\n",
    "            nRcvLen = 0\n",
    "            while True:\n",
    "                # An empty string will be received if the other side has closed connection (the official docs don't even mention what it returns when the connection is shut down...)\n",
    "                # Otherwise it is blocked if no trunk has arrived\n",
    "                trunk = conn.recv(4096)\n",
    "                if not trunk: break      # connection closed\n",
    "                #print(trunk.decode('utf-8'))\n",
    "                iNum += 1\n",
    "                if iNum == 1:      # First trunk\n",
    "                    nTotLen, = struct.unpack('!I', trunk[:4])      # The first integer indicates the total length of the data\n",
    "                    print('Received first trunk. Total data is expected to be {} bytes.'.format(nTotLen))\n",
    "                    trunk = trunk[4:]\n",
    "                \n",
    "                binTot += trunk\n",
    "                nTrkLen = len(trunk)\n",
    "                nRcvLen += nTrkLen\n",
    "                print('Received {} bytes for trunk {}, totally {} bytes received.'.format(nTrkLen, iNum, nRcvLen))\n",
    "                    \n",
    "                if nRcvLen >= nTotLen:  # Whole data has been received\n",
    "                    print('Whole data has been received, now interpret.')\n",
    "                    s = binTot.decode('utf-8')\n",
    "                    #print(s + '\\n\\n')\n",
    "                    d = ast.literal_eval(s)\n",
    "                    print(d)\n",
    "                    iNum = 0\n",
    "                    nRcvLen = 0\n",
    "                    binTot = b''\n",
    "                    \n",
    "                #end if\n",
    "            #conn.sendall('Goodbye'.encode('utf-8'))\n",
    "#end def\n",
    "\n",
    "def Sender():\n",
    "    HOST = 'localhost'    # The remote host\n",
    "    PORT = 50007              # The same port as used by the server\n",
    "    with socket.socket(socket.AF_INET, socket.SOCK_STREAM) as skt:\n",
    "        skt.connect((HOST, PORT))\n",
    "        print(\"Connected. Now you can send messages\\n\")\n",
    "        sMsg = ''\n",
    "        while sMsg.lower() != 'exit':\n",
    "            sMsg = input()\n",
    "            sMsg = saferepr(sMsg)\n",
    "            bMsg = sMsg.encode('utf-8')\n",
    "            bMsg = struct.pack('!I', len(bMsg)) + bMsg\n",
    "            skt.sendall(bMsg)\n",
    "        #data = skt.recv(1024)\n",
    "    #print('Received', data.decode('utf-8'))\n",
    "\n",
    "def sendMsg(vMsg):\n",
    "    HOST = 'localhost'    # The remote host\n",
    "    PORT = 50007              # The same port as used by the server\n",
    "    with socket.socket(socket.AF_INET, socket.SOCK_STREAM) as skt:\n",
    "        skt.connect((HOST, PORT))\n",
    "        print(\"Connected. Now send message\")\n",
    "        sMsg = saferepr(vMsg)\n",
    "        bMsg = sMsg.encode('utf-8')\n",
    "        # Add length prefix to message so the receiver can know where to end\n",
    "        # https://stackoverflow.com/questions/17667903/python-socket-receive-large-amount-of-data\n",
    "        bMsg = struct.pack('!I', len(bMsg)) + bMsg\n",
    "        skt.sendall(bMsg)\n"
   ]
  },
  {
   "cell_type": "code",
   "execution_count": 4,
   "metadata": {
    "collapsed": true,
    "deletable": true,
    "editable": true
   },
   "outputs": [],
   "source": [
    "d = {'dd': 3.1416}"
   ]
  },
  {
   "cell_type": "code",
   "execution_count": 8,
   "metadata": {
    "collapsed": false
   },
   "outputs": [],
   "source": [
    "bin = struct.pack('!I', 56) + '你好'.encode()"
   ]
  },
  {
   "cell_type": "code",
   "execution_count": 9,
   "metadata": {
    "collapsed": false
   },
   "outputs": [
    {
     "data": {
      "text/plain": [
       "b'\\x00\\x00\\x008\\xe4\\xbd\\xa0\\xe5\\xa5\\xbd'"
      ]
     },
     "execution_count": 9,
     "metadata": {},
     "output_type": "execute_result"
    }
   ],
   "source": [
    "bin"
   ]
  },
  {
   "cell_type": "code",
   "execution_count": 11,
   "metadata": {
    "collapsed": false
   },
   "outputs": [
    {
     "data": {
      "text/plain": [
       "(56,)"
      ]
     },
     "execution_count": 11,
     "metadata": {},
     "output_type": "execute_result"
    }
   ],
   "source": [
    "struct.unpack('!I', bin[:4])"
   ]
  },
  {
   "cell_type": "code",
   "execution_count": 12,
   "metadata": {
    "collapsed": false
   },
   "outputs": [
    {
     "data": {
      "text/plain": [
       "'你好'"
      ]
     },
     "execution_count": 12,
     "metadata": {},
     "output_type": "execute_result"
    }
   ],
   "source": [
    "bin[4:].decode()"
   ]
  },
  {
   "cell_type": "code",
   "execution_count": 19,
   "metadata": {
    "collapsed": true
   },
   "outputs": [],
   "source": [
    "iNum = 0"
   ]
  },
  {
   "cell_type": "code",
   "execution_count": 21,
   "metadata": {
    "collapsed": false
   },
   "outputs": [
    {
     "name": "stdout",
     "output_type": "stream",
     "text": [
      "d\n"
     ]
    }
   ],
   "source": [
    "if not iNum:\n",
    "    print(\"d\")"
   ]
  },
  {
   "cell_type": "code",
   "execution_count": null,
   "metadata": {
    "collapsed": true
   },
   "outputs": [],
   "source": []
  }
 ],
 "metadata": {
  "kernelspec": {
   "display_name": "Python 3",
   "language": "python",
   "name": "python3"
  },
  "language_info": {
   "codemirror_mode": {
    "name": "ipython",
    "version": 3
   },
   "file_extension": ".py",
   "mimetype": "text/x-python",
   "name": "python",
   "nbconvert_exporter": "python",
   "pygments_lexer": "ipython3",
   "version": "3.5.2"
  }
 },
 "nbformat": 4,
 "nbformat_minor": 2
}
